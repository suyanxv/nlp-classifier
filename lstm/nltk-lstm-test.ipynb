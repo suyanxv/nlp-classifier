{
 "cells": [
  {
   "cell_type": "markdown",
   "metadata": {},
   "source": [
    "# Text classification with LSTM (RNN)"
   ]
  },
  {
   "cell_type": "markdown",
   "metadata": {},
   "source": [
    "## Import Libraries"
   ]
  },
  {
   "cell_type": "code",
   "execution_count": 211,
   "metadata": {},
   "outputs": [
    {
     "name": "stderr",
     "output_type": "stream",
     "text": [
      "[nltk_data] Downloading package stopwords to\n",
      "[nltk_data]     C:\\Users\\idgca\\AppData\\Roaming\\nltk_data...\n",
      "[nltk_data]   Package stopwords is already up-to-date!\n"
     ]
    },
    {
     "data": {
      "text/plain": [
       "True"
      ]
     },
     "execution_count": 211,
     "metadata": {},
     "output_type": "execute_result"
    },
    {
     "data": {
      "text/html": [
       "        <script type=\"text/javascript\">\n",
       "        window.PlotlyConfig = {MathJaxConfig: 'local'};\n",
       "        if (window.MathJax) {MathJax.Hub.Config({SVG: {font: \"STIX-Web\"}});}\n",
       "        if (typeof require !== 'undefined') {\n",
       "        require.undef(\"plotly\");\n",
       "        requirejs.config({\n",
       "            paths: {\n",
       "                'plotly': ['https://cdn.plot.ly/plotly-latest.min']\n",
       "            }\n",
       "        });\n",
       "        require(['plotly'], function(Plotly) {\n",
       "            window._Plotly = Plotly;\n",
       "        });\n",
       "        }\n",
       "        </script>\n",
       "        "
      ]
     },
     "metadata": {},
     "output_type": "display_data"
    }
   ],
   "source": [
    "import numpy as np \n",
    "import pandas as pd\n",
    "import matplotlib.pyplot as plt\n",
    "import seaborn as sns\n",
    "from keras.preprocessing.text import Tokenizer\n",
    "from keras.preprocessing.sequence import pad_sequences\n",
    "from keras.models import Sequential\n",
    "from keras.layers import Dense, Embedding, LSTM, SpatialDropout1D\n",
    "from keras.utils.np_utils import to_categorical\n",
    "from keras.callbacks import EarlyStopping\n",
    "from keras.layers import Dropout\n",
    "\n",
    "from sklearn.model_selection import train_test_split\n",
    "from sklearn.feature_extraction.text import CountVectorizer\n",
    "from sklearn.feature_extraction.text import TfidfTransformer\n",
    "from sklearn.naive_bayes import MultinomialNB\n",
    "from sklearn.pipeline import Pipeline\n",
    "from sklearn.linear_model import SGDClassifier\n",
    "from sklearn.model_selection import GridSearchCV\n",
    "\n",
    "import re\n",
    "import nltk\n",
    "nltk.download('stopwords')\n",
    "from nltk.corpus import stopwords\n",
    "from nltk import word_tokenize\n",
    "STOPWORDS = set(stopwords.words('english'))\n",
    "from bs4 import BeautifulSoup\n",
    "import plotly.graph_objs as go\n",
    "# import plotly.plotly as py\n",
    "import chart_studio.plotly as py\n",
    "import cufflinks\n",
    "from IPython.core.interactiveshell import InteractiveShell\n",
    "import plotly.figure_factory as ff\n",
    "InteractiveShell.ast_node_interactivity = 'all'\n",
    "from plotly.offline import iplot\n",
    "import matplotlib as mpl\n",
    "from matplotlib import pyplot\n",
    "import os\n",
    "import jieba # 中文分词组件\n",
    "cufflinks.go_offline()\n",
    "cufflinks.set_config_file(world_readable=True, theme='pearl')"
   ]
  },
  {
   "cell_type": "markdown",
   "metadata": {},
   "source": [
    "## Import data"
   ]
  },
  {
   "cell_type": "code",
   "execution_count": 57,
   "metadata": {},
   "outputs": [],
   "source": [
    "def read_data(rootdir, target_name, target_index):\n",
    "    \n",
    "    for root, subdirs, files in os.walk(rootdir):\n",
    "        for file in files:\n",
    "            path = root+'/'+file\n",
    "            with open(path, encoding=\"utf8\") as f:\n",
    "                input_file = f.read()\n",
    "                data.append(input_file)\n",
    "                target_names.append(target_name)\n",
    "                target.append(target_index)\n",
    "\n",
    "data = []\n",
    "target_names = []\n",
    "target = []\n",
    "read_data(\"data/classification_data_v3/中性\", \"中性\", 0)\n",
    "read_data(\"data/classification_data_v3/买入\", \"买入\", 1)\n",
    "read_data(\"data/classification_data_v3/卖出\", \"卖出\", 2)"
   ]
  },
  {
   "cell_type": "code",
   "execution_count": 58,
   "metadata": {},
   "outputs": [],
   "source": [
    "# combine data to single dataframe\n",
    "df = pd.DataFrame()\n",
    "df['data'] = data\n",
    "df['target_names'] = target_names\n",
    "df['target'] = target\n"
   ]
  },
  {
   "cell_type": "code",
   "execution_count": 59,
   "metadata": {},
   "outputs": [
    {
     "name": "stdout",
     "output_type": "stream",
     "text": [
      "<class 'pandas.core.frame.DataFrame'>\n",
      "RangeIndex: 23769 entries, 0 to 23768\n",
      "Data columns (total 3 columns):\n",
      " #   Column        Non-Null Count  Dtype \n",
      "---  ------        --------------  ----- \n",
      " 0   data          23769 non-null  object\n",
      " 1   target_names  23769 non-null  object\n",
      " 2   target        23769 non-null  int64 \n",
      "dtypes: int64(1), object(2)\n",
      "memory usage: 557.2+ KB\n"
     ]
    }
   ],
   "source": [
    "df.info()"
   ]
  },
  {
   "cell_type": "code",
   "execution_count": 60,
   "metadata": {},
   "outputs": [
    {
     "data": {
      "text/plain": [
       "买入    17123\n",
       "中性     6634\n",
       "卖出       12\n",
       "Name: target_names, dtype: int64"
      ]
     },
     "execution_count": 60,
     "metadata": {},
     "output_type": "execute_result"
    },
    {
     "data": {
      "text/plain": [
       "1    17123\n",
       "0     6634\n",
       "2       12\n",
       "Name: target, dtype: int64"
      ]
     },
     "execution_count": 60,
     "metadata": {},
     "output_type": "execute_result"
    }
   ],
   "source": [
    "df.target_names.value_counts()\n",
    "df.target.value_counts()"
   ]
  },
  {
   "cell_type": "markdown",
   "metadata": {},
   "source": [
    "## Data exploration"
   ]
  },
  {
   "cell_type": "code",
   "execution_count": 62,
   "metadata": {},
   "outputs": [
    {
     "data": {
      "application/vnd.plotly.v1+json": {
       "config": {
        "linkText": "Export to plot.ly",
        "plotlyServerURL": "https://plot.ly",
        "showLink": true
       },
       "data": [
        {
         "marker": {
          "color": "rgba(255, 153, 51, 0.6)",
          "line": {
           "color": "rgba(255, 153, 51, 1.0)",
           "width": 1
          }
         },
         "name": "target_names",
         "orientation": "v",
         "text": "",
         "type": "bar",
         "x": [
          "买入",
          "中性",
          "卖出"
         ],
         "y": [
          17123,
          6634,
          12
         ]
        }
       ],
       "layout": {
        "legend": {
         "bgcolor": "#F5F6F9",
         "font": {
          "color": "#4D5663"
         }
        },
        "paper_bgcolor": "#F5F6F9",
        "plot_bgcolor": "#F5F6F9",
        "template": {
         "data": {
          "bar": [
           {
            "error_x": {
             "color": "#2a3f5f"
            },
            "error_y": {
             "color": "#2a3f5f"
            },
            "marker": {
             "line": {
              "color": "#E5ECF6",
              "width": 0.5
             }
            },
            "type": "bar"
           }
          ],
          "barpolar": [
           {
            "marker": {
             "line": {
              "color": "#E5ECF6",
              "width": 0.5
             }
            },
            "type": "barpolar"
           }
          ],
          "carpet": [
           {
            "aaxis": {
             "endlinecolor": "#2a3f5f",
             "gridcolor": "white",
             "linecolor": "white",
             "minorgridcolor": "white",
             "startlinecolor": "#2a3f5f"
            },
            "baxis": {
             "endlinecolor": "#2a3f5f",
             "gridcolor": "white",
             "linecolor": "white",
             "minorgridcolor": "white",
             "startlinecolor": "#2a3f5f"
            },
            "type": "carpet"
           }
          ],
          "choropleth": [
           {
            "colorbar": {
             "outlinewidth": 0,
             "ticks": ""
            },
            "type": "choropleth"
           }
          ],
          "contour": [
           {
            "colorbar": {
             "outlinewidth": 0,
             "ticks": ""
            },
            "colorscale": [
             [
              0,
              "#0d0887"
             ],
             [
              0.1111111111111111,
              "#46039f"
             ],
             [
              0.2222222222222222,
              "#7201a8"
             ],
             [
              0.3333333333333333,
              "#9c179e"
             ],
             [
              0.4444444444444444,
              "#bd3786"
             ],
             [
              0.5555555555555556,
              "#d8576b"
             ],
             [
              0.6666666666666666,
              "#ed7953"
             ],
             [
              0.7777777777777778,
              "#fb9f3a"
             ],
             [
              0.8888888888888888,
              "#fdca26"
             ],
             [
              1,
              "#f0f921"
             ]
            ],
            "type": "contour"
           }
          ],
          "contourcarpet": [
           {
            "colorbar": {
             "outlinewidth": 0,
             "ticks": ""
            },
            "type": "contourcarpet"
           }
          ],
          "heatmap": [
           {
            "colorbar": {
             "outlinewidth": 0,
             "ticks": ""
            },
            "colorscale": [
             [
              0,
              "#0d0887"
             ],
             [
              0.1111111111111111,
              "#46039f"
             ],
             [
              0.2222222222222222,
              "#7201a8"
             ],
             [
              0.3333333333333333,
              "#9c179e"
             ],
             [
              0.4444444444444444,
              "#bd3786"
             ],
             [
              0.5555555555555556,
              "#d8576b"
             ],
             [
              0.6666666666666666,
              "#ed7953"
             ],
             [
              0.7777777777777778,
              "#fb9f3a"
             ],
             [
              0.8888888888888888,
              "#fdca26"
             ],
             [
              1,
              "#f0f921"
             ]
            ],
            "type": "heatmap"
           }
          ],
          "heatmapgl": [
           {
            "colorbar": {
             "outlinewidth": 0,
             "ticks": ""
            },
            "colorscale": [
             [
              0,
              "#0d0887"
             ],
             [
              0.1111111111111111,
              "#46039f"
             ],
             [
              0.2222222222222222,
              "#7201a8"
             ],
             [
              0.3333333333333333,
              "#9c179e"
             ],
             [
              0.4444444444444444,
              "#bd3786"
             ],
             [
              0.5555555555555556,
              "#d8576b"
             ],
             [
              0.6666666666666666,
              "#ed7953"
             ],
             [
              0.7777777777777778,
              "#fb9f3a"
             ],
             [
              0.8888888888888888,
              "#fdca26"
             ],
             [
              1,
              "#f0f921"
             ]
            ],
            "type": "heatmapgl"
           }
          ],
          "histogram": [
           {
            "marker": {
             "colorbar": {
              "outlinewidth": 0,
              "ticks": ""
             }
            },
            "type": "histogram"
           }
          ],
          "histogram2d": [
           {
            "colorbar": {
             "outlinewidth": 0,
             "ticks": ""
            },
            "colorscale": [
             [
              0,
              "#0d0887"
             ],
             [
              0.1111111111111111,
              "#46039f"
             ],
             [
              0.2222222222222222,
              "#7201a8"
             ],
             [
              0.3333333333333333,
              "#9c179e"
             ],
             [
              0.4444444444444444,
              "#bd3786"
             ],
             [
              0.5555555555555556,
              "#d8576b"
             ],
             [
              0.6666666666666666,
              "#ed7953"
             ],
             [
              0.7777777777777778,
              "#fb9f3a"
             ],
             [
              0.8888888888888888,
              "#fdca26"
             ],
             [
              1,
              "#f0f921"
             ]
            ],
            "type": "histogram2d"
           }
          ],
          "histogram2dcontour": [
           {
            "colorbar": {
             "outlinewidth": 0,
             "ticks": ""
            },
            "colorscale": [
             [
              0,
              "#0d0887"
             ],
             [
              0.1111111111111111,
              "#46039f"
             ],
             [
              0.2222222222222222,
              "#7201a8"
             ],
             [
              0.3333333333333333,
              "#9c179e"
             ],
             [
              0.4444444444444444,
              "#bd3786"
             ],
             [
              0.5555555555555556,
              "#d8576b"
             ],
             [
              0.6666666666666666,
              "#ed7953"
             ],
             [
              0.7777777777777778,
              "#fb9f3a"
             ],
             [
              0.8888888888888888,
              "#fdca26"
             ],
             [
              1,
              "#f0f921"
             ]
            ],
            "type": "histogram2dcontour"
           }
          ],
          "mesh3d": [
           {
            "colorbar": {
             "outlinewidth": 0,
             "ticks": ""
            },
            "type": "mesh3d"
           }
          ],
          "parcoords": [
           {
            "line": {
             "colorbar": {
              "outlinewidth": 0,
              "ticks": ""
             }
            },
            "type": "parcoords"
           }
          ],
          "pie": [
           {
            "automargin": true,
            "type": "pie"
           }
          ],
          "scatter": [
           {
            "marker": {
             "colorbar": {
              "outlinewidth": 0,
              "ticks": ""
             }
            },
            "type": "scatter"
           }
          ],
          "scatter3d": [
           {
            "line": {
             "colorbar": {
              "outlinewidth": 0,
              "ticks": ""
             }
            },
            "marker": {
             "colorbar": {
              "outlinewidth": 0,
              "ticks": ""
             }
            },
            "type": "scatter3d"
           }
          ],
          "scattercarpet": [
           {
            "marker": {
             "colorbar": {
              "outlinewidth": 0,
              "ticks": ""
             }
            },
            "type": "scattercarpet"
           }
          ],
          "scattergeo": [
           {
            "marker": {
             "colorbar": {
              "outlinewidth": 0,
              "ticks": ""
             }
            },
            "type": "scattergeo"
           }
          ],
          "scattergl": [
           {
            "marker": {
             "colorbar": {
              "outlinewidth": 0,
              "ticks": ""
             }
            },
            "type": "scattergl"
           }
          ],
          "scattermapbox": [
           {
            "marker": {
             "colorbar": {
              "outlinewidth": 0,
              "ticks": ""
             }
            },
            "type": "scattermapbox"
           }
          ],
          "scatterpolar": [
           {
            "marker": {
             "colorbar": {
              "outlinewidth": 0,
              "ticks": ""
             }
            },
            "type": "scatterpolar"
           }
          ],
          "scatterpolargl": [
           {
            "marker": {
             "colorbar": {
              "outlinewidth": 0,
              "ticks": ""
             }
            },
            "type": "scatterpolargl"
           }
          ],
          "scatterternary": [
           {
            "marker": {
             "colorbar": {
              "outlinewidth": 0,
              "ticks": ""
             }
            },
            "type": "scatterternary"
           }
          ],
          "surface": [
           {
            "colorbar": {
             "outlinewidth": 0,
             "ticks": ""
            },
            "colorscale": [
             [
              0,
              "#0d0887"
             ],
             [
              0.1111111111111111,
              "#46039f"
             ],
             [
              0.2222222222222222,
              "#7201a8"
             ],
             [
              0.3333333333333333,
              "#9c179e"
             ],
             [
              0.4444444444444444,
              "#bd3786"
             ],
             [
              0.5555555555555556,
              "#d8576b"
             ],
             [
              0.6666666666666666,
              "#ed7953"
             ],
             [
              0.7777777777777778,
              "#fb9f3a"
             ],
             [
              0.8888888888888888,
              "#fdca26"
             ],
             [
              1,
              "#f0f921"
             ]
            ],
            "type": "surface"
           }
          ],
          "table": [
           {
            "cells": {
             "fill": {
              "color": "#EBF0F8"
             },
             "line": {
              "color": "white"
             }
            },
            "header": {
             "fill": {
              "color": "#C8D4E3"
             },
             "line": {
              "color": "white"
             }
            },
            "type": "table"
           }
          ]
         },
         "layout": {
          "annotationdefaults": {
           "arrowcolor": "#2a3f5f",
           "arrowhead": 0,
           "arrowwidth": 1
          },
          "coloraxis": {
           "colorbar": {
            "outlinewidth": 0,
            "ticks": ""
           }
          },
          "colorscale": {
           "diverging": [
            [
             0,
             "#8e0152"
            ],
            [
             0.1,
             "#c51b7d"
            ],
            [
             0.2,
             "#de77ae"
            ],
            [
             0.3,
             "#f1b6da"
            ],
            [
             0.4,
             "#fde0ef"
            ],
            [
             0.5,
             "#f7f7f7"
            ],
            [
             0.6,
             "#e6f5d0"
            ],
            [
             0.7,
             "#b8e186"
            ],
            [
             0.8,
             "#7fbc41"
            ],
            [
             0.9,
             "#4d9221"
            ],
            [
             1,
             "#276419"
            ]
           ],
           "sequential": [
            [
             0,
             "#0d0887"
            ],
            [
             0.1111111111111111,
             "#46039f"
            ],
            [
             0.2222222222222222,
             "#7201a8"
            ],
            [
             0.3333333333333333,
             "#9c179e"
            ],
            [
             0.4444444444444444,
             "#bd3786"
            ],
            [
             0.5555555555555556,
             "#d8576b"
            ],
            [
             0.6666666666666666,
             "#ed7953"
            ],
            [
             0.7777777777777778,
             "#fb9f3a"
            ],
            [
             0.8888888888888888,
             "#fdca26"
            ],
            [
             1,
             "#f0f921"
            ]
           ],
           "sequentialminus": [
            [
             0,
             "#0d0887"
            ],
            [
             0.1111111111111111,
             "#46039f"
            ],
            [
             0.2222222222222222,
             "#7201a8"
            ],
            [
             0.3333333333333333,
             "#9c179e"
            ],
            [
             0.4444444444444444,
             "#bd3786"
            ],
            [
             0.5555555555555556,
             "#d8576b"
            ],
            [
             0.6666666666666666,
             "#ed7953"
            ],
            [
             0.7777777777777778,
             "#fb9f3a"
            ],
            [
             0.8888888888888888,
             "#fdca26"
            ],
            [
             1,
             "#f0f921"
            ]
           ]
          },
          "colorway": [
           "#636efa",
           "#EF553B",
           "#00cc96",
           "#ab63fa",
           "#FFA15A",
           "#19d3f3",
           "#FF6692",
           "#B6E880",
           "#FF97FF",
           "#FECB52"
          ],
          "font": {
           "color": "#2a3f5f"
          },
          "geo": {
           "bgcolor": "white",
           "lakecolor": "white",
           "landcolor": "#E5ECF6",
           "showlakes": true,
           "showland": true,
           "subunitcolor": "white"
          },
          "hoverlabel": {
           "align": "left"
          },
          "hovermode": "closest",
          "mapbox": {
           "style": "light"
          },
          "paper_bgcolor": "white",
          "plot_bgcolor": "#E5ECF6",
          "polar": {
           "angularaxis": {
            "gridcolor": "white",
            "linecolor": "white",
            "ticks": ""
           },
           "bgcolor": "#E5ECF6",
           "radialaxis": {
            "gridcolor": "white",
            "linecolor": "white",
            "ticks": ""
           }
          },
          "scene": {
           "xaxis": {
            "backgroundcolor": "#E5ECF6",
            "gridcolor": "white",
            "gridwidth": 2,
            "linecolor": "white",
            "showbackground": true,
            "ticks": "",
            "zerolinecolor": "white"
           },
           "yaxis": {
            "backgroundcolor": "#E5ECF6",
            "gridcolor": "white",
            "gridwidth": 2,
            "linecolor": "white",
            "showbackground": true,
            "ticks": "",
            "zerolinecolor": "white"
           },
           "zaxis": {
            "backgroundcolor": "#E5ECF6",
            "gridcolor": "white",
            "gridwidth": 2,
            "linecolor": "white",
            "showbackground": true,
            "ticks": "",
            "zerolinecolor": "white"
           }
          },
          "shapedefaults": {
           "line": {
            "color": "#2a3f5f"
           }
          },
          "ternary": {
           "aaxis": {
            "gridcolor": "white",
            "linecolor": "white",
            "ticks": ""
           },
           "baxis": {
            "gridcolor": "white",
            "linecolor": "white",
            "ticks": ""
           },
           "bgcolor": "#E5ECF6",
           "caxis": {
            "gridcolor": "white",
            "linecolor": "white",
            "ticks": ""
           }
          },
          "title": {
           "x": 0.05
          },
          "xaxis": {
           "automargin": true,
           "gridcolor": "white",
           "linecolor": "white",
           "ticks": "",
           "title": {
            "standoff": 15
           },
           "zerolinecolor": "white",
           "zerolinewidth": 2
          },
          "yaxis": {
           "automargin": true,
           "gridcolor": "white",
           "linecolor": "white",
           "ticks": "",
           "title": {
            "standoff": 15
           },
           "zerolinecolor": "white",
           "zerolinewidth": 2
          }
         }
        },
        "title": {
         "font": {
          "color": "#4D5663"
         },
         "text": "Number of Documents in each category"
        },
        "xaxis": {
         "gridcolor": "#E1E5ED",
         "showgrid": true,
         "tickfont": {
          "color": "#4D5663"
         },
         "title": {
          "font": {
           "color": "#4D5663"
          },
          "text": ""
         },
         "zerolinecolor": "#E1E5ED"
        },
        "yaxis": {
         "gridcolor": "#E1E5ED",
         "showgrid": true,
         "tickfont": {
          "color": "#4D5663"
         },
         "title": {
          "font": {
           "color": "#4D5663"
          },
          "text": "Number of Documents"
         },
         "zerolinecolor": "#E1E5ED"
        }
       }
      },
      "text/html": [
       "<div>\n",
       "        \n",
       "        \n",
       "            <div id=\"d5d7e6d4-a5d2-4842-a7c5-ef29c88677ba\" class=\"plotly-graph-div\" style=\"height:525px; width:100%;\"></div>\n",
       "            <script type=\"text/javascript\">\n",
       "                require([\"plotly\"], function(Plotly) {\n",
       "                    window.PLOTLYENV=window.PLOTLYENV || {};\n",
       "                    window.PLOTLYENV.BASE_URL='https://plot.ly';\n",
       "                    \n",
       "                if (document.getElementById(\"d5d7e6d4-a5d2-4842-a7c5-ef29c88677ba\")) {\n",
       "                    Plotly.newPlot(\n",
       "                        'd5d7e6d4-a5d2-4842-a7c5-ef29c88677ba',\n",
       "                        [{\"marker\": {\"color\": \"rgba(255, 153, 51, 0.6)\", \"line\": {\"color\": \"rgba(255, 153, 51, 1.0)\", \"width\": 1}}, \"name\": \"target_names\", \"orientation\": \"v\", \"text\": \"\", \"type\": \"bar\", \"x\": [\"\\u4e70\\u5165\", \"\\u4e2d\\u6027\", \"\\u5356\\u51fa\"], \"y\": [17123, 6634, 12]}],\n",
       "                        {\"legend\": {\"bgcolor\": \"#F5F6F9\", \"font\": {\"color\": \"#4D5663\"}}, \"paper_bgcolor\": \"#F5F6F9\", \"plot_bgcolor\": \"#F5F6F9\", \"template\": {\"data\": {\"bar\": [{\"error_x\": {\"color\": \"#2a3f5f\"}, \"error_y\": {\"color\": \"#2a3f5f\"}, \"marker\": {\"line\": {\"color\": \"#E5ECF6\", \"width\": 0.5}}, \"type\": \"bar\"}], \"barpolar\": [{\"marker\": {\"line\": {\"color\": \"#E5ECF6\", \"width\": 0.5}}, \"type\": \"barpolar\"}], \"carpet\": [{\"aaxis\": {\"endlinecolor\": \"#2a3f5f\", \"gridcolor\": \"white\", \"linecolor\": \"white\", \"minorgridcolor\": \"white\", \"startlinecolor\": \"#2a3f5f\"}, \"baxis\": {\"endlinecolor\": \"#2a3f5f\", \"gridcolor\": \"white\", \"linecolor\": \"white\", \"minorgridcolor\": \"white\", \"startlinecolor\": \"#2a3f5f\"}, \"type\": \"carpet\"}], \"choropleth\": [{\"colorbar\": {\"outlinewidth\": 0, \"ticks\": \"\"}, \"type\": \"choropleth\"}], \"contour\": [{\"colorbar\": {\"outlinewidth\": 0, \"ticks\": \"\"}, \"colorscale\": [[0.0, \"#0d0887\"], [0.1111111111111111, \"#46039f\"], [0.2222222222222222, \"#7201a8\"], [0.3333333333333333, \"#9c179e\"], [0.4444444444444444, \"#bd3786\"], [0.5555555555555556, \"#d8576b\"], [0.6666666666666666, \"#ed7953\"], [0.7777777777777778, \"#fb9f3a\"], [0.8888888888888888, \"#fdca26\"], [1.0, \"#f0f921\"]], \"type\": \"contour\"}], \"contourcarpet\": [{\"colorbar\": {\"outlinewidth\": 0, \"ticks\": \"\"}, \"type\": \"contourcarpet\"}], \"heatmap\": [{\"colorbar\": {\"outlinewidth\": 0, \"ticks\": \"\"}, \"colorscale\": [[0.0, \"#0d0887\"], [0.1111111111111111, \"#46039f\"], [0.2222222222222222, \"#7201a8\"], [0.3333333333333333, \"#9c179e\"], [0.4444444444444444, \"#bd3786\"], [0.5555555555555556, \"#d8576b\"], [0.6666666666666666, \"#ed7953\"], [0.7777777777777778, \"#fb9f3a\"], [0.8888888888888888, \"#fdca26\"], [1.0, \"#f0f921\"]], \"type\": \"heatmap\"}], \"heatmapgl\": [{\"colorbar\": {\"outlinewidth\": 0, \"ticks\": \"\"}, \"colorscale\": [[0.0, \"#0d0887\"], [0.1111111111111111, \"#46039f\"], [0.2222222222222222, \"#7201a8\"], [0.3333333333333333, \"#9c179e\"], [0.4444444444444444, \"#bd3786\"], [0.5555555555555556, \"#d8576b\"], [0.6666666666666666, \"#ed7953\"], [0.7777777777777778, \"#fb9f3a\"], [0.8888888888888888, \"#fdca26\"], [1.0, \"#f0f921\"]], \"type\": \"heatmapgl\"}], \"histogram\": [{\"marker\": {\"colorbar\": {\"outlinewidth\": 0, \"ticks\": \"\"}}, \"type\": \"histogram\"}], \"histogram2d\": [{\"colorbar\": {\"outlinewidth\": 0, \"ticks\": \"\"}, \"colorscale\": [[0.0, \"#0d0887\"], [0.1111111111111111, \"#46039f\"], [0.2222222222222222, \"#7201a8\"], [0.3333333333333333, \"#9c179e\"], [0.4444444444444444, \"#bd3786\"], [0.5555555555555556, \"#d8576b\"], [0.6666666666666666, \"#ed7953\"], [0.7777777777777778, \"#fb9f3a\"], [0.8888888888888888, \"#fdca26\"], [1.0, \"#f0f921\"]], \"type\": \"histogram2d\"}], \"histogram2dcontour\": [{\"colorbar\": {\"outlinewidth\": 0, \"ticks\": \"\"}, \"colorscale\": [[0.0, \"#0d0887\"], [0.1111111111111111, \"#46039f\"], [0.2222222222222222, \"#7201a8\"], [0.3333333333333333, \"#9c179e\"], [0.4444444444444444, \"#bd3786\"], [0.5555555555555556, \"#d8576b\"], [0.6666666666666666, \"#ed7953\"], [0.7777777777777778, \"#fb9f3a\"], [0.8888888888888888, \"#fdca26\"], [1.0, \"#f0f921\"]], \"type\": \"histogram2dcontour\"}], \"mesh3d\": [{\"colorbar\": {\"outlinewidth\": 0, \"ticks\": \"\"}, \"type\": \"mesh3d\"}], \"parcoords\": [{\"line\": {\"colorbar\": {\"outlinewidth\": 0, \"ticks\": \"\"}}, \"type\": \"parcoords\"}], \"pie\": [{\"automargin\": true, \"type\": \"pie\"}], \"scatter\": [{\"marker\": {\"colorbar\": {\"outlinewidth\": 0, \"ticks\": \"\"}}, \"type\": \"scatter\"}], \"scatter3d\": [{\"line\": {\"colorbar\": {\"outlinewidth\": 0, \"ticks\": \"\"}}, \"marker\": {\"colorbar\": {\"outlinewidth\": 0, \"ticks\": \"\"}}, \"type\": \"scatter3d\"}], \"scattercarpet\": [{\"marker\": {\"colorbar\": {\"outlinewidth\": 0, \"ticks\": \"\"}}, \"type\": \"scattercarpet\"}], \"scattergeo\": [{\"marker\": {\"colorbar\": {\"outlinewidth\": 0, \"ticks\": \"\"}}, \"type\": \"scattergeo\"}], \"scattergl\": [{\"marker\": {\"colorbar\": {\"outlinewidth\": 0, \"ticks\": \"\"}}, \"type\": \"scattergl\"}], \"scattermapbox\": [{\"marker\": {\"colorbar\": {\"outlinewidth\": 0, \"ticks\": \"\"}}, \"type\": \"scattermapbox\"}], \"scatterpolar\": [{\"marker\": {\"colorbar\": {\"outlinewidth\": 0, \"ticks\": \"\"}}, \"type\": \"scatterpolar\"}], \"scatterpolargl\": [{\"marker\": {\"colorbar\": {\"outlinewidth\": 0, \"ticks\": \"\"}}, \"type\": \"scatterpolargl\"}], \"scatterternary\": [{\"marker\": {\"colorbar\": {\"outlinewidth\": 0, \"ticks\": \"\"}}, \"type\": \"scatterternary\"}], \"surface\": [{\"colorbar\": {\"outlinewidth\": 0, \"ticks\": \"\"}, \"colorscale\": [[0.0, \"#0d0887\"], [0.1111111111111111, \"#46039f\"], [0.2222222222222222, \"#7201a8\"], [0.3333333333333333, \"#9c179e\"], [0.4444444444444444, \"#bd3786\"], [0.5555555555555556, \"#d8576b\"], [0.6666666666666666, \"#ed7953\"], [0.7777777777777778, \"#fb9f3a\"], [0.8888888888888888, \"#fdca26\"], [1.0, \"#f0f921\"]], \"type\": \"surface\"}], \"table\": [{\"cells\": {\"fill\": {\"color\": \"#EBF0F8\"}, \"line\": {\"color\": \"white\"}}, \"header\": {\"fill\": {\"color\": \"#C8D4E3\"}, \"line\": {\"color\": \"white\"}}, \"type\": \"table\"}]}, \"layout\": {\"annotationdefaults\": {\"arrowcolor\": \"#2a3f5f\", \"arrowhead\": 0, \"arrowwidth\": 1}, \"coloraxis\": {\"colorbar\": {\"outlinewidth\": 0, \"ticks\": \"\"}}, \"colorscale\": {\"diverging\": [[0, \"#8e0152\"], [0.1, \"#c51b7d\"], [0.2, \"#de77ae\"], [0.3, \"#f1b6da\"], [0.4, \"#fde0ef\"], [0.5, \"#f7f7f7\"], [0.6, \"#e6f5d0\"], [0.7, \"#b8e186\"], [0.8, \"#7fbc41\"], [0.9, \"#4d9221\"], [1, \"#276419\"]], \"sequential\": [[0.0, \"#0d0887\"], [0.1111111111111111, \"#46039f\"], [0.2222222222222222, \"#7201a8\"], [0.3333333333333333, \"#9c179e\"], [0.4444444444444444, \"#bd3786\"], [0.5555555555555556, \"#d8576b\"], [0.6666666666666666, \"#ed7953\"], [0.7777777777777778, \"#fb9f3a\"], [0.8888888888888888, \"#fdca26\"], [1.0, \"#f0f921\"]], \"sequentialminus\": [[0.0, \"#0d0887\"], [0.1111111111111111, \"#46039f\"], [0.2222222222222222, \"#7201a8\"], [0.3333333333333333, \"#9c179e\"], [0.4444444444444444, \"#bd3786\"], [0.5555555555555556, \"#d8576b\"], [0.6666666666666666, \"#ed7953\"], [0.7777777777777778, \"#fb9f3a\"], [0.8888888888888888, \"#fdca26\"], [1.0, \"#f0f921\"]]}, \"colorway\": [\"#636efa\", \"#EF553B\", \"#00cc96\", \"#ab63fa\", \"#FFA15A\", \"#19d3f3\", \"#FF6692\", \"#B6E880\", \"#FF97FF\", \"#FECB52\"], \"font\": {\"color\": \"#2a3f5f\"}, \"geo\": {\"bgcolor\": \"white\", \"lakecolor\": \"white\", \"landcolor\": \"#E5ECF6\", \"showlakes\": true, \"showland\": true, \"subunitcolor\": \"white\"}, \"hoverlabel\": {\"align\": \"left\"}, \"hovermode\": \"closest\", \"mapbox\": {\"style\": \"light\"}, \"paper_bgcolor\": \"white\", \"plot_bgcolor\": \"#E5ECF6\", \"polar\": {\"angularaxis\": {\"gridcolor\": \"white\", \"linecolor\": \"white\", \"ticks\": \"\"}, \"bgcolor\": \"#E5ECF6\", \"radialaxis\": {\"gridcolor\": \"white\", \"linecolor\": \"white\", \"ticks\": \"\"}}, \"scene\": {\"xaxis\": {\"backgroundcolor\": \"#E5ECF6\", \"gridcolor\": \"white\", \"gridwidth\": 2, \"linecolor\": \"white\", \"showbackground\": true, \"ticks\": \"\", \"zerolinecolor\": \"white\"}, \"yaxis\": {\"backgroundcolor\": \"#E5ECF6\", \"gridcolor\": \"white\", \"gridwidth\": 2, \"linecolor\": \"white\", \"showbackground\": true, \"ticks\": \"\", \"zerolinecolor\": \"white\"}, \"zaxis\": {\"backgroundcolor\": \"#E5ECF6\", \"gridcolor\": \"white\", \"gridwidth\": 2, \"linecolor\": \"white\", \"showbackground\": true, \"ticks\": \"\", \"zerolinecolor\": \"white\"}}, \"shapedefaults\": {\"line\": {\"color\": \"#2a3f5f\"}}, \"ternary\": {\"aaxis\": {\"gridcolor\": \"white\", \"linecolor\": \"white\", \"ticks\": \"\"}, \"baxis\": {\"gridcolor\": \"white\", \"linecolor\": \"white\", \"ticks\": \"\"}, \"bgcolor\": \"#E5ECF6\", \"caxis\": {\"gridcolor\": \"white\", \"linecolor\": \"white\", \"ticks\": \"\"}}, \"title\": {\"x\": 0.05}, \"xaxis\": {\"automargin\": true, \"gridcolor\": \"white\", \"linecolor\": \"white\", \"ticks\": \"\", \"title\": {\"standoff\": 15}, \"zerolinecolor\": \"white\", \"zerolinewidth\": 2}, \"yaxis\": {\"automargin\": true, \"gridcolor\": \"white\", \"linecolor\": \"white\", \"ticks\": \"\", \"title\": {\"standoff\": 15}, \"zerolinecolor\": \"white\", \"zerolinewidth\": 2}}}, \"title\": {\"font\": {\"color\": \"#4D5663\"}, \"text\": \"Number of Documents in each category\"}, \"xaxis\": {\"gridcolor\": \"#E1E5ED\", \"showgrid\": true, \"tickfont\": {\"color\": \"#4D5663\"}, \"title\": {\"font\": {\"color\": \"#4D5663\"}, \"text\": \"\"}, \"zerolinecolor\": \"#E1E5ED\"}, \"yaxis\": {\"gridcolor\": \"#E1E5ED\", \"showgrid\": true, \"tickfont\": {\"color\": \"#4D5663\"}, \"title\": {\"font\": {\"color\": \"#4D5663\"}, \"text\": \"Number of Documents\"}, \"zerolinecolor\": \"#E1E5ED\"}},\n",
       "                        {\"showLink\": true, \"linkText\": \"Export to plot.ly\", \"plotlyServerURL\": \"https://plot.ly\", \"responsive\": true}\n",
       "                    ).then(function(){\n",
       "                            \n",
       "var gd = document.getElementById('d5d7e6d4-a5d2-4842-a7c5-ef29c88677ba');\n",
       "var x = new MutationObserver(function (mutations, observer) {{\n",
       "        var display = window.getComputedStyle(gd).display;\n",
       "        if (!display || display === 'none') {{\n",
       "            console.log([gd, 'removed!']);\n",
       "            Plotly.purge(gd);\n",
       "            observer.disconnect();\n",
       "        }}\n",
       "}});\n",
       "\n",
       "// Listen for the removal of the full notebook cells\n",
       "var notebookContainer = gd.closest('#notebook-container');\n",
       "if (notebookContainer) {{\n",
       "    x.observe(notebookContainer, {childList: true});\n",
       "}}\n",
       "\n",
       "// Listen for the clearing of the current output cell\n",
       "var outputEl = gd.closest('.output');\n",
       "if (outputEl) {{\n",
       "    x.observe(outputEl, {childList: true});\n",
       "}}\n",
       "\n",
       "                        })\n",
       "                };\n",
       "                });\n",
       "            </script>\n",
       "        </div>"
      ]
     },
     "metadata": {},
     "output_type": "display_data"
    }
   ],
   "source": [
    "df['target_names'].value_counts().sort_values(ascending=False).iplot(kind='bar', yTitle='Number of Documents', \n",
    "                                                                title='Number of Documents in each category')"
   ]
  },
  {
   "cell_type": "code",
   "execution_count": 63,
   "metadata": {},
   "outputs": [
    {
     "data": {
      "text/html": [
       "<div>\n",
       "<style scoped>\n",
       "    .dataframe tbody tr th:only-of-type {\n",
       "        vertical-align: middle;\n",
       "    }\n",
       "\n",
       "    .dataframe tbody tr th {\n",
       "        vertical-align: top;\n",
       "    }\n",
       "\n",
       "    .dataframe thead th {\n",
       "        text-align: right;\n",
       "    }\n",
       "</style>\n",
       "<table border=\"1\" class=\"dataframe\">\n",
       "  <thead>\n",
       "    <tr style=\"text-align: right;\">\n",
       "      <th></th>\n",
       "      <th>data</th>\n",
       "      <th>target_names</th>\n",
       "      <th>target</th>\n",
       "    </tr>\n",
       "  </thead>\n",
       "  <tbody>\n",
       "    <tr>\n",
       "      <th>column type</th>\n",
       "      <td>object</td>\n",
       "      <td>object</td>\n",
       "      <td>int64</td>\n",
       "    </tr>\n",
       "    <tr>\n",
       "      <th>null values (nb)</th>\n",
       "      <td>0</td>\n",
       "      <td>0</td>\n",
       "      <td>0</td>\n",
       "    </tr>\n",
       "    <tr>\n",
       "      <th>null values (%)</th>\n",
       "      <td>0</td>\n",
       "      <td>0</td>\n",
       "      <td>0</td>\n",
       "    </tr>\n",
       "  </tbody>\n",
       "</table>\n",
       "</div>"
      ],
      "text/plain": [
       "                    data target_names target\n",
       "column type       object       object  int64\n",
       "null values (nb)       0            0      0\n",
       "null values (%)        0            0      0"
      ]
     },
     "execution_count": 63,
     "metadata": {},
     "output_type": "execute_result"
    }
   ],
   "source": [
    "# audit dataframe (check for nulls)\n",
    "def table_info(data):\n",
    "    tab_info=pd.DataFrame(data.dtypes).T.rename(index={0:'column type'})\n",
    "    tab_info=tab_info.append(pd.DataFrame(data.isnull().sum()).T.rename(index={0:'null values (nb)'}))\n",
    "    tab_info=tab_info.append(pd.DataFrame(data.isnull().sum()/data.shape[0]*100).T.rename(index={0:'null values (%)'}))\n",
    "    return tab_info\n",
    "\n",
    "table_info(df)"
   ]
  },
  {
   "cell_type": "markdown",
   "metadata": {},
   "source": [
    "## Data preprocessing"
   ]
  },
  {
   "cell_type": "code",
   "execution_count": 65,
   "metadata": {},
   "outputs": [
    {
     "name": "stdout",
     "output_type": "stream",
     "text": [
      " \n",
      " \n",
      " \n",
      "公司报告 | 年报点评报告 \n",
      "  \n",
      "中科创达（300496） 证券研究报告  2020年 02月 27日 \n",
      "投资评级 \n",
      "5G应用核心标的，报表继续验证高景气度！ 行业 计算机/计算机应用 \n",
      "6个月评级 增持（维持评级） \n",
      "  \n",
      "事件 当前价格 68.15元 \n",
      "目标价格  元 \n",
      "公司发布年报，2019 年营收 18.27 亿元，同比增长 24.74%，归母净利润  \n",
      "2.38亿元，同比增长 44.63%。 \n",
      " 基本数据 \n",
      "19年业绩整体符合预期，维持快速增长 A股总股本(百万股) 402.52 \n",
      "流通 A股股本(百万股) 283.19  \n",
      "公司实现归母净利润 2.38亿元，同比增长约 45%，位于此前业绩预告中值\n",
      "A股总市值(百万元) 27,431.40 \n",
      "47%附近，符合市场预期。扣非后净利润高增主要与收入端高增有关，公  \n",
      "司实现收入 18.27亿元，同比增长 24.74%，整体符合预期。结构看，手机/ 流通 A股市值(百万元) 19,299.49  \n",
      "汽车/物联网业务同比增长 14%/72%/13%。公司布局新一代网联汽车业务， 每股净资产(元) 4.76 \n",
      "市场渗透率提升，收入持续高速增长。公司整体毛利率上升 0.92个百分点， 资产负债率(%) 30.41 \n",
      "考虑商业模式逐步变化，我们看好新业务汽车软件毛利率持续改善，投入 一 年内最高/最低(元) 79.90/25.73 \n",
      "产出比提升。  \n",
      "20年 Q1扣非业绩增长 43%略超预期  作者 \n",
      "沈海兵 分析师 \n",
      "公司发布 20Q1 业绩预告，业绩增速预计中值约 30%符合预期，扣非业绩 SAC执业证书编号：S1110517030001 \n",
      "有望达 6000万，同比增长 43%略超预期。收入保持高增长，预计超 30%， shenhaibing@tfzq.com \n",
      "我们判断主要与物联网业务出货加速和汽车业务保持高速增长有关，业务 缪欣君 分析师 \n",
      "面向全球，19年海外收入占比 56%，公司通过远程协同办公等方式发力海 SAC执业证书编号：S1110517080003 \n",
      "外业务，受疫情影响有限。 miaoxinjun@tfzq.com  \n",
      "潘暕 分析师 \n",
      "20年基本面有望逐季加速，高度看好 SAC执业证书编号：S1110517070005 \n",
      " panjian@tfzq.com \n",
      "5G 应用三大赛道景气度推动，车厂智能驾驶舱相关车型有望加快集中量  \n",
      "产，渗透率加速提升看好汽车软件市场持续高速增长，保守预计公司 20 股价走势 \n",
      "年收入有望实现 35%以上增长，并逐季加速。而新业务投入产出比改善下， 中科创达 计算机应用\n",
      "净利率增速理应更高。考虑汽车软件市场增量以及 IOT业务长期成长空间， 创业板指\n",
      "123%\n",
      "调整公司 2020/2021净利润 3.10/4.11亿元至 3.27/4.39亿元，2020/2021 EPS 102%\n",
      "分别为 0.81/1.09，维持增持评级。 81%\n",
      "60%\n",
      "风险提示：5G智能终端普及速度不及预期；智能网汽车景气度不及预期； 39%\n",
      "公司智能业务汽车市占率提升不及预期 18%\n",
      "-3%\n",
      "-24%\n",
      "2019-02 2019-06 2019-10  \n",
      "资料来源：贝格数据 \n",
      "  \n",
      "相关报告 \n",
      "1 《中科创达-季报点评:5G应用核心标\n",
      "的，Q3 业绩再度验证赛道景气度》 \n",
      "2019-10-22 \n",
      "2 《中科创达-半年报点评:核心业务略\n",
      "  超预期，5G 应用的方向型核心资产》 \n",
      "财务数据和估值 2017 2018 2019E 2020E 2021E 2019-08-09 \n",
      "营业收入(百万元) 1,162.33 1,464.58 1,830.73 2,489.79 3,435.91 3 《中科创达-公司点评:中报业绩符合\n",
      "增长率(%) 37.08 26.00 25.00 36.00 38.00 市场预期，智能汽车业务高速增长》 \n",
      "EBITDA(百万元) 130.12 389.68 306.87 407.78 526.65  2019-07-15 \n",
      "净利润(百万元) 78.04 164.30 238.62 326.58 439.05  \n",
      "增长率(%) -35.12 110.53 45.23 36.86 34.44 \n",
      "EPS(元/股) 0.19 0.41 0.59 0.81 1.09 \n",
      "市盈率(P/E) 351.49 166.95 114.96 84.00 62.48 \n",
      "市净率(P/B) 21.90 18.36 15.66 13.87 11.94 \n",
      "市销率(P/S) 23.60 18.73 14.98 11.02 7.98 \n",
      "  EV/EBITDA 95.45 21.31 86.50 64.88 49.83 \n",
      "资料来源：wind，天风证券研究所 \n",
      " \n",
      "      请务必阅读正文之后的信息披露和免责申明   1 \n",
      " \n",
      "  \n",
      " \n",
      " \n",
      "公司报告 | 年报点评报告 \n",
      "财务预测摘要 \n",
      " \n",
      "资产负债表(百万元) 2017 2018 2019E 2020E 2021E  利润表(百万元) 2017 2018 2019E 2020E 2021E \n",
      "货币资金 1,274.60 894.47 1,187.52 1,277.47 1,501.55  营业收入 1,162.33 1,464.58 1,830.73 2,489.79 3,435.91 \n",
      "应收票据及应收账款 408.13 492.40 690.06 751.27 1,237.76  营业成本 739.51 853.73 1,050.84 1,441.59 2,001.76 \n",
      "预付账款 42.13 23.60 39.17 59.53 77.39  营业税金及附加 4.72 4.10 7.53 9.11 12.10 \n",
      "存货 8.46 15.10 23.96 23.52 49.19  营业费用 46.45 95.51 91.54 99.59 137.44 \n",
      "其他 76.76 28.84 46.06 66.20 64.03  管理费用 282.99 187.27 219.69 273.88 377.95 \n",
      "流动资产合计 1,810.08 1,454.40 1,986.78 2,177.99 2,929.92  研发费用 0.00 234.51 234.33 318.69 446.67 \n",
      "长期股权投资 47.98 44.53 44.53 44.53 44.53  财务费用 31.95 -3.46 6.54 5.10 3.92 \n",
      "固定资产 75.18 73.27 92.31 131.43 169.60  资产减值损失 21.02 3.86 9.04 11.31 8.07 \n",
      "在建工程 0.00 0.00 36.00 69.60 71.76  公允价值变动收益 4.79 -2.35 15.97 -3.30 -3.12 \n",
      "无形资产 236.58 303.90 240.58 177.27 113.95  投资净收益 7.95 2.84 4.86 4.86 4.86 \n",
      "其他 481.17 725.11 712.42 708.45 698.29  其他 -55.93 -80.91 -41.66 -3.12 -3.48 \n",
      "非流动资产合计 840.91 1,146.81 1,125.85 1,131.28 1,098.14  营业利润 78.87 169.48 232.06 332.09 449.74 \n",
      "资产总计 2,657.63 2,603.67 3,117.47 3,313.92 4,032.05  营业外收入 0.95 0.32 14.94 5.41 6.89 \n",
      "短期借款 666.54 373.75 373.75 373.75 373.75  营业外支出 0.56 0.53 0.67 0.59 0.60 \n",
      "应付票据及应付账款 92.93 76.64 66.45 165.42 165.29  利润总额 79.26 169.27 246.33 336.91 456.03 \n",
      "其他 354.03 344.24 641.75 502.10 898.57  所得税 3.12 2.41 8.62 11.79 15.96 \n",
      "流动负债合计 1,113.50 794.63 1,081.95 1,041.28 1,437.61  净利润 76.14 166.86 237.71 325.11 440.07 \n",
      "长期借款 166.01 163.77 163.00 163.00 163.00  少数股东损益 -1.91 2.56 -0.91 -1.47 1.02 \n",
      "应付债券 0.00 0.00 0.00 0.00 0.00  归属于母公司净利润 78.04 164.30 238.62 326.58 439.05 \n",
      "其他 71.41 93.51 63.51 76.14 77.72  每股收益（元） 0.19 0.41 0.59 0.81 1.09 \n",
      "非流动负债合计 237.41 257.28 226.51 239.14 240.72        \n",
      "负债合计 1,350.92 1,051.91 1,308.46 1,280.42 1,678.33        \n",
      "少数股东权益 54.03 58.06 57.19 55.75 56.75  主要财务比率 2017 2018 2019E 2020E 2021E \n",
      "股本 403.88 403.09 402.52 402.52 402.52  成长能力       \n",
      "资本公积 630.78 650.90 650.90 650.90 650.90  营业收入 37.08% 26.00% 25.00% 36.00% 38.00% \n",
      "留存收益 1,027.54 1,179.83 1,349.30 1,575.23 1,894.45  营业利润 -11.02% 114.89% 36.92% 43.11% 35.43% \n",
      "其他 -809.53 -740.12 -650.90 -650.90 -650.90  归属于母公司净利润 -35.12% 110.53% 45.23% 36.86% 34.44% \n",
      "股东权益合计 1,306.71 1,551.76 1,809.01 2,033.50 2,353.72  获利能力      \n",
      "负债和股东权益总 2,657.63 2,603.67 3,117.47 3,313.92 4,032.05  毛利率 36.38% 41.71% 42.60% 42.10% 41.74% \n",
      " 计      \n",
      " 净利率 6.71% 11.22% 13.03% 13.12% 12.78% \n",
      "       ROE 6.23% 11.00% 13.62% 16.51% 19.11% \n",
      "       ROIC 62.66% 26.41% 25.86% 37.70% 43.66% \n",
      "现金流量表(百万元) 2017 2018 2019E 2020E 2021E  偿债能力      \n",
      "净利润 76.14 166.86 238.62 326.58 439.05  资产负债率 50.83% 40.40% 41.97% 38.64% 41.62% \n",
      "折旧摊销 55.47 74.77 68.27 70.59 72.99  净负债率 -33.57% -22.79% -35.85% -36.28% -40.87% \n",
      "财务费用 30.77 5.56 6.54 5.10 3.92  流动比率 1.63 1.83 1.84 2.10 2.04 \n",
      "投资损失 -7.95 -2.84 -4.86 -4.86 -4.86  速动比率 1.62 1.81 1.82 2.07 2.01 \n",
      "营运资金变动 -23.14 181.08 15.76 -122.77 -116.51  营运能力      \n",
      "其它 50.07 -172.10 15.06 -4.77 -2.10  应收账款周转率 3.11 3.25 3.10 3.45 3.45 \n",
      "经营活动现金流 181.36 253.33 339.39 269.87 392.48  存货周转率 92.35 124.32 93.74 104.88 94.51 \n",
      "资本支出 364.87 289.51 90.00 67.37 48.42  总资产周转率 0.51 0.56 0.64 0.77 0.94 \n",
      "长期投资 -56.65 -3.44 0.00 0.00 0.00  每股指标（元）      \n",
      "其他 -722.39 -530.22 -147.53 -142.31 -92.90  每股收益 0.19 0.41 0.59 0.81 1.09 \n",
      "投资活动现金流 -414.17 -244.15 -57.53 -74.94 -44.48  每股经营现金流 0.45 0.63 0.84 0.67 0.98 \n",
      "债权融资 835.91 540.75 538.95 539.68 539.53  每股净资产 3.11 3.71 4.35 4.91 5.71 \n",
      "股权融资 67.60 112.32 82.11 -5.10 -3.92  估值比率      \n",
      "其他 -910.16 -778.51 -609.86 -639.57 -659.53  市盈率 351.49 166.95 114.96 84.00 62.48 \n",
      "筹资活动现金流 -6.65 -125.44 11.20 -104.99 -123.92  市净率 21.90 18.36 15.66 13.87 11.94 \n",
      "汇率变动影响 0.00 0.00 0.00 0.00 0.00  EV/EBITDA 95.45 21.31 86.50 64.88 49.83 \n",
      "现金净增加额 -239.45 -116.26 293.06 89.94 224.09  EV/EBIT 154.53 25.90 111.25 78.46 57.85 \n",
      "资料来源：公司公告，天风证券研究所 \n",
      "  \n",
      "      请务必阅读正文之后的信息披露和免责申明 2 \n",
      "  \n",
      " \n",
      " \n",
      "公司报告 | 年报点评报告 \n",
      "  \n",
      "分析师声明 \n",
      "本报告署名分析师在此声明：我们具有中国证券业协会授予的证券投资咨询执业资格或相当的专业胜任能力，本报告所表述的\n",
      "所有观点均准确地反映了我们对标的证券和发行人的个人看法。我们所得报酬的任何部分不曾与，不与，也将不会与本报告中\n",
      "的具体投资建议或观点有直接或间接联系。 \n",
      " \n",
      "一般声明 \n",
      "除非另有规定，本报告中的所有材料版权均属天风证券股份有限公司（已获中国证监会许可的证券投资咨询业务资格）及其附\n",
      "属机构（以下统称“天风证券”）。未经天风证券事先书面授权，不得以任何方式修改、发送或者复制本报告及其所包含的材料、\n",
      "内容。所有本报告中使用的商标、服务标识及标记均为天风证券的商标、服务标识及标记。 \n",
      "本报告是机密的，仅供我们的客户使用，天风证券不因收件人收到本报告而视其为天风证券的客户。本报告中的信息均来源于\n",
      "我们认为可靠的已公开资料，但天风证券对这些信息的准确性及完整性不作任何保证。本报告中的信息、意见等均仅供客户参\n",
      "考，不构成所述证券买卖的出价或征价邀请或要约。该等信息、意见并未考虑到获取本报告人员的具体投资目的、财务状况以\n",
      "及特定需求，在任何时候均不构成对任何人的个人推荐。客户应当对本报告中的信息和意见进行独立评估，并应同时考量各自\n",
      "的投资目的、财务状况和特定需求，必要时就法律、商业、财务、税收等方面咨询专家的意见。对依据或者使用本报告所造成\n",
      "的一切后果，天风证券及/或其关联人员均不承担任何法律责任。 \n",
      "本报告所载的意见、评估及预测仅为本报告出具日的观点和判断。该等意见、评估及预测无需通知即可随时更改。过往的表现\n",
      "亦不应作为日后表现的预示和担保。在不同时期，天风证券可能会发出与本报告所载意见、评估及预测不一致的研究报告。 \n",
      "天风证券的销售人员、交易人员以及其他专业人士可能会依据不同假设和标准、采用不同的分析方法而口头或书面发表与本报\n",
      "告意见及建议不一致的市场评论和/或交易观点。天风证券没有将此意见及建议向报告所有接收者进行更新的义务。天风证券的\n",
      "资产管理部门、自营部门以及其他投资业务部门可能独立做出与本报告中的意见或建议不一致的投资决策。 \n",
      " \n",
      "特别声明 \n",
      "在法律许可的情况下，天风证券可能会持有本报告中提及公司所发行的证券并进行交易，也可能为这些公司提供或争取提供投\n",
      "资银行、财务顾问和金融产品等各种金融服务。因此，投资者应当考虑到天风证券及/或其相关人员可能存在影响本报告观点客\n",
      "观性的潜在利益冲突，投资者请勿将本报告视为投资或其他决定的唯一参考依据。 \n",
      "  \n",
      " \n",
      "投资评级声明 \n",
      "类别 说明  评级 体系 \n",
      "  \n",
      " 买入  预期股价相对收益 20%以上 \n",
      " 自报告日后的 6个月内，相对同期沪  增持  预期股价相对收益 10%-20% \n",
      " 股票投资评级 \n",
      " 深 300指数的涨跌幅  持有  预期股价相对收益-10%-10% \n",
      "  卖出  预期股价相对收益-10%以下 \n",
      " 强于大市  预期行业指数涨幅 5%以上 \n",
      " 自报告日后的 6个月内，相对同期沪 \n",
      " 行业投资评级  中性  预期行业指数涨幅-5%-5% \n",
      " 深 300指数的涨跌幅 \n",
      "   弱于大市  预期行业指数涨幅-5%以下 \n",
      " \n",
      "天风证券研究 \n",
      " \n",
      "北京 武汉 上海 深圳 \n",
      "北京市西城区佟麟阁路 36号 湖北武汉市武昌区中南路 99 上海市浦东新区兰花路 333 深圳市福田区益田路 5033号 \n",
      "邮编：100031 号保利广场 A座 37楼 号 333世纪大厦 20楼 平安金融中心 71楼 \n",
      "邮箱：research@tfzq.com 邮编：430071 邮编：201204 邮编：518000 \n",
      "电话：(8627)-87618889 电话：(8621)-68815388 电话：(86755)-23915663 \n",
      "传真：(8627)-87618863 传真：(8621)-68812910 传真：(86755)-82571995 \n",
      " 邮箱：research@tfzq.com 邮箱：research@tfzq.com 邮箱：research@tfzq.com \n",
      " \n",
      "      请务必阅读正文之后的信息披露和免责申明 3 \n",
      "  \n",
      "eX8VrUvXkVnUkWdUMBpPtO6MbP7NpNoOpNrRkPmMsQkPsQsNbRqRsNxNnMqPxNrRqM\n",
      "\n",
      "Category: 中性\n"
     ]
    }
   ],
   "source": [
    "def print_data(index):\n",
    "    example = df[df.index == index][['data', 'target_names']].values[0]\n",
    "    if len(example) > 0:\n",
    "        print(example[0])\n",
    "        print('Category:', example[1])\n",
    "\n",
    "print_data(100)"
   ]
  },
  {
   "cell_type": "code",
   "execution_count": 66,
   "metadata": {},
   "outputs": [],
   "source": [
    "# df_backup = df"
   ]
  },
  {
   "cell_type": "code",
   "execution_count": 118,
   "metadata": {},
   "outputs": [],
   "source": [
    "df = df_backup\n",
    "df = df.reset_index(drop=True)\n",
    "REPLACE_BY_SPACE_RE = re.compile('[/(){}\\[\\]\\|@,;.。%-]')\n",
    "# STOPWORDS = set(stopwords.words('english'))\n",
    "def clean_text(text):\n",
    "    text = REPLACE_BY_SPACE_RE.sub(' ', text)\n",
    "    text = text.replace('x', '')\n",
    "    text = ''.join(re.findall(r'[\\u4e00-\\u9fa5]', text))\n",
    "    wordlist = jieba.lcut(text) # partition\n",
    "    text = ' '.join(word for word in wordlist) # combine\n",
    "    return text\n",
    "\n",
    "df['data'] = df['data'].apply(clean_text)\n",
    "df['data'] = df['data'].str.replace('\\d+', '') # remove all digits"
   ]
  },
  {
   "cell_type": "code",
   "execution_count": 119,
   "metadata": {
    "scrolled": true
   },
   "outputs": [
    {
     "data": {
      "text/plain": [
       "'公司 研究 类 模板 顺丰 控股 报告 日期 年月日 点评 报 市场份额 有望 持续 提升 告顺丰 控股 点评 报告 姜楠 执业 证书编号 评级 行 增持业 上次 评级 增持 公 当前 价格 司 投资 要点 研单 季度 业绩 元 股究 市场份额 有望 持续 提升 公司 业务量 市场份额 有望 持续 提升 年 自 特惠 专配 产品 推出 以物来 公司 单月 业务量 同比 增速 自月 起 持续 超越 行业 水平 全年 业务量 同流 比 增速 已 超过 行业 水平 年 月 月 全年 累计 公司 业务量 行市 占率 分别 为 在 疫情 的 影响 下 公司 相比 其他 主要 业 快递 企业 复工 率 更 高 配送 范围 更广 根据 交通运输 部 统计 截至 月 日 中国邮政 顺丰 和 京东 基本 全部 复工 其他 主要 快递 企业 整体 复工 率达 顺丰 控股 深证 成指 人工 和 运输成本 有望 节省 年 上半年 公司 的 人工 和 运输成本 有望 节省 受 疫情 防控 工作 下 出台 政策 的 影响 企业 的 人工成本 和 运输成本 有望 得到 节省 根据 交通运输 部 通知 月 日 零时 起 至 疫情 防控 工作 结束 全国 收费公路 免收 车辆通行 费 具体 截止 时间 另行通知 根据 国务院 常务会议 月 日 决定 阶段性 减免 企业 养老 失业 工伤保险 单位 缴费 以 减轻 疫情 对 企业 的 影响 结构 变化 是 价格 下滑 主因 产品 结构 变化 是 均价 同比 下降 的 主要 原因 年 月 公司 单票 收入 公司简介 元 同比 下降 主要 原因 是 均价 偏低 的 电商 件产品 占 比 提升 公司 是 国内 领先 的 快递 物流 综合 服务 年 月 供应链 业务收入 亿元 占 合计 收入 亿元 的 比例 商于 年 月 上市 截至 年 为 供应链 业务 的 发展 有助于 公司 拓展 新 客户 增加 现有 客户 粘性 底 公司 拥有 全 货机 架个 中转 以及 提高 资产 利用率 场干 支线 车辆 合计 万辆 各种 用工 模式 收 派员 约 万人 公司 的 物流 产 期待 高端 需求 爆发 和 机场 投产 后 成本 优化 品 主要 包含 时效 快递 经济 快递 同 预计 年 公司 归母 净利润 分别 为 亿元 亿元 城 配送 仓储 服务 国际 快递 等 亿元 同比 增速 分别 为 对应 分别 为 倍 倍 倍 收入 端 期待 高端 需求 爆发 成本 端 期待 鄂州 机场 投产 后 相关 报告 航空运输 网络 优化 带来 的 运输成本 节省 维持 增持 评级 行业 份额 持续 向 头部 集中 风险 提示 单月 业务量 增速 超过 行业 水平 人工成本 增长 超 预期 运输成本 增长 超 预期 财务 摘要 业务量 同比 增速 持续 改善 百万元 业务量 稳定增长 成本 控制 良好 主营 收入 证 经济 产品 和 快运 业务 是 亮点 券 归属 母公司 净利润 研究 每股 收益 元报 报告 撰写 人 姜楠告 数据 支持 人 姜楠 请 务必 阅读 正文 之后 的 免责 条款 部分 顺丰 控股 点评 报告 正文 目录 件 量 增长 是 主要 驱动力 市场份额 有望 持续 提升 结构 变化 是 价格 下滑 主因 人工 和 运输成本 有望 节省 图表 目录 图 快递 行业 和顺 丰 业务量 及 同比 增速 单月 图 快递 行业 和顺 丰 业务量 及 同比 增速 累计 图 快递 行业 和顺 丰 均价 及 同比 增速 单月 图 快递 行业 和顺 丰 均价 及 同比 增速 累计 表 附录 三大 报表 预测值 请 务必 阅读 正文 之后 的 免责 条款 部分 顺丰 控股 点评 报告 件 量 增长 是 主要 驱动力 市场份额 有望 持续 提升 件 量 增长 推动 下 公司 业务量 市场份额 持续 提升 年 自 特惠 专配 产品 推出 以来 公司 单月 业务量 同比 增速 自月 起 持续 超越 行业 水平 全年 业务量 同比 增速 已 超过 行业 水平 年 月 累计 月 累计 全年 累计 公司 业务量 市占率 分别 为 年 月 单月 快递 全 行业 完成 业务量 亿件 同比 增长 其中 同 城 业务量 亿件 同比 下降 异地 业务量 亿件 同比 增长 国际 港澳台 业务量 亿件 同比 增长 年 月 单月 顺丰 完成 业务量 亿件 同比 增长 单月 业务量 增速 自年 月 起 持续 超越 行业 水平 年 全年 累计 快递 全 行业 完成 业务量 亿件 同比 增长 其中 同 城 业务量 亿件 同比 下降 异地 业务量 亿件 同比 增长 国际 港澳台 业务量 亿件 同比 增长 年 全年 累计 顺丰 完成 业务量 亿件 同比 增长 公司 全年 业务量 同比 增速 已 超过 行业 水平 图 快递 行业 和顺 丰 业务量 及 同比 增速 单月 图 快递 行业 和顺 丰 业务量 及 同比 增速 累计 资料 来源 国家邮政局 公司公告 浙商 证券 研究所 资料 来源 国家邮政局 公司公告 浙商 证券 研究所 疫情 影响 下 公司 市占率 有望 持续 提升 根据 交通运输 部 统计 截至 月 日 中国邮政 顺丰 和 京东 基本 全部 复工 其他 主要 快递 企业 整体 复工 率达 根据 国家邮政局 统计 年 春节 期间 中国邮政 顺丰 京东 等 快递 企业 承担 了 约 的 市场份额 年 春节 期间 在 疫情 的 影响 下顺丰 相比 其他 主要 快递 企业 复工 率 更 高 配送 范围 更广 因此 我们 预计 公司 市场份额 有望 持续 提升 结构 变化 是 价格 下滑 主因 产品 结构 变化 是 均价 同比 下降 的 主要 原因 年 月 单月 快递 全 行业 均价 元 同比 增长 其中 同城件 均价 元 同比 下降 异地 件 均价 元 同比 请 务必 阅读 正文 之后 的 免责 条款 部分 顺丰 控股 点评 报告 下降 国际 港澳台 件 均价 元 同比 增长 年 月 单月 顺丰 单票 收入 元 同比 下降 主要 原因 是 均价 偏低 的 电商 件产品 占 比 提升 年 全年 累计 快递 全 行业 均价 元 同比 下降 其中 同城件 均价 元 同比 下降 异地 件 均价 元 同比 下降 国际 港澳台 件 均价 元 同比 下降 年 全年 累计 顺丰 单票 收入 元 同比 下降 图 快递 行业 和顺 丰 均价 及 同比 增速 单月 图 快递 行业 和顺 丰 均价 及 同比 增速 累计 资料 来源 国家邮政局 公司公告 浙商 证券 研究所 资料 来源 国家邮政局 公司公告 浙商 证券 研究所 人工 和 运输成本 有望 节省 年 上半年 公司 营业 成本 有望 得到 节省 人工成本 和 运输成本 是 公司 营业 成本 的 主要 项目 年 人工成本 运输成本 外 包 成本 以 人工 和 运输成本 为主 合计 占 营业 成本 比例 为 受 疫情 防控 工作 下 出台 政策 的 影响 企业 的 人工成本 和 运输成本 有望 得到 节省 根据 交通运输 部 通知 经 国务院 同意 月 日 零时 起至 新冠 肺炎 疫情 防控 工作 结束 全国 收费公路 免收 车辆通行 费 具体 截止 时间 另行通知 根据 国务院 常务会议 月 日 决定 阶段性 减免 企业 养老 失业 工伤保险 单位 缴费 以 减轻 疫情 对 企业 特别 是 中小 微 企业 的 影响 请 务必 阅读 正文 之后 的 免责 条款 部分 顺丰 控股 点评 报告 表 附录 三大 报表 预测值 资产 负债表 利润表 单位 百万元 单位 百万元 流动资产 营业 收入 现金 营业 成本 交易 性 金融资产 营业税 金及 附加 应收 账项 营业费用 其它 应收款 管理费用 预付 账款 研发 费用 存货 财务费用 其他 资产 减值 损失 非 流动资产 公允 价值 变动 损益 金额 资产 类 投资 净 收益 长期投资 其他 经营 收益 固定资产 营业 利润 无形资产 营业 外 收支 在建 工程 利润总额 其他 所得税 资产 总计 净利润 流动 负债 少数 股东 损益 短期 借款 归属 母公司 净利润 应付 款项 预收 账款 最新 摊薄 其他 主要 财务 比率 非 流动 负债 长期借款 成长 能力 其他 营业 收入 增长率 负债 合计 营业 利润 增长率 少数 股东权益 归属于 母公司 净利润 增 归属 母公司 股东权益 长 获利率 能力 负债 和 股东权益 毛利率 现金流量 表净 利率 单位 百万元 经营 活动 现金流 净利润 偿债 能力 折旧 摊销 资产负债率 财务费用 净 负债 比率 投资 损失 流动比率 营运 资金 变动 速动 比率 其它 营运 能力 投资 活动 现金流 总资产 周转率 资本 支出 应收 账款 周转率 长期投资 应付账款 周转率 其他 每股 指标 元 筹资 活动 现金流 每股 收益 最新 摊薄 短期 借款 每股 经营 现金流 最新 长期借款 摊 每 薄股 净资产 最新 摊薄 其他 估值 比率 现金 净 增加额 资料 来源 浙商 证券 研究所 请 务必 阅读 正文 之后 的 免责 条款 部分 顺丰 控股 点评 报告 股票投资 评级 说明 以 报告 日后 的 个 月 内 证券 相对 于 沪 深 指数 的 涨跌幅 为 标准 定义 如下 买入 相对 于 沪 深 指数 表现 以上 增持 相对 于 沪 深 指数 表现 中性 相对 于 沪 深 指数 表现 之间 波动 减持 相对 于 沪 深 指数 表现 以下 行业 的 投资 评级 以 报告 日后 的 个 月 内 行业 指数 相对 于 沪 深 指数 的 涨跌幅 为 标准 定义 如下 看好 行业 指数 相对 于 沪 深 指数 表现 以上 中性 行业 指数 相对 于 沪 深 指数 表现 以上 看淡 行业 指数 相对 于 沪 深 指数 表现 以下 我们 在 此 提醒您 不同 证券 研究 机构 采用 不同 的 评级 术语 及 评级 标准 我们 采用 的 是 相对 评级 体系 表示 投资 的 相对 比重 建议 投资者 买入 或者 卖出 证券 的 决定 取决于 个人 的 实际 情况 比如 当前 的 持仓 结构 以及 其他 需要 考虑 的 因素 投资者 不 应 仅仅 依靠 投资 评级 来 推断 结论 法律 声明 及 风险 提示 本 报告 由 浙商 证券 股份 有限公司 已 具备 中国证监会 批复 的 证券 投资 咨询 业务 资格 经营 许可证 编号 为 制作 本 报告 中 的 信息 均 来源于 我们 认为 可靠 的 已 公开 资料 但 浙商 证券 股份 有限公司 及其 关联 机构 以下 统称 本 公司 对 这些 信息 的 真实性 准确性 及 完整性 不 作 任何 保证 也 不 保证 所 包含 的 信息 和 建议 不 发生 任何 变更 本 公司 没有 将 变更 的 信息 和 建议 向 报告 所有 接收者 进行 更新 的 义务 本 报告 仅供 本 公司 的 客户 作 参考 之用 本 公司 不会 因 接收 人 收到 本 报告 而视 其 为 本 公司 的 当然 客户 本 报告 仅 反映 报告 作者 的 出具 日 的 观点 和 判断 在 任何 情况 下本 报告 中 的 信息 或 所 表述 的 意见 均 不 构成 对 任何人 的 投资 建议 投资者 应当 对本 报告 中 的 信息 和 意见 进行 独立 评估 并 应 同时 考量 各自 的 投资 目的 财务状况 和 特定 需求 对 依据 或者 使用 本 报告 所 造成 的 一切 后果 本 公司 及 或 其 关联 人员 均 不 承担 任何 法律责任 本 公司 的 交易 人员 以及 其他 专业人士 可能 会 依据 不同 假设 和 标准 采用 不同 的 分析方法 而 口头 或 书面 发表 与 本 报告 意见 及 建议 不 一致 的 市场 评论 和 或 交易 观点 本 公司 没有 将 此 意见 及 建议 向 报告 所有 接收者 进行 更新 的 义务 本 公司 的 资产 管理 部门 自营 部门 以及 其他 投资 业务部门 可能 独立 做出 与 本 报告 中 的 意见 或 建议 不 一致 的 投资决策 本 报告 版权 均 归本 公司 所有 未经 本 公司 事先 书面 授权 任何 机构 或 个人 不得 以 任何 形式 复制 发布 传播 本 报告 的 全部 或 部分 内容 经 授权 刊载 转发 本 报告 或者 摘要 的 应当 注明 本 报告 发布 人 和 发布 日期 并 提示 使用 本 报告 的 风险 未经 授权 或 未 按 要求 刊载 转发 本 报告 的 应当 承担 相应 的 法律责任 本 公司 将 保留 向 其 追究 法律责任 的 权利 浙商 证券 研究所 上海市 杨高 南路 号 陆家嘴 世纪 金融 广场 号 楼层 邮政编码 电话传真 浙商 证券 研究所 请 务必 阅读 正文 之后 的 免责 条款 部分'"
      ]
     },
     "execution_count": 119,
     "metadata": {},
     "output_type": "execute_result"
    }
   ],
   "source": [
    "# 文件内中文词汇，由空格分开\n",
    "temp = df['data'][0]\n",
    "temp"
   ]
  },
  {
   "cell_type": "markdown",
   "metadata": {},
   "source": [
    "## jieba library functions"
   ]
  },
  {
   "cell_type": "code",
   "execution_count": 85,
   "metadata": {},
   "outputs": [
    {
     "name": "stderr",
     "output_type": "stream",
     "text": [
      "Building prefix dict from the default dictionary ...\n",
      "Dumping model to file cache C:\\Users\\idgca\\AppData\\Local\\Temp\\jieba.cache\n",
      "Loading model cost 0.718 seconds.\n",
      "Prefix dict has been built successfully.\n"
     ]
    },
    {
     "name": "stdout",
     "output_type": "stream",
     "text": [
      "<Text: 公司 报告 年报 点评 报告 中科 创达 证券...>\n"
     ]
    }
   ],
   "source": [
    "wordlist = jieba.lcut(temp)\n",
    "text = nltk.Text(wordlist)\n",
    "print(text)"
   ]
  },
  {
   "cell_type": "code",
   "execution_count": 88,
   "metadata": {},
   "outputs": [
    {
     "name": "stdout",
     "output_type": "stream",
     "text": [
      "Displaying 10 of 33 matches:\n",
      "公司 报告 年报 点评 报告\n",
      "报告 年报 点评 报告 中科 创达 证券\n",
      "创达 证券 研究 报告 年月日 投资 评\n",
      "贝格 数据 相关 报告 中科 创达 季报\n",
      "免责 申明 公司 报告 年报 点评 报告\n",
      "报告 年报 点评 报告 财务 预测 摘要\n",
      "免责 申明 公司 报告 年报 点评 报告\n",
      "报告 年报 点评 报告 分析师 声明 本\n",
      "分析师 声明 本 报告 署名 分析师 在\n",
      " 胜任 能力 本 报告 所 表述 的 所\n"
     ]
    }
   ],
   "source": [
    "# 搜索上下文\n",
    "text.concordance(word='报告',width=20,lines=10)"
   ]
  },
  {
   "cell_type": "code",
   "execution_count": 92,
   "metadata": {},
   "outputs": [
    {
     "name": "stdout",
     "output_type": "stream",
     "text": [
      "No common contexts were found\n"
     ]
    },
    {
     "data": {
      "text/plain": [
       "33"
      ]
     },
     "execution_count": 92,
     "metadata": {},
     "output_type": "execute_result"
    }
   ],
   "source": [
    "# 搜索共同上下文\n",
    "text.common_contexts(['报告','公司'])\n",
    "# 统计词频\n",
    "text.count(word='报告')"
   ]
  },
  {
   "cell_type": "code",
   "execution_count": 94,
   "metadata": {},
   "outputs": [
    {
     "data": {
      "image/png": "[encoded data removed]",
      "text/plain": [
       "<Figure size 432x288 with 1 Axes>"
      ]
     },
     "metadata": {
      "needs_background": "light"
     },
     "output_type": "display_data"
    }
   ],
   "source": [
    "# 离散图\n",
    "words=['公司','报告']\n",
    "text.dispersion_plot(words)"
   ]
  },
  {
   "cell_type": "code",
   "execution_count": 97,
   "metadata": {},
   "outputs": [
    {
     "name": "stdout",
     "output_type": "stream",
     "text": [
      "发布\n",
      "报告 1.0\n",
      "发布 0.08333333333333333\n"
     ]
    }
   ],
   "source": [
    "# 计算相似度\n",
    "text.similar(word='报告',num=10)\n",
    "\n",
    "from nltk.text import ContextIndex\n",
    "contentindex = ContextIndex(wordlist)\n",
    "similarity_scores = contentindex.word_similarity_dict(word='报告')\n",
    "for key,value in similarity_scores.items():\n",
    "    if value>0.02:\n",
    "        print(key,value)"
   ]
  },
  {
   "cell_type": "markdown",
   "metadata": {},
   "source": [
    "## Tokenize documents"
   ]
  },
  {
   "cell_type": "code",
   "execution_count": 120,
   "metadata": {},
   "outputs": [
    {
     "name": "stdout",
     "output_type": "stream",
     "text": [
      "Found 301149 unique tokens.\n"
     ]
    }
   ],
   "source": [
    "# The maximum number of words to be used. (most frequent)\n",
    "MAX_NB_WORDS = 50000\n",
    "# Max number of words in each complaint.\n",
    "MAX_SEQUENCE_LENGTH = 3000\n",
    "# This is fixed.\n",
    "EMBEDDING_DIM = 100\n",
    "tokenizer = Tokenizer(num_words=MAX_NB_WORDS, filters='!\"#$%&()*+,-./:;<=>?@[\\]^_`{|}~', lower=True)\n",
    "tokenizer.fit_on_texts(df['data'].values)\n",
    "word_index = tokenizer.word_index\n",
    "print('Found %s unique tokens.' % len(word_index))"
   ]
  },
  {
   "cell_type": "markdown",
   "metadata": {},
   "source": [
    "## Save processed data to csv"
   ]
  },
  {
   "cell_type": "code",
   "execution_count": 134,
   "metadata": {},
   "outputs": [],
   "source": [
    "df.to_csv(r'data/classification_data_v3/cleaned.csv',header=True,index=None)"
   ]
  },
  {
   "cell_type": "code",
   "execution_count": 132,
   "metadata": {},
   "outputs": [
    {
     "data": {
      "text/plain": [
       "0        1844\n",
       "1        3036\n",
       "2        1238\n",
       "3        1934\n",
       "4        1551\n",
       "         ... \n",
       "23764    1284\n",
       "23765    2890\n",
       "23766    1525\n",
       "23767    1617\n",
       "23768     371\n",
       "Name: word_count, Length: 23769, dtype: int64"
      ]
     },
     "execution_count": 132,
     "metadata": {},
     "output_type": "execute_result"
    }
   ],
   "source": [
    "def count_text(text):\n",
    "    return len(text.split(' '))\n",
    "    \n",
    "df['word_count'] = df.data.apply(count_text)\n",
    "df['word_count']"
   ]
  },
  {
   "cell_type": "code",
   "execution_count": 141,
   "metadata": {},
   "outputs": [
    {
     "data": {
      "text/plain": [
       "2507.800244015314"
      ]
     },
     "execution_count": 141,
     "metadata": {},
     "output_type": "execute_result"
    }
   ],
   "source": [
    "np.mean(df['word_count']) # each document has average 2500 words after processing "
   ]
  },
  {
   "cell_type": "markdown",
   "metadata": {},
   "source": [
    "## Get train test datasets"
   ]
  },
  {
   "cell_type": "code",
   "execution_count": 135,
   "metadata": {},
   "outputs": [],
   "source": [
    "X = tokenizer.texts_to_sequences(df['data'].values)\n"
   ]
  },
  {
   "cell_type": "code",
   "execution_count": 150,
   "metadata": {},
   "outputs": [
    {
     "name": "stdout",
     "output_type": "stream",
     "text": [
      "Shape of data tensor: (23769, 1000)\n"
     ]
    }
   ],
   "source": [
    "MAX_SEQUENCE_LENGTH = 1000\n",
    "X = pad_sequences(X, maxlen=MAX_SEQUENCE_LENGTH)\n",
    "print('Shape of data tensor:', X.shape)"
   ]
  },
  {
   "cell_type": "code",
   "execution_count": 216,
   "metadata": {},
   "outputs": [
    {
     "name": "stdout",
     "output_type": "stream",
     "text": [
      "Shape of label tensor: (23769, 3)\n",
      "Shape of label tensor: (23769,)\n"
     ]
    }
   ],
   "source": [
    "Y = pd.get_dummies(df['target']).values\n",
    "Y_single = df['target']\n",
    "print('Shape of label tensor:', Y.shape)\n",
    "print('Shape of label tensor:', Y_single.shape)"
   ]
  },
  {
   "cell_type": "markdown",
   "metadata": {},
   "source": [
    "\n",
    "## Train test split"
   ]
  },
  {
   "cell_type": "code",
   "execution_count": 152,
   "metadata": {},
   "outputs": [
    {
     "name": "stdout",
     "output_type": "stream",
     "text": [
      "(19015, 1000) (19015, 3)\n",
      "(4754, 1000) (4754, 3)\n"
     ]
    }
   ],
   "source": [
    "X_train, X_test, Y_train, Y_test = train_test_split(X,Y, test_size = 0.20, random_state = 42)\n",
    "print(X_train.shape,Y_train.shape)\n",
    "print(X_test.shape,Y_test.shape)"
   ]
  },
  {
   "cell_type": "markdown",
   "metadata": {},
   "source": [
    "## LSTM"
   ]
  },
  {
   "cell_type": "code",
   "execution_count": 223,
   "metadata": {},
   "outputs": [
    {
     "name": "stdout",
     "output_type": "stream",
     "text": [
      "Train on 17113 samples, validate on 1902 samples\n",
      "Epoch 1/3\n",
      "17113/17113 [==============================] - 684s 40ms/step - loss: 0.5844 - accuracy: 0.7385 - val_loss: 0.5346 - val_accuracy: 0.7566\n",
      "Epoch 2/3\n",
      "17113/17113 [==============================] - 687s 40ms/step - loss: 0.5289 - accuracy: 0.7601 - val_loss: 0.5329 - val_accuracy: 0.7529\n",
      "Epoch 3/3\n",
      "17113/17113 [==============================] - 689s 40ms/step - loss: 0.5197 - accuracy: 0.7658 - val_loss: 0.5259 - val_accuracy: 0.7629\n"
     ]
    }
   ],
   "source": [
    "model = Sequential()\n",
    "model.add(Embedding(MAX_NB_WORDS, EMBEDDING_DIM, input_length=X.shape[1]))\n",
    "model.add(SpatialDropout1D(0.2))\n",
    "model.add(LSTM(100, dropout=0.2, recurrent_dropout=0.2))\n",
    "model.add(Dense(3, activation='softmax'))\n",
    "model.compile(loss='categorical_crossentropy', optimizer='adam', metrics=['accuracy'])\n",
    "\n",
    "epochs = 3\n",
    "batch_size = 72\n",
    "\n",
    "history = model.fit(X_train, Y_train, epochs=epochs, batch_size=batch_size,validation_split=0.1,callbacks=[EarlyStopping(monitor='val_loss', patience=3, min_delta=0.0001)])"
   ]
  },
  {
   "cell_type": "code",
   "execution_count": 224,
   "metadata": {},
   "outputs": [
    {
     "name": "stdout",
     "output_type": "stream",
     "text": [
      "4754/4754 [==============================] - 21s 4ms/step\n",
      "Test set\n",
      "  Loss: 0.520\n",
      "  Accuracy: 0.759\n"
     ]
    }
   ],
   "source": [
    "accr = model.evaluate(X_test,Y_test)\n",
    "print('Test set\\n  Loss: {:0.3f}\\n  Accuracy: {:0.3f}'.format(accr[0],accr[1]))"
   ]
  },
  {
   "cell_type": "code",
   "execution_count": 155,
   "metadata": {},
   "outputs": [
    {
     "data": {
      "image/png": "[encoded data removed]",
      "text/plain": [
       "<Figure size 432x288 with 1 Axes>"
      ]
     },
     "metadata": {
      "needs_background": "light"
     },
     "output_type": "display_data"
    }
   ],
   "source": [
    "plt.title('Loss')\n",
    "plt.plot(history.history['loss'], label='train')\n",
    "plt.plot(history.history['val_loss'], label='test')\n",
    "plt.legend()\n",
    "plt.show();"
   ]
  },
  {
   "cell_type": "code",
   "execution_count": 162,
   "metadata": {},
   "outputs": [
    {
     "data": {
      "image/png": "[encoded data removed]",
      "text/plain": [
       "<Figure size 432x288 with 1 Axes>"
      ]
     },
     "metadata": {
      "needs_background": "light"
     },
     "output_type": "display_data"
    }
   ],
   "source": [
    "plt.title('Accuracy')\n",
    "plt.plot(history.history['accuracy'], label='train')\n",
    "plt.plot(history.history['val_accuracy'], label='test')\n",
    "plt.legend()\n",
    "plt.show();"
   ]
  },
  {
   "cell_type": "code",
   "execution_count": 160,
   "metadata": {},
   "outputs": [
    {
     "data": {
      "text/plain": [
       "{'val_loss': [0.5392549102489379,\n",
       "  0.5436472492889902,\n",
       "  0.5258472341844336,\n",
       "  0.527341907144721,\n",
       "  0.5233879128841196],\n",
       " 'val_accuracy': [0.7565720081329346,\n",
       "  0.761829674243927,\n",
       "  0.768664538860321,\n",
       "  0.7655099630355835,\n",
       "  0.7660357356071472],\n",
       " 'loss': [0.5747780097204527,\n",
       "  0.5270597410879122,\n",
       "  0.5207833287097748,\n",
       "  0.5160820137149704,\n",
       "  0.5144538231555816],\n",
       " 'accuracy': [0.74493074, 0.7611757, 0.76427275, 0.76602584, 0.7674867]}"
      ]
     },
     "execution_count": 160,
     "metadata": {},
     "output_type": "execute_result"
    }
   ],
   "source": [
    "history.history\n"
   ]
  },
  {
   "cell_type": "code",
   "execution_count": 210,
   "metadata": {},
   "outputs": [
    {
     "data": {
      "text/plain": [
       "array([[2.7217430e-01, 7.2757405e-01, 2.5159252e-04],\n",
       "       [2.7305761e-01, 7.2667521e-01, 2.6714511e-04],\n",
       "       [1.8111259e-01, 8.1873506e-01, 1.5236292e-04],\n",
       "       ...,\n",
       "       [1.7219770e-01, 8.2754946e-01, 2.5281697e-04],\n",
       "       [1.7943431e-01, 8.2046747e-01, 9.8176388e-05],\n",
       "       [1.7481382e-01, 8.2509303e-01, 9.3145696e-05]], dtype=float32)"
      ]
     },
     "execution_count": 210,
     "metadata": {},
     "output_type": "execute_result"
    }
   ],
   "source": [
    "pred = model.predict((X_test)) # [28:29,:]\n",
    "pred"
   ]
  },
  {
   "cell_type": "markdown",
   "metadata": {},
   "source": [
    "## Naive base"
   ]
  },
  {
   "cell_type": "code",
   "execution_count": 214,
   "metadata": {},
   "outputs": [],
   "source": [
    "# pipeline\n",
    "text_clf_nb = Pipeline([\n",
    "#                         ('vect', CountVectorizer()), # attribute stop_words (\"then, the, etc.\")\n",
    "#                      ('tfidf', TfidfTransformer()),\n",
    "                     ('clf', MultinomialNB(alpha=0.01)), # FitPrior=False, a uniform prior will be used\n",
    "                    ])"
   ]
  },
  {
   "cell_type": "code",
   "execution_count": 217,
   "metadata": {},
   "outputs": [
    {
     "name": "stdout",
     "output_type": "stream",
     "text": [
      "(19015, 1000) (19015,)\n",
      "(4754, 1000) (4754,)\n"
     ]
    }
   ],
   "source": [
    "X_train, X_test, Y_single_train, Y_single_test = train_test_split(X,Y_single, test_size = 0.20, random_state = 42)\n",
    "print(X_train.shape,Y_single_train.shape)\n",
    "print(X_test.shape,Y_single_test.shape)"
   ]
  },
  {
   "cell_type": "code",
   "execution_count": 219,
   "metadata": {},
   "outputs": [],
   "source": [
    "text_clf_nb = text_clf_nb.fit(X_train, Y_single_train)"
   ]
  },
  {
   "cell_type": "code",
   "execution_count": 221,
   "metadata": {},
   "outputs": [
    {
     "data": {
      "text/plain": [
       "0.652923853596971"
      ]
     },
     "execution_count": 221,
     "metadata": {},
     "output_type": "execute_result"
    }
   ],
   "source": [
    "predicted = text_clf_nb.predict(X_test)\n",
    "np.mean(predicted == Y_single_test)"
   ]
  },
  {
   "cell_type": "code",
   "execution_count": null,
   "metadata": {},
   "outputs": [],
   "source": []
  }
 ],
 "metadata": {
  "kernelspec": {
   "display_name": "Python 3",
   "language": "python",
   "name": "python3"
  },
  "language_info": {
   "codemirror_mode": {
    "name": "ipython",
    "version": 3
   },
   "file_extension": ".py",
   "mimetype": "text/x-python",
   "name": "python",
   "nbconvert_exporter": "python",
   "pygments_lexer": "ipython3",
   "version": "3.8.5"
  }
 },
 "nbformat": 4,
 "nbformat_minor": 4
}
