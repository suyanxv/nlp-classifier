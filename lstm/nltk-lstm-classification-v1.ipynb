{
 "cells": [
  {
   "cell_type": "markdown",
   "metadata": {},
   "source": [
    "# Text classification with LSTM (RNN)"
   ]
  },
  {
   "cell_type": "markdown",
   "metadata": {},
   "source": [
    "## Import Libraries"
   ]
  },
  {
   "cell_type": "code",
   "execution_count": 63,
   "metadata": {},
   "outputs": [
    {
     "name": "stderr",
     "output_type": "stream",
     "text": [
      "[nltk_data] Downloading package stopwords to\n",
      "[nltk_data]     C:\\Users\\idgca\\AppData\\Roaming\\nltk_data...\n",
      "[nltk_data]   Package stopwords is already up-to-date!\n"
     ]
    },
    {
     "data": {
      "text/plain": [
       "True"
      ]
     },
     "execution_count": 63,
     "metadata": {},
     "output_type": "execute_result"
    },
    {
     "data": {
      "text/html": [
       "        <script type=\"text/javascript\">\n",
       "        window.PlotlyConfig = {MathJaxConfig: 'local'};\n",
       "        if (window.MathJax) {MathJax.Hub.Config({SVG: {font: \"STIX-Web\"}});}\n",
       "        if (typeof require !== 'undefined') {\n",
       "        require.undef(\"plotly\");\n",
       "        requirejs.config({\n",
       "            paths: {\n",
       "                'plotly': ['https://cdn.plot.ly/plotly-latest.min']\n",
       "            }\n",
       "        });\n",
       "        require(['plotly'], function(Plotly) {\n",
       "            window._Plotly = Plotly;\n",
       "        });\n",
       "        }\n",
       "        </script>\n",
       "        "
      ]
     },
     "metadata": {},
     "output_type": "display_data"
    }
   ],
   "source": [
    "import numpy as np \n",
    "import pandas as pd\n",
    "import matplotlib.pyplot as plt\n",
    "import seaborn as sns\n",
    "from keras.preprocessing.text import Tokenizer\n",
    "from keras.preprocessing.sequence import pad_sequences\n",
    "from keras.models import Sequential\n",
    "from keras.layers import Dense, Embedding, LSTM, SpatialDropout1D\n",
    "from keras.utils.np_utils import to_categorical\n",
    "from keras.callbacks import EarlyStopping\n",
    "from keras.layers import Dropout\n",
    "from keras.wrappers.scikit_learn import KerasRegressor\n",
    "\n",
    "from sklearn.model_selection import train_test_split\n",
    "from sklearn.feature_extraction.text import CountVectorizer\n",
    "from sklearn.feature_extraction.text import TfidfTransformer\n",
    "from sklearn.naive_bayes import MultinomialNB\n",
    "from sklearn.pipeline import Pipeline\n",
    "from sklearn.linear_model import SGDClassifier\n",
    "from sklearn.model_selection import GridSearchCV\n",
    "\n",
    "import re\n",
    "import nltk\n",
    "nltk.download('stopwords')\n",
    "from nltk.corpus import stopwords\n",
    "from nltk import word_tokenize\n",
    "STOPWORDS = set(stopwords.words('english'))\n",
    "from bs4 import BeautifulSoup\n",
    "import plotly.graph_objs as go\n",
    "# import plotly.plotly as py\n",
    "import chart_studio.plotly as py\n",
    "import cufflinks\n",
    "from IPython.core.interactiveshell import InteractiveShell\n",
    "import plotly.figure_factory as ff\n",
    "InteractiveShell.ast_node_interactivity = 'all'\n",
    "from plotly.offline import iplot\n",
    "import matplotlib as mpl\n",
    "from matplotlib import pyplot\n",
    "import os\n",
    "import jieba # 中文分词组件\n",
    "cufflinks.go_offline()\n",
    "cufflinks.set_config_file(world_readable=True, theme='pearl')"
   ]
  },
  {
   "cell_type": "markdown",
   "metadata": {},
   "source": [
    "## Import data"
   ]
  },
  {
   "cell_type": "code",
   "execution_count": 147,
   "metadata": {},
   "outputs": [],
   "source": [
    "def read_data(rootdir, target_name, target_index):\n",
    "    \n",
    "    for root, subdirs, files in os.walk(rootdir):\n",
    "        for file in files:\n",
    "            path = root+'/'+file\n",
    "            with open(path, encoding=\"utf8\") as f:\n",
    "                input_file = f.read()\n",
    "                data.append(input_file)\n",
    "                target_names.append(target_name)\n",
    "                target.append(target_index)\n",
    "\n",
    "data = []\n",
    "target_names = []\n",
    "target = []\n",
    "read_data(\"data/classification_data_v3/中性\", \"中性\", 0)\n",
    "read_data(\"data/classification_data_v3/买入\", \"买入\", 1)\n",
    "read_data(\"data/classification_data_v3/卖出\", \"卖出\", 2)"
   ]
  },
  {
   "cell_type": "code",
   "execution_count": 148,
   "metadata": {},
   "outputs": [],
   "source": [
    "# combine data to single dataframe\n",
    "df_raw = pd.DataFrame()\n",
    "df_raw['data'] = data\n",
    "df_raw['target_names'] = target_names\n",
    "df_raw['target'] = target\n"
   ]
  },
  {
   "cell_type": "code",
   "execution_count": 149,
   "metadata": {},
   "outputs": [
    {
     "name": "stdout",
     "output_type": "stream",
     "text": [
      "<class 'pandas.core.frame.DataFrame'>\n",
      "RangeIndex: 23769 entries, 0 to 23768\n",
      "Data columns (total 3 columns):\n",
      " #   Column        Non-Null Count  Dtype \n",
      "---  ------        --------------  ----- \n",
      " 0   data          23769 non-null  object\n",
      " 1   target_names  23769 non-null  object\n",
      " 2   target        23769 non-null  int64 \n",
      "dtypes: int64(1), object(2)\n",
      "memory usage: 557.2+ KB\n"
     ]
    }
   ],
   "source": [
    "df_raw.info()"
   ]
  },
  {
   "cell_type": "code",
   "execution_count": 150,
   "metadata": {},
   "outputs": [
    {
     "data": {
      "text/plain": [
       "买入    17123\n",
       "中性     6634\n",
       "卖出       12\n",
       "Name: target_names, dtype: int64"
      ]
     },
     "execution_count": 150,
     "metadata": {},
     "output_type": "execute_result"
    },
    {
     "data": {
      "text/plain": [
       "1    17123\n",
       "0     6634\n",
       "2       12\n",
       "Name: target, dtype: int64"
      ]
     },
     "execution_count": 150,
     "metadata": {},
     "output_type": "execute_result"
    }
   ],
   "source": [
    "df_raw.target_names.value_counts()\n",
    "df_raw.target.value_counts()"
   ]
  },
  {
   "cell_type": "markdown",
   "metadata": {},
   "source": [
    "## Data exploration"
   ]
  },
  {
   "cell_type": "code",
   "execution_count": 151,
   "metadata": {
    "scrolled": true
   },
   "outputs": [
    {
     "data": {
      "application/vnd.plotly.v1+json": {
       "config": {
        "linkText": "Export to plot.ly",
        "plotlyServerURL": "https://plot.ly",
        "showLink": true
       },
       "data": [
        {
         "marker": {
          "color": "rgba(255, 153, 51, 0.6)",
          "line": {
           "color": "rgba(255, 153, 51, 1.0)",
           "width": 1
          }
         },
         "name": "target_names",
         "orientation": "v",
         "text": "",
         "type": "bar",
         "x": [
          "买入",
          "中性",
          "卖出"
         ],
         "y": [
          17123,
          6634,
          12
         ]
        }
       ],
       "layout": {
        "legend": {
         "bgcolor": "#F5F6F9",
         "font": {
          "color": "#4D5663"
         }
        },
        "paper_bgcolor": "#F5F6F9",
        "plot_bgcolor": "#F5F6F9",
        "template": {
         "data": {
          "bar": [
           {
            "error_x": {
             "color": "#2a3f5f"
            },
            "error_y": {
             "color": "#2a3f5f"
            },
            "marker": {
             "line": {
              "color": "#E5ECF6",
              "width": 0.5
             }
            },
            "type": "bar"
           }
          ],
          "barpolar": [
           {
            "marker": {
             "line": {
              "color": "#E5ECF6",
              "width": 0.5
             }
            },
            "type": "barpolar"
           }
          ],
          "carpet": [
           {
            "aaxis": {
             "endlinecolor": "#2a3f5f",
             "gridcolor": "white",
             "linecolor": "white",
             "minorgridcolor": "white",
             "startlinecolor": "#2a3f5f"
            },
            "baxis": {
             "endlinecolor": "#2a3f5f",
             "gridcolor": "white",
             "linecolor": "white",
             "minorgridcolor": "white",
             "startlinecolor": "#2a3f5f"
            },
            "type": "carpet"
           }
          ],
          "choropleth": [
           {
            "colorbar": {
             "outlinewidth": 0,
             "ticks": ""
            },
            "type": "choropleth"
           }
          ],
          "contour": [
           {
            "colorbar": {
             "outlinewidth": 0,
             "ticks": ""
            },
            "colorscale": [
             [
              0,
              "#0d0887"
             ],
             [
              0.1111111111111111,
              "#46039f"
             ],
             [
              0.2222222222222222,
              "#7201a8"
             ],
             [
              0.3333333333333333,
              "#9c179e"
             ],
             [
              0.4444444444444444,
              "#bd3786"
             ],
             [
              0.5555555555555556,
              "#d8576b"
             ],
             [
              0.6666666666666666,
              "#ed7953"
             ],
             [
              0.7777777777777778,
              "#fb9f3a"
             ],
             [
              0.8888888888888888,
              "#fdca26"
             ],
             [
              1,
              "#f0f921"
             ]
            ],
            "type": "contour"
           }
          ],
          "contourcarpet": [
           {
            "colorbar": {
             "outlinewidth": 0,
             "ticks": ""
            },
            "type": "contourcarpet"
           }
          ],
          "heatmap": [
           {
            "colorbar": {
             "outlinewidth": 0,
             "ticks": ""
            },
            "colorscale": [
             [
              0,
              "#0d0887"
             ],
             [
              0.1111111111111111,
              "#46039f"
             ],
             [
              0.2222222222222222,
              "#7201a8"
             ],
             [
              0.3333333333333333,
              "#9c179e"
             ],
             [
              0.4444444444444444,
              "#bd3786"
             ],
             [
              0.5555555555555556,
              "#d8576b"
             ],
             [
              0.6666666666666666,
              "#ed7953"
             ],
             [
              0.7777777777777778,
              "#fb9f3a"
             ],
             [
              0.8888888888888888,
              "#fdca26"
             ],
             [
              1,
              "#f0f921"
             ]
            ],
            "type": "heatmap"
           }
          ],
          "heatmapgl": [
           {
            "colorbar": {
             "outlinewidth": 0,
             "ticks": ""
            },
            "colorscale": [
             [
              0,
              "#0d0887"
             ],
             [
              0.1111111111111111,
              "#46039f"
             ],
             [
              0.2222222222222222,
              "#7201a8"
             ],
             [
              0.3333333333333333,
              "#9c179e"
             ],
             [
              0.4444444444444444,
              "#bd3786"
             ],
             [
              0.5555555555555556,
              "#d8576b"
             ],
             [
              0.6666666666666666,
              "#ed7953"
             ],
             [
              0.7777777777777778,
              "#fb9f3a"
             ],
             [
              0.8888888888888888,
              "#fdca26"
             ],
             [
              1,
              "#f0f921"
             ]
            ],
            "type": "heatmapgl"
           }
          ],
          "histogram": [
           {
            "marker": {
             "colorbar": {
              "outlinewidth": 0,
              "ticks": ""
             }
            },
            "type": "histogram"
           }
          ],
          "histogram2d": [
           {
            "colorbar": {
             "outlinewidth": 0,
             "ticks": ""
            },
            "colorscale": [
             [
              0,
              "#0d0887"
             ],
             [
              0.1111111111111111,
              "#46039f"
             ],
             [
              0.2222222222222222,
              "#7201a8"
             ],
             [
              0.3333333333333333,
              "#9c179e"
             ],
             [
              0.4444444444444444,
              "#bd3786"
             ],
             [
              0.5555555555555556,
              "#d8576b"
             ],
             [
              0.6666666666666666,
              "#ed7953"
             ],
             [
              0.7777777777777778,
              "#fb9f3a"
             ],
             [
              0.8888888888888888,
              "#fdca26"
             ],
             [
              1,
              "#f0f921"
             ]
            ],
            "type": "histogram2d"
           }
          ],
          "histogram2dcontour": [
           {
            "colorbar": {
             "outlinewidth": 0,
             "ticks": ""
            },
            "colorscale": [
             [
              0,
              "#0d0887"
             ],
             [
              0.1111111111111111,
              "#46039f"
             ],
             [
              0.2222222222222222,
              "#7201a8"
             ],
             [
              0.3333333333333333,
              "#9c179e"
             ],
             [
              0.4444444444444444,
              "#bd3786"
             ],
             [
              0.5555555555555556,
              "#d8576b"
             ],
             [
              0.6666666666666666,
              "#ed7953"
             ],
             [
              0.7777777777777778,
              "#fb9f3a"
             ],
             [
              0.8888888888888888,
              "#fdca26"
             ],
             [
              1,
              "#f0f921"
             ]
            ],
            "type": "histogram2dcontour"
           }
          ],
          "mesh3d": [
           {
            "colorbar": {
             "outlinewidth": 0,
             "ticks": ""
            },
            "type": "mesh3d"
           }
          ],
          "parcoords": [
           {
            "line": {
             "colorbar": {
              "outlinewidth": 0,
              "ticks": ""
             }
            },
            "type": "parcoords"
           }
          ],
          "pie": [
           {
            "automargin": true,
            "type": "pie"
           }
          ],
          "scatter": [
           {
            "marker": {
             "colorbar": {
              "outlinewidth": 0,
              "ticks": ""
             }
            },
            "type": "scatter"
           }
          ],
          "scatter3d": [
           {
            "line": {
             "colorbar": {
              "outlinewidth": 0,
              "ticks": ""
             }
            },
            "marker": {
             "colorbar": {
              "outlinewidth": 0,
              "ticks": ""
             }
            },
            "type": "scatter3d"
           }
          ],
          "scattercarpet": [
           {
            "marker": {
             "colorbar": {
              "outlinewidth": 0,
              "ticks": ""
             }
            },
            "type": "scattercarpet"
           }
          ],
          "scattergeo": [
           {
            "marker": {
             "colorbar": {
              "outlinewidth": 0,
              "ticks": ""
             }
            },
            "type": "scattergeo"
           }
          ],
          "scattergl": [
           {
            "marker": {
             "colorbar": {
              "outlinewidth": 0,
              "ticks": ""
             }
            },
            "type": "scattergl"
           }
          ],
          "scattermapbox": [
           {
            "marker": {
             "colorbar": {
              "outlinewidth": 0,
              "ticks": ""
             }
            },
            "type": "scattermapbox"
           }
          ],
          "scatterpolar": [
           {
            "marker": {
             "colorbar": {
              "outlinewidth": 0,
              "ticks": ""
             }
            },
            "type": "scatterpolar"
           }
          ],
          "scatterpolargl": [
           {
            "marker": {
             "colorbar": {
              "outlinewidth": 0,
              "ticks": ""
             }
            },
            "type": "scatterpolargl"
           }
          ],
          "scatterternary": [
           {
            "marker": {
             "colorbar": {
              "outlinewidth": 0,
              "ticks": ""
             }
            },
            "type": "scatterternary"
           }
          ],
          "surface": [
           {
            "colorbar": {
             "outlinewidth": 0,
             "ticks": ""
            },
            "colorscale": [
             [
              0,
              "#0d0887"
             ],
             [
              0.1111111111111111,
              "#46039f"
             ],
             [
              0.2222222222222222,
              "#7201a8"
             ],
             [
              0.3333333333333333,
              "#9c179e"
             ],
             [
              0.4444444444444444,
              "#bd3786"
             ],
             [
              0.5555555555555556,
              "#d8576b"
             ],
             [
              0.6666666666666666,
              "#ed7953"
             ],
             [
              0.7777777777777778,
              "#fb9f3a"
             ],
             [
              0.8888888888888888,
              "#fdca26"
             ],
             [
              1,
              "#f0f921"
             ]
            ],
            "type": "surface"
           }
          ],
          "table": [
           {
            "cells": {
             "fill": {
              "color": "#EBF0F8"
             },
             "line": {
              "color": "white"
             }
            },
            "header": {
             "fill": {
              "color": "#C8D4E3"
             },
             "line": {
              "color": "white"
             }
            },
            "type": "table"
           }
          ]
         },
         "layout": {
          "annotationdefaults": {
           "arrowcolor": "#2a3f5f",
           "arrowhead": 0,
           "arrowwidth": 1
          },
          "coloraxis": {
           "colorbar": {
            "outlinewidth": 0,
            "ticks": ""
           }
          },
          "colorscale": {
           "diverging": [
            [
             0,
             "#8e0152"
            ],
            [
             0.1,
             "#c51b7d"
            ],
            [
             0.2,
             "#de77ae"
            ],
            [
             0.3,
             "#f1b6da"
            ],
            [
             0.4,
             "#fde0ef"
            ],
            [
             0.5,
             "#f7f7f7"
            ],
            [
             0.6,
             "#e6f5d0"
            ],
            [
             0.7,
             "#b8e186"
            ],
            [
             0.8,
             "#7fbc41"
            ],
            [
             0.9,
             "#4d9221"
            ],
            [
             1,
             "#276419"
            ]
           ],
           "sequential": [
            [
             0,
             "#0d0887"
            ],
            [
             0.1111111111111111,
             "#46039f"
            ],
            [
             0.2222222222222222,
             "#7201a8"
            ],
            [
             0.3333333333333333,
             "#9c179e"
            ],
            [
             0.4444444444444444,
             "#bd3786"
            ],
            [
             0.5555555555555556,
             "#d8576b"
            ],
            [
             0.6666666666666666,
             "#ed7953"
            ],
            [
             0.7777777777777778,
             "#fb9f3a"
            ],
            [
             0.8888888888888888,
             "#fdca26"
            ],
            [
             1,
             "#f0f921"
            ]
           ],
           "sequentialminus": [
            [
             0,
             "#0d0887"
            ],
            [
             0.1111111111111111,
             "#46039f"
            ],
            [
             0.2222222222222222,
             "#7201a8"
            ],
            [
             0.3333333333333333,
             "#9c179e"
            ],
            [
             0.4444444444444444,
             "#bd3786"
            ],
            [
             0.5555555555555556,
             "#d8576b"
            ],
            [
             0.6666666666666666,
             "#ed7953"
            ],
            [
             0.7777777777777778,
             "#fb9f3a"
            ],
            [
             0.8888888888888888,
             "#fdca26"
            ],
            [
             1,
             "#f0f921"
            ]
           ]
          },
          "colorway": [
           "#636efa",
           "#EF553B",
           "#00cc96",
           "#ab63fa",
           "#FFA15A",
           "#19d3f3",
           "#FF6692",
           "#B6E880",
           "#FF97FF",
           "#FECB52"
          ],
          "font": {
           "color": "#2a3f5f"
          },
          "geo": {
           "bgcolor": "white",
           "lakecolor": "white",
           "landcolor": "#E5ECF6",
           "showlakes": true,
           "showland": true,
           "subunitcolor": "white"
          },
          "hoverlabel": {
           "align": "left"
          },
          "hovermode": "closest",
          "mapbox": {
           "style": "light"
          },
          "paper_bgcolor": "white",
          "plot_bgcolor": "#E5ECF6",
          "polar": {
           "angularaxis": {
            "gridcolor": "white",
            "linecolor": "white",
            "ticks": ""
           },
           "bgcolor": "#E5ECF6",
           "radialaxis": {
            "gridcolor": "white",
            "linecolor": "white",
            "ticks": ""
           }
          },
          "scene": {
           "xaxis": {
            "backgroundcolor": "#E5ECF6",
            "gridcolor": "white",
            "gridwidth": 2,
            "linecolor": "white",
            "showbackground": true,
            "ticks": "",
            "zerolinecolor": "white"
           },
           "yaxis": {
            "backgroundcolor": "#E5ECF6",
            "gridcolor": "white",
            "gridwidth": 2,
            "linecolor": "white",
            "showbackground": true,
            "ticks": "",
            "zerolinecolor": "white"
           },
           "zaxis": {
            "backgroundcolor": "#E5ECF6",
            "gridcolor": "white",
            "gridwidth": 2,
            "linecolor": "white",
            "showbackground": true,
            "ticks": "",
            "zerolinecolor": "white"
           }
          },
          "shapedefaults": {
           "line": {
            "color": "#2a3f5f"
           }
          },
          "ternary": {
           "aaxis": {
            "gridcolor": "white",
            "linecolor": "white",
            "ticks": ""
           },
           "baxis": {
            "gridcolor": "white",
            "linecolor": "white",
            "ticks": ""
           },
           "bgcolor": "#E5ECF6",
           "caxis": {
            "gridcolor": "white",
            "linecolor": "white",
            "ticks": ""
           }
          },
          "title": {
           "x": 0.05
          },
          "xaxis": {
           "automargin": true,
           "gridcolor": "white",
           "linecolor": "white",
           "ticks": "",
           "title": {
            "standoff": 15
           },
           "zerolinecolor": "white",
           "zerolinewidth": 2
          },
          "yaxis": {
           "automargin": true,
           "gridcolor": "white",
           "linecolor": "white",
           "ticks": "",
           "title": {
            "standoff": 15
           },
           "zerolinecolor": "white",
           "zerolinewidth": 2
          }
         }
        },
        "title": {
         "font": {
          "color": "#4D5663"
         },
         "text": "Number of Documents in each category"
        },
        "xaxis": {
         "gridcolor": "#E1E5ED",
         "showgrid": true,
         "tickfont": {
          "color": "#4D5663"
         },
         "title": {
          "font": {
           "color": "#4D5663"
          },
          "text": ""
         },
         "zerolinecolor": "#E1E5ED"
        },
        "yaxis": {
         "gridcolor": "#E1E5ED",
         "showgrid": true,
         "tickfont": {
          "color": "#4D5663"
         },
         "title": {
          "font": {
           "color": "#4D5663"
          },
          "text": "Number of Documents"
         },
         "zerolinecolor": "#E1E5ED"
        }
       }
      },
      "text/html": [
       "<div>\n",
       "        \n",
       "        \n",
       "            <div id=\"f35bd03f-9d3b-4a8f-b9b0-4215dc1e77bf\" class=\"plotly-graph-div\" style=\"height:525px; width:100%;\"></div>\n",
       "            <script type=\"text/javascript\">\n",
       "                require([\"plotly\"], function(Plotly) {\n",
       "                    window.PLOTLYENV=window.PLOTLYENV || {};\n",
       "                    window.PLOTLYENV.BASE_URL='https://plot.ly';\n",
       "                    \n",
       "                if (document.getElementById(\"f35bd03f-9d3b-4a8f-b9b0-4215dc1e77bf\")) {\n",
       "                    Plotly.newPlot(\n",
       "                        'f35bd03f-9d3b-4a8f-b9b0-4215dc1e77bf',\n",
       "                        [{\"marker\": {\"color\": \"rgba(255, 153, 51, 0.6)\", \"line\": {\"color\": \"rgba(255, 153, 51, 1.0)\", \"width\": 1}}, \"name\": \"target_names\", \"orientation\": \"v\", \"text\": \"\", \"type\": \"bar\", \"x\": [\"\\u4e70\\u5165\", \"\\u4e2d\\u6027\", \"\\u5356\\u51fa\"], \"y\": [17123, 6634, 12]}],\n",
       "                        {\"legend\": {\"bgcolor\": \"#F5F6F9\", \"font\": {\"color\": \"#4D5663\"}}, \"paper_bgcolor\": \"#F5F6F9\", \"plot_bgcolor\": \"#F5F6F9\", \"template\": {\"data\": {\"bar\": [{\"error_x\": {\"color\": \"#2a3f5f\"}, \"error_y\": {\"color\": \"#2a3f5f\"}, \"marker\": {\"line\": {\"color\": \"#E5ECF6\", \"width\": 0.5}}, \"type\": \"bar\"}], \"barpolar\": [{\"marker\": {\"line\": {\"color\": \"#E5ECF6\", \"width\": 0.5}}, \"type\": \"barpolar\"}], \"carpet\": [{\"aaxis\": {\"endlinecolor\": \"#2a3f5f\", \"gridcolor\": \"white\", \"linecolor\": \"white\", \"minorgridcolor\": \"white\", \"startlinecolor\": \"#2a3f5f\"}, \"baxis\": {\"endlinecolor\": \"#2a3f5f\", \"gridcolor\": \"white\", \"linecolor\": \"white\", \"minorgridcolor\": \"white\", \"startlinecolor\": \"#2a3f5f\"}, \"type\": \"carpet\"}], \"choropleth\": [{\"colorbar\": {\"outlinewidth\": 0, \"ticks\": \"\"}, \"type\": \"choropleth\"}], \"contour\": [{\"colorbar\": {\"outlinewidth\": 0, \"ticks\": \"\"}, \"colorscale\": [[0.0, \"#0d0887\"], [0.1111111111111111, \"#46039f\"], [0.2222222222222222, \"#7201a8\"], [0.3333333333333333, \"#9c179e\"], [0.4444444444444444, \"#bd3786\"], [0.5555555555555556, \"#d8576b\"], [0.6666666666666666, \"#ed7953\"], [0.7777777777777778, \"#fb9f3a\"], [0.8888888888888888, \"#fdca26\"], [1.0, \"#f0f921\"]], \"type\": \"contour\"}], \"contourcarpet\": [{\"colorbar\": {\"outlinewidth\": 0, \"ticks\": \"\"}, \"type\": \"contourcarpet\"}], \"heatmap\": [{\"colorbar\": {\"outlinewidth\": 0, \"ticks\": \"\"}, \"colorscale\": [[0.0, \"#0d0887\"], [0.1111111111111111, \"#46039f\"], [0.2222222222222222, \"#7201a8\"], [0.3333333333333333, \"#9c179e\"], [0.4444444444444444, \"#bd3786\"], [0.5555555555555556, \"#d8576b\"], [0.6666666666666666, \"#ed7953\"], [0.7777777777777778, \"#fb9f3a\"], [0.8888888888888888, \"#fdca26\"], [1.0, \"#f0f921\"]], \"type\": \"heatmap\"}], \"heatmapgl\": [{\"colorbar\": {\"outlinewidth\": 0, \"ticks\": \"\"}, \"colorscale\": [[0.0, \"#0d0887\"], [0.1111111111111111, \"#46039f\"], [0.2222222222222222, \"#7201a8\"], [0.3333333333333333, \"#9c179e\"], [0.4444444444444444, \"#bd3786\"], [0.5555555555555556, \"#d8576b\"], [0.6666666666666666, \"#ed7953\"], [0.7777777777777778, \"#fb9f3a\"], [0.8888888888888888, \"#fdca26\"], [1.0, \"#f0f921\"]], \"type\": \"heatmapgl\"}], \"histogram\": [{\"marker\": {\"colorbar\": {\"outlinewidth\": 0, \"ticks\": \"\"}}, \"type\": \"histogram\"}], \"histogram2d\": [{\"colorbar\": {\"outlinewidth\": 0, \"ticks\": \"\"}, \"colorscale\": [[0.0, \"#0d0887\"], [0.1111111111111111, \"#46039f\"], [0.2222222222222222, \"#7201a8\"], [0.3333333333333333, \"#9c179e\"], [0.4444444444444444, \"#bd3786\"], [0.5555555555555556, \"#d8576b\"], [0.6666666666666666, \"#ed7953\"], [0.7777777777777778, \"#fb9f3a\"], [0.8888888888888888, \"#fdca26\"], [1.0, \"#f0f921\"]], \"type\": \"histogram2d\"}], \"histogram2dcontour\": [{\"colorbar\": {\"outlinewidth\": 0, \"ticks\": \"\"}, \"colorscale\": [[0.0, \"#0d0887\"], [0.1111111111111111, \"#46039f\"], [0.2222222222222222, \"#7201a8\"], [0.3333333333333333, \"#9c179e\"], [0.4444444444444444, \"#bd3786\"], [0.5555555555555556, \"#d8576b\"], [0.6666666666666666, \"#ed7953\"], [0.7777777777777778, \"#fb9f3a\"], [0.8888888888888888, \"#fdca26\"], [1.0, \"#f0f921\"]], \"type\": \"histogram2dcontour\"}], \"mesh3d\": [{\"colorbar\": {\"outlinewidth\": 0, \"ticks\": \"\"}, \"type\": \"mesh3d\"}], \"parcoords\": [{\"line\": {\"colorbar\": {\"outlinewidth\": 0, \"ticks\": \"\"}}, \"type\": \"parcoords\"}], \"pie\": [{\"automargin\": true, \"type\": \"pie\"}], \"scatter\": [{\"marker\": {\"colorbar\": {\"outlinewidth\": 0, \"ticks\": \"\"}}, \"type\": \"scatter\"}], \"scatter3d\": [{\"line\": {\"colorbar\": {\"outlinewidth\": 0, \"ticks\": \"\"}}, \"marker\": {\"colorbar\": {\"outlinewidth\": 0, \"ticks\": \"\"}}, \"type\": \"scatter3d\"}], \"scattercarpet\": [{\"marker\": {\"colorbar\": {\"outlinewidth\": 0, \"ticks\": \"\"}}, \"type\": \"scattercarpet\"}], \"scattergeo\": [{\"marker\": {\"colorbar\": {\"outlinewidth\": 0, \"ticks\": \"\"}}, \"type\": \"scattergeo\"}], \"scattergl\": [{\"marker\": {\"colorbar\": {\"outlinewidth\": 0, \"ticks\": \"\"}}, \"type\": \"scattergl\"}], \"scattermapbox\": [{\"marker\": {\"colorbar\": {\"outlinewidth\": 0, \"ticks\": \"\"}}, \"type\": \"scattermapbox\"}], \"scatterpolar\": [{\"marker\": {\"colorbar\": {\"outlinewidth\": 0, \"ticks\": \"\"}}, \"type\": \"scatterpolar\"}], \"scatterpolargl\": [{\"marker\": {\"colorbar\": {\"outlinewidth\": 0, \"ticks\": \"\"}}, \"type\": \"scatterpolargl\"}], \"scatterternary\": [{\"marker\": {\"colorbar\": {\"outlinewidth\": 0, \"ticks\": \"\"}}, \"type\": \"scatterternary\"}], \"surface\": [{\"colorbar\": {\"outlinewidth\": 0, \"ticks\": \"\"}, \"colorscale\": [[0.0, \"#0d0887\"], [0.1111111111111111, \"#46039f\"], [0.2222222222222222, \"#7201a8\"], [0.3333333333333333, \"#9c179e\"], [0.4444444444444444, \"#bd3786\"], [0.5555555555555556, \"#d8576b\"], [0.6666666666666666, \"#ed7953\"], [0.7777777777777778, \"#fb9f3a\"], [0.8888888888888888, \"#fdca26\"], [1.0, \"#f0f921\"]], \"type\": \"surface\"}], \"table\": [{\"cells\": {\"fill\": {\"color\": \"#EBF0F8\"}, \"line\": {\"color\": \"white\"}}, \"header\": {\"fill\": {\"color\": \"#C8D4E3\"}, \"line\": {\"color\": \"white\"}}, \"type\": \"table\"}]}, \"layout\": {\"annotationdefaults\": {\"arrowcolor\": \"#2a3f5f\", \"arrowhead\": 0, \"arrowwidth\": 1}, \"coloraxis\": {\"colorbar\": {\"outlinewidth\": 0, \"ticks\": \"\"}}, \"colorscale\": {\"diverging\": [[0, \"#8e0152\"], [0.1, \"#c51b7d\"], [0.2, \"#de77ae\"], [0.3, \"#f1b6da\"], [0.4, \"#fde0ef\"], [0.5, \"#f7f7f7\"], [0.6, \"#e6f5d0\"], [0.7, \"#b8e186\"], [0.8, \"#7fbc41\"], [0.9, \"#4d9221\"], [1, \"#276419\"]], \"sequential\": [[0.0, \"#0d0887\"], [0.1111111111111111, \"#46039f\"], [0.2222222222222222, \"#7201a8\"], [0.3333333333333333, \"#9c179e\"], [0.4444444444444444, \"#bd3786\"], [0.5555555555555556, \"#d8576b\"], [0.6666666666666666, \"#ed7953\"], [0.7777777777777778, \"#fb9f3a\"], [0.8888888888888888, \"#fdca26\"], [1.0, \"#f0f921\"]], \"sequentialminus\": [[0.0, \"#0d0887\"], [0.1111111111111111, \"#46039f\"], [0.2222222222222222, \"#7201a8\"], [0.3333333333333333, \"#9c179e\"], [0.4444444444444444, \"#bd3786\"], [0.5555555555555556, \"#d8576b\"], [0.6666666666666666, \"#ed7953\"], [0.7777777777777778, \"#fb9f3a\"], [0.8888888888888888, \"#fdca26\"], [1.0, \"#f0f921\"]]}, \"colorway\": [\"#636efa\", \"#EF553B\", \"#00cc96\", \"#ab63fa\", \"#FFA15A\", \"#19d3f3\", \"#FF6692\", \"#B6E880\", \"#FF97FF\", \"#FECB52\"], \"font\": {\"color\": \"#2a3f5f\"}, \"geo\": {\"bgcolor\": \"white\", \"lakecolor\": \"white\", \"landcolor\": \"#E5ECF6\", \"showlakes\": true, \"showland\": true, \"subunitcolor\": \"white\"}, \"hoverlabel\": {\"align\": \"left\"}, \"hovermode\": \"closest\", \"mapbox\": {\"style\": \"light\"}, \"paper_bgcolor\": \"white\", \"plot_bgcolor\": \"#E5ECF6\", \"polar\": {\"angularaxis\": {\"gridcolor\": \"white\", \"linecolor\": \"white\", \"ticks\": \"\"}, \"bgcolor\": \"#E5ECF6\", \"radialaxis\": {\"gridcolor\": \"white\", \"linecolor\": \"white\", \"ticks\": \"\"}}, \"scene\": {\"xaxis\": {\"backgroundcolor\": \"#E5ECF6\", \"gridcolor\": \"white\", \"gridwidth\": 2, \"linecolor\": \"white\", \"showbackground\": true, \"ticks\": \"\", \"zerolinecolor\": \"white\"}, \"yaxis\": {\"backgroundcolor\": \"#E5ECF6\", \"gridcolor\": \"white\", \"gridwidth\": 2, \"linecolor\": \"white\", \"showbackground\": true, \"ticks\": \"\", \"zerolinecolor\": \"white\"}, \"zaxis\": {\"backgroundcolor\": \"#E5ECF6\", \"gridcolor\": \"white\", \"gridwidth\": 2, \"linecolor\": \"white\", \"showbackground\": true, \"ticks\": \"\", \"zerolinecolor\": \"white\"}}, \"shapedefaults\": {\"line\": {\"color\": \"#2a3f5f\"}}, \"ternary\": {\"aaxis\": {\"gridcolor\": \"white\", \"linecolor\": \"white\", \"ticks\": \"\"}, \"baxis\": {\"gridcolor\": \"white\", \"linecolor\": \"white\", \"ticks\": \"\"}, \"bgcolor\": \"#E5ECF6\", \"caxis\": {\"gridcolor\": \"white\", \"linecolor\": \"white\", \"ticks\": \"\"}}, \"title\": {\"x\": 0.05}, \"xaxis\": {\"automargin\": true, \"gridcolor\": \"white\", \"linecolor\": \"white\", \"ticks\": \"\", \"title\": {\"standoff\": 15}, \"zerolinecolor\": \"white\", \"zerolinewidth\": 2}, \"yaxis\": {\"automargin\": true, \"gridcolor\": \"white\", \"linecolor\": \"white\", \"ticks\": \"\", \"title\": {\"standoff\": 15}, \"zerolinecolor\": \"white\", \"zerolinewidth\": 2}}}, \"title\": {\"font\": {\"color\": \"#4D5663\"}, \"text\": \"Number of Documents in each category\"}, \"xaxis\": {\"gridcolor\": \"#E1E5ED\", \"showgrid\": true, \"tickfont\": {\"color\": \"#4D5663\"}, \"title\": {\"font\": {\"color\": \"#4D5663\"}, \"text\": \"\"}, \"zerolinecolor\": \"#E1E5ED\"}, \"yaxis\": {\"gridcolor\": \"#E1E5ED\", \"showgrid\": true, \"tickfont\": {\"color\": \"#4D5663\"}, \"title\": {\"font\": {\"color\": \"#4D5663\"}, \"text\": \"Number of Documents\"}, \"zerolinecolor\": \"#E1E5ED\"}},\n",
       "                        {\"showLink\": true, \"linkText\": \"Export to plot.ly\", \"plotlyServerURL\": \"https://plot.ly\", \"responsive\": true}\n",
       "                    ).then(function(){\n",
       "                            \n",
       "var gd = document.getElementById('f35bd03f-9d3b-4a8f-b9b0-4215dc1e77bf');\n",
       "var x = new MutationObserver(function (mutations, observer) {{\n",
       "        var display = window.getComputedStyle(gd).display;\n",
       "        if (!display || display === 'none') {{\n",
       "            console.log([gd, 'removed!']);\n",
       "            Plotly.purge(gd);\n",
       "            observer.disconnect();\n",
       "        }}\n",
       "}});\n",
       "\n",
       "// Listen for the removal of the full notebook cells\n",
       "var notebookContainer = gd.closest('#notebook-container');\n",
       "if (notebookContainer) {{\n",
       "    x.observe(notebookContainer, {childList: true});\n",
       "}}\n",
       "\n",
       "// Listen for the clearing of the current output cell\n",
       "var outputEl = gd.closest('.output');\n",
       "if (outputEl) {{\n",
       "    x.observe(outputEl, {childList: true});\n",
       "}}\n",
       "\n",
       "                        })\n",
       "                };\n",
       "                });\n",
       "            </script>\n",
       "        </div>"
      ]
     },
     "metadata": {},
     "output_type": "display_data"
    }
   ],
   "source": [
    "df_raw['target_names'].value_counts().sort_values(ascending=False).iplot(kind='bar', yTitle='Number of Documents', \n",
    "                                                                title='Number of Documents in each category')"
   ]
  },
  {
   "cell_type": "code",
   "execution_count": 152,
   "metadata": {},
   "outputs": [],
   "source": [
    "df = df_raw"
   ]
  },
  {
   "cell_type": "code",
   "execution_count": 153,
   "metadata": {},
   "outputs": [
    {
     "data": {
      "text/html": [
       "<div>\n",
       "<style scoped>\n",
       "    .dataframe tbody tr th:only-of-type {\n",
       "        vertical-align: middle;\n",
       "    }\n",
       "\n",
       "    .dataframe tbody tr th {\n",
       "        vertical-align: top;\n",
       "    }\n",
       "\n",
       "    .dataframe thead th {\n",
       "        text-align: right;\n",
       "    }\n",
       "</style>\n",
       "<table border=\"1\" class=\"dataframe\">\n",
       "  <thead>\n",
       "    <tr style=\"text-align: right;\">\n",
       "      <th></th>\n",
       "      <th>data</th>\n",
       "      <th>target_names</th>\n",
       "      <th>target</th>\n",
       "    </tr>\n",
       "  </thead>\n",
       "  <tbody>\n",
       "    <tr>\n",
       "      <th>column type</th>\n",
       "      <td>object</td>\n",
       "      <td>object</td>\n",
       "      <td>int64</td>\n",
       "    </tr>\n",
       "    <tr>\n",
       "      <th>null values (nb)</th>\n",
       "      <td>0</td>\n",
       "      <td>0</td>\n",
       "      <td>0</td>\n",
       "    </tr>\n",
       "    <tr>\n",
       "      <th>null values (%)</th>\n",
       "      <td>0</td>\n",
       "      <td>0</td>\n",
       "      <td>0</td>\n",
       "    </tr>\n",
       "  </tbody>\n",
       "</table>\n",
       "</div>"
      ],
      "text/plain": [
       "                    data target_names target\n",
       "column type       object       object  int64\n",
       "null values (nb)       0            0      0\n",
       "null values (%)        0            0      0"
      ]
     },
     "execution_count": 153,
     "metadata": {},
     "output_type": "execute_result"
    }
   ],
   "source": [
    "# audit dataframe (check for nulls)\n",
    "def table_info(data):\n",
    "    tab_info=pd.DataFrame(data.dtypes).T.rename(index={0:'column type'})\n",
    "    tab_info=tab_info.append(pd.DataFrame(data.isnull().sum()).T.rename(index={0:'null values (nb)'}))\n",
    "    tab_info=tab_info.append(pd.DataFrame(data.isnull().sum()/data.shape[0]*100).T.rename(index={0:'null values (%)'}))\n",
    "    return tab_info\n",
    "\n",
    "table_info(df)"
   ]
  },
  {
   "cell_type": "markdown",
   "metadata": {},
   "source": [
    "## Data preprocessing"
   ]
  },
  {
   "cell_type": "code",
   "execution_count": 154,
   "metadata": {},
   "outputs": [
    {
     "name": "stdout",
     "output_type": "stream",
     "text": [
      " \n",
      " \n",
      " \n",
      "公司报告 | 年报点评报告 \n",
      "  \n",
      "中科创达（300496） 证券研究报告  2020年 02月 27日 \n",
      "投资评级 \n",
      "5G应用核心标的，报表继续验证高景气度！ 行业 计算机/计算机应用 \n",
      "6个月评级 增持（维持评级） \n",
      "  \n",
      "事件 当前价格 68.15元 \n",
      "目标价格  元 \n",
      "公司发布年报，2019 年营收 18.27 亿元，同比增长 24.74%，归母净利润  \n",
      "2.38亿元，同比增长 44.63%。 \n",
      " 基本数据 \n",
      "19年业绩整体符合预期，维持快速增长 A股总股本(百万股) 402.52 \n",
      "流通 A股股本(百万股) 283.19  \n",
      "公司实现归母净利润 2.38亿元，同比增长约 45%，位于此前业绩预告中值\n",
      "A股总市值(百万元) 27,431.40 \n",
      "47%附近，符合市场预期。扣非后净利润高增主要与收入端高增有关，公  \n",
      "司实现收入 18.27亿元，同比增长 24.74%，整体符合预期。结构看，手机/ 流通 A股市值(百万元) 19,299.49  \n",
      "汽车/物联网业务同比增长 14%/72%/13%。公司布局新一代网联汽车业务， 每股净资产(元) 4.76 \n",
      "市场渗透率提升，收入持续高速增长。公司整体毛利率上升 0.92个百分点， 资产负债率(%) 30.41 \n",
      "考虑商业模式逐步变化，我们看好新业务汽车软件毛利率持续改善，投入 一 年内最高/最低(元) 79.90/25.73 \n",
      "产出比提升。  \n",
      "20年 Q1扣非业绩增长 43%略超预期  作者 \n",
      "沈海兵 分析师 \n",
      "公司发布 20Q1 业绩预告，业绩增速预计中值约 30%符合预期，扣非业绩 SAC执业证书编号：S1110517030001 \n",
      "有望达 6000万，同比增长 43%略超预期。收入保持高增长，预计超 30%， shenhaibing@tfzq.com \n",
      "我们判断主要与物联网业务出货加速和汽车业务保持高速增长有关，业务 缪欣君 分析师 \n",
      "面向全球，19年海外收入占比 56%，公司通过远程协同办公等方式发力海 SAC执业证书编号：S1110517080003 \n",
      "外业务，受疫情影响有限。 miaoxinjun@tfzq.com  \n",
      "潘暕 分析师 \n",
      "20年基本面有望逐季加速，高度看好 SAC执业证书编号：S1110517070005 \n",
      " panjian@tfzq.com \n",
      "5G 应用三大赛道景气度推动，车厂智能驾驶舱相关车型有望加快集中量  \n",
      "产，渗透率加速提升看好汽车软件市场持续高速增长，保守预计公司 20 股价走势 \n",
      "年收入有望实现 35%以上增长，并逐季加速。而新业务投入产出比改善下， 中科创达 计算机应用\n",
      "净利率增速理应更高。考虑汽车软件市场增量以及 IOT业务长期成长空间， 创业板指\n",
      "123%\n",
      "调整公司 2020/2021净利润 3.10/4.11亿元至 3.27/4.39亿元，2020/2021 EPS 102%\n",
      "分别为 0.81/1.09，维持增持评级。 81%\n",
      "60%\n",
      "风险提示：5G智能终端普及速度不及预期；智能网汽车景气度不及预期； 39%\n",
      "公司智能业务汽车市占率提升不及预期 18%\n",
      "-3%\n",
      "-24%\n",
      "2019-02 2019-06 2019-10  \n",
      "资料来源：贝格数据 \n",
      "  \n",
      "相关报告 \n",
      "1 《中科创达-季报点评:5G应用核心标\n",
      "的，Q3 业绩再度验证赛道景气度》 \n",
      "2019-10-22 \n",
      "2 《中科创达-半年报点评:核心业务略\n",
      "  超预期，5G 应用的方向型核心资产》 \n",
      "财务数据和估值 2017 2018 2019E 2020E 2021E 2019-08-09 \n",
      "营业收入(百万元) 1,162.33 1,464.58 1,830.73 2,489.79 3,435.91 3 《中科创达-公司点评:中报业绩符合\n",
      "增长率(%) 37.08 26.00 25.00 36.00 38.00 市场预期，智能汽车业务高速增长》 \n",
      "EBITDA(百万元) 130.12 389.68 306.87 407.78 526.65  2019-07-15 \n",
      "净利润(百万元) 78.04 164.30 238.62 326.58 439.05  \n",
      "增长率(%) -35.12 110.53 45.23 36.86 34.44 \n",
      "EPS(元/股) 0.19 0.41 0.59 0.81 1.09 \n",
      "市盈率(P/E) 351.49 166.95 114.96 84.00 62.48 \n",
      "市净率(P/B) 21.90 18.36 15.66 13.87 11.94 \n",
      "市销率(P/S) 23.60 18.73 14.98 11.02 7.98 \n",
      "  EV/EBITDA 95.45 21.31 86.50 64.88 49.83 \n",
      "资料来源：wind，天风证券研究所 \n",
      " \n",
      "      请务必阅读正文之后的信息披露和免责申明   1 \n",
      " \n",
      "  \n",
      " \n",
      " \n",
      "公司报告 | 年报点评报告 \n",
      "财务预测摘要 \n",
      " \n",
      "资产负债表(百万元) 2017 2018 2019E 2020E 2021E  利润表(百万元) 2017 2018 2019E 2020E 2021E \n",
      "货币资金 1,274.60 894.47 1,187.52 1,277.47 1,501.55  营业收入 1,162.33 1,464.58 1,830.73 2,489.79 3,435.91 \n",
      "应收票据及应收账款 408.13 492.40 690.06 751.27 1,237.76  营业成本 739.51 853.73 1,050.84 1,441.59 2,001.76 \n",
      "预付账款 42.13 23.60 39.17 59.53 77.39  营业税金及附加 4.72 4.10 7.53 9.11 12.10 \n",
      "存货 8.46 15.10 23.96 23.52 49.19  营业费用 46.45 95.51 91.54 99.59 137.44 \n",
      "其他 76.76 28.84 46.06 66.20 64.03  管理费用 282.99 187.27 219.69 273.88 377.95 \n",
      "流动资产合计 1,810.08 1,454.40 1,986.78 2,177.99 2,929.92  研发费用 0.00 234.51 234.33 318.69 446.67 \n",
      "长期股权投资 47.98 44.53 44.53 44.53 44.53  财务费用 31.95 -3.46 6.54 5.10 3.92 \n",
      "固定资产 75.18 73.27 92.31 131.43 169.60  资产减值损失 21.02 3.86 9.04 11.31 8.07 \n",
      "在建工程 0.00 0.00 36.00 69.60 71.76  公允价值变动收益 4.79 -2.35 15.97 -3.30 -3.12 \n",
      "无形资产 236.58 303.90 240.58 177.27 113.95  投资净收益 7.95 2.84 4.86 4.86 4.86 \n",
      "其他 481.17 725.11 712.42 708.45 698.29  其他 -55.93 -80.91 -41.66 -3.12 -3.48 \n",
      "非流动资产合计 840.91 1,146.81 1,125.85 1,131.28 1,098.14  营业利润 78.87 169.48 232.06 332.09 449.74 \n",
      "资产总计 2,657.63 2,603.67 3,117.47 3,313.92 4,032.05  营业外收入 0.95 0.32 14.94 5.41 6.89 \n",
      "短期借款 666.54 373.75 373.75 373.75 373.75  营业外支出 0.56 0.53 0.67 0.59 0.60 \n",
      "应付票据及应付账款 92.93 76.64 66.45 165.42 165.29  利润总额 79.26 169.27 246.33 336.91 456.03 \n",
      "其他 354.03 344.24 641.75 502.10 898.57  所得税 3.12 2.41 8.62 11.79 15.96 \n",
      "流动负债合计 1,113.50 794.63 1,081.95 1,041.28 1,437.61  净利润 76.14 166.86 237.71 325.11 440.07 \n",
      "长期借款 166.01 163.77 163.00 163.00 163.00  少数股东损益 -1.91 2.56 -0.91 -1.47 1.02 \n",
      "应付债券 0.00 0.00 0.00 0.00 0.00  归属于母公司净利润 78.04 164.30 238.62 326.58 439.05 \n",
      "其他 71.41 93.51 63.51 76.14 77.72  每股收益（元） 0.19 0.41 0.59 0.81 1.09 \n",
      "非流动负债合计 237.41 257.28 226.51 239.14 240.72        \n",
      "负债合计 1,350.92 1,051.91 1,308.46 1,280.42 1,678.33        \n",
      "少数股东权益 54.03 58.06 57.19 55.75 56.75  主要财务比率 2017 2018 2019E 2020E 2021E \n",
      "股本 403.88 403.09 402.52 402.52 402.52  成长能力       \n",
      "资本公积 630.78 650.90 650.90 650.90 650.90  营业收入 37.08% 26.00% 25.00% 36.00% 38.00% \n",
      "留存收益 1,027.54 1,179.83 1,349.30 1,575.23 1,894.45  营业利润 -11.02% 114.89% 36.92% 43.11% 35.43% \n",
      "其他 -809.53 -740.12 -650.90 -650.90 -650.90  归属于母公司净利润 -35.12% 110.53% 45.23% 36.86% 34.44% \n",
      "股东权益合计 1,306.71 1,551.76 1,809.01 2,033.50 2,353.72  获利能力      \n",
      "负债和股东权益总 2,657.63 2,603.67 3,117.47 3,313.92 4,032.05  毛利率 36.38% 41.71% 42.60% 42.10% 41.74% \n",
      " 计      \n",
      " 净利率 6.71% 11.22% 13.03% 13.12% 12.78% \n",
      "       ROE 6.23% 11.00% 13.62% 16.51% 19.11% \n",
      "       ROIC 62.66% 26.41% 25.86% 37.70% 43.66% \n",
      "现金流量表(百万元) 2017 2018 2019E 2020E 2021E  偿债能力      \n",
      "净利润 76.14 166.86 238.62 326.58 439.05  资产负债率 50.83% 40.40% 41.97% 38.64% 41.62% \n",
      "折旧摊销 55.47 74.77 68.27 70.59 72.99  净负债率 -33.57% -22.79% -35.85% -36.28% -40.87% \n",
      "财务费用 30.77 5.56 6.54 5.10 3.92  流动比率 1.63 1.83 1.84 2.10 2.04 \n",
      "投资损失 -7.95 -2.84 -4.86 -4.86 -4.86  速动比率 1.62 1.81 1.82 2.07 2.01 \n",
      "营运资金变动 -23.14 181.08 15.76 -122.77 -116.51  营运能力      \n",
      "其它 50.07 -172.10 15.06 -4.77 -2.10  应收账款周转率 3.11 3.25 3.10 3.45 3.45 \n",
      "经营活动现金流 181.36 253.33 339.39 269.87 392.48  存货周转率 92.35 124.32 93.74 104.88 94.51 \n",
      "资本支出 364.87 289.51 90.00 67.37 48.42  总资产周转率 0.51 0.56 0.64 0.77 0.94 \n",
      "长期投资 -56.65 -3.44 0.00 0.00 0.00  每股指标（元）      \n",
      "其他 -722.39 -530.22 -147.53 -142.31 -92.90  每股收益 0.19 0.41 0.59 0.81 1.09 \n",
      "投资活动现金流 -414.17 -244.15 -57.53 -74.94 -44.48  每股经营现金流 0.45 0.63 0.84 0.67 0.98 \n",
      "债权融资 835.91 540.75 538.95 539.68 539.53  每股净资产 3.11 3.71 4.35 4.91 5.71 \n",
      "股权融资 67.60 112.32 82.11 -5.10 -3.92  估值比率      \n",
      "其他 -910.16 -778.51 -609.86 -639.57 -659.53  市盈率 351.49 166.95 114.96 84.00 62.48 \n",
      "筹资活动现金流 -6.65 -125.44 11.20 -104.99 -123.92  市净率 21.90 18.36 15.66 13.87 11.94 \n",
      "汇率变动影响 0.00 0.00 0.00 0.00 0.00  EV/EBITDA 95.45 21.31 86.50 64.88 49.83 \n",
      "现金净增加额 -239.45 -116.26 293.06 89.94 224.09  EV/EBIT 154.53 25.90 111.25 78.46 57.85 \n",
      "资料来源：公司公告，天风证券研究所 \n",
      "  \n",
      "      请务必阅读正文之后的信息披露和免责申明 2 \n",
      "  \n",
      " \n",
      " \n",
      "公司报告 | 年报点评报告 \n",
      "  \n",
      "分析师声明 \n",
      "本报告署名分析师在此声明：我们具有中国证券业协会授予的证券投资咨询执业资格或相当的专业胜任能力，本报告所表述的\n",
      "所有观点均准确地反映了我们对标的证券和发行人的个人看法。我们所得报酬的任何部分不曾与，不与，也将不会与本报告中\n",
      "的具体投资建议或观点有直接或间接联系。 \n",
      " \n",
      "一般声明 \n",
      "除非另有规定，本报告中的所有材料版权均属天风证券股份有限公司（已获中国证监会许可的证券投资咨询业务资格）及其附\n",
      "属机构（以下统称“天风证券”）。未经天风证券事先书面授权，不得以任何方式修改、发送或者复制本报告及其所包含的材料、\n",
      "内容。所有本报告中使用的商标、服务标识及标记均为天风证券的商标、服务标识及标记。 \n",
      "本报告是机密的，仅供我们的客户使用，天风证券不因收件人收到本报告而视其为天风证券的客户。本报告中的信息均来源于\n",
      "我们认为可靠的已公开资料，但天风证券对这些信息的准确性及完整性不作任何保证。本报告中的信息、意见等均仅供客户参\n",
      "考，不构成所述证券买卖的出价或征价邀请或要约。该等信息、意见并未考虑到获取本报告人员的具体投资目的、财务状况以\n",
      "及特定需求，在任何时候均不构成对任何人的个人推荐。客户应当对本报告中的信息和意见进行独立评估，并应同时考量各自\n",
      "的投资目的、财务状况和特定需求，必要时就法律、商业、财务、税收等方面咨询专家的意见。对依据或者使用本报告所造成\n",
      "的一切后果，天风证券及/或其关联人员均不承担任何法律责任。 \n",
      "本报告所载的意见、评估及预测仅为本报告出具日的观点和判断。该等意见、评估及预测无需通知即可随时更改。过往的表现\n",
      "亦不应作为日后表现的预示和担保。在不同时期，天风证券可能会发出与本报告所载意见、评估及预测不一致的研究报告。 \n",
      "天风证券的销售人员、交易人员以及其他专业人士可能会依据不同假设和标准、采用不同的分析方法而口头或书面发表与本报\n",
      "告意见及建议不一致的市场评论和/或交易观点。天风证券没有将此意见及建议向报告所有接收者进行更新的义务。天风证券的\n",
      "资产管理部门、自营部门以及其他投资业务部门可能独立做出与本报告中的意见或建议不一致的投资决策。 \n",
      " \n",
      "特别声明 \n",
      "在法律许可的情况下，天风证券可能会持有本报告中提及公司所发行的证券并进行交易，也可能为这些公司提供或争取提供投\n",
      "资银行、财务顾问和金融产品等各种金融服务。因此，投资者应当考虑到天风证券及/或其相关人员可能存在影响本报告观点客\n",
      "观性的潜在利益冲突，投资者请勿将本报告视为投资或其他决定的唯一参考依据。 \n",
      "  \n",
      " \n",
      "投资评级声明 \n",
      "类别 说明  评级 体系 \n",
      "  \n",
      " 买入  预期股价相对收益 20%以上 \n",
      " 自报告日后的 6个月内，相对同期沪  增持  预期股价相对收益 10%-20% \n",
      " 股票投资评级 \n",
      " 深 300指数的涨跌幅  持有  预期股价相对收益-10%-10% \n",
      "  卖出  预期股价相对收益-10%以下 \n",
      " 强于大市  预期行业指数涨幅 5%以上 \n",
      " 自报告日后的 6个月内，相对同期沪 \n",
      " 行业投资评级  中性  预期行业指数涨幅-5%-5% \n",
      " 深 300指数的涨跌幅 \n",
      "   弱于大市  预期行业指数涨幅-5%以下 \n",
      " \n",
      "天风证券研究 \n",
      " \n",
      "北京 武汉 上海 深圳 \n",
      "北京市西城区佟麟阁路 36号 湖北武汉市武昌区中南路 99 上海市浦东新区兰花路 333 深圳市福田区益田路 5033号 \n",
      "邮编：100031 号保利广场 A座 37楼 号 333世纪大厦 20楼 平安金融中心 71楼 \n",
      "邮箱：research@tfzq.com 邮编：430071 邮编：201204 邮编：518000 \n",
      "电话：(8627)-87618889 电话：(8621)-68815388 电话：(86755)-23915663 \n",
      "传真：(8627)-87618863 传真：(8621)-68812910 传真：(86755)-82571995 \n",
      " 邮箱：research@tfzq.com 邮箱：research@tfzq.com 邮箱：research@tfzq.com \n",
      " \n",
      "      请务必阅读正文之后的信息披露和免责申明 3 \n",
      "  \n",
      "eX8VrUvXkVnUkWdUMBpPtO6MbP7NpNoOpNrRkPmMsQkPsQsNbRqRsNxNnMqPxNrRqM\n",
      "\n",
      "Category: 中性\n"
     ]
    }
   ],
   "source": [
    "# print one sample\n",
    "def print_data(index):\n",
    "    example = df[df.index == index][['data', 'target_names']].values[0]\n",
    "    if len(example) > 0:\n",
    "        print(example[0])\n",
    "        print('Category:', example[1])\n",
    "\n",
    "print_data(100)"
   ]
  },
  {
   "cell_type": "code",
   "execution_count": 155,
   "metadata": {},
   "outputs": [],
   "source": [
    "df_backup = df"
   ]
  },
  {
   "cell_type": "code",
   "execution_count": 160,
   "metadata": {},
   "outputs": [
    {
     "data": {
      "text/html": [
       "<div>\n",
       "<style scoped>\n",
       "    .dataframe tbody tr th:only-of-type {\n",
       "        vertical-align: middle;\n",
       "    }\n",
       "\n",
       "    .dataframe tbody tr th {\n",
       "        vertical-align: top;\n",
       "    }\n",
       "\n",
       "    .dataframe thead th {\n",
       "        text-align: right;\n",
       "    }\n",
       "</style>\n",
       "<table border=\"1\" class=\"dataframe\">\n",
       "  <thead>\n",
       "    <tr style=\"text-align: right;\">\n",
       "      <th></th>\n",
       "      <th>data</th>\n",
       "      <th>target_names</th>\n",
       "      <th>target</th>\n",
       "    </tr>\n",
       "  </thead>\n",
       "  <tbody>\n",
       "    <tr>\n",
       "      <th>0</th>\n",
       "      <td>\\n[table_research]     \\n公司点评●国防军工 2020 年 4 月...</td>\n",
       "      <td>买入</td>\n",
       "      <td>1</td>\n",
       "    </tr>\n",
       "    <tr>\n",
       "      <th>1</th>\n",
       "      <td>\\n     \\n 2020年 4月 6日   \\n   \\n安正时尚（603839.S...</td>\n",
       "      <td>买入</td>\n",
       "      <td>1</td>\n",
       "    </tr>\n",
       "    <tr>\n",
       "      <th>2</th>\n",
       "      <td>\\n \\n \\n2020 年 08 月 29 日 \\n \\n白  \\n色 投资评级：增持(...</td>\n",
       "      <td>中性</td>\n",
       "      <td>0</td>\n",
       "    </tr>\n",
       "    <tr>\n",
       "      <th>3</th>\n",
       "      <td>\\n \\n公司报告 | 年报点评报告 \\n  \\n鸿路钢构（002541） 证券研究报告 ...</td>\n",
       "      <td>买入</td>\n",
       "      <td>1</td>\n",
       "    </tr>\n",
       "    <tr>\n",
       "      <th>4</th>\n",
       "      <td>证\\n券\\n 研\\n公司究点评公 |司 完点美评世界 |  完美世界 \\n西西部部证证券券 ...</td>\n",
       "      <td>买入</td>\n",
       "      <td>1</td>\n",
       "    </tr>\n",
       "    <tr>\n",
       "      <th>...</th>\n",
       "      <td>...</td>\n",
       "      <td>...</td>\n",
       "      <td>...</td>\n",
       "    </tr>\n",
       "    <tr>\n",
       "      <th>1995</th>\n",
       "      <td>\\n2020 年 07 月 13 日 公司研究 评级：买入（维持） \\n研 究所 \\n证...</td>\n",
       "      <td>买入</td>\n",
       "      <td>1</td>\n",
       "    </tr>\n",
       "    <tr>\n",
       "      <th>1996</th>\n",
       "      <td>\\n[Table_Message]2 020-08-12 \\n \\n公司点评报告 \\n公 ...</td>\n",
       "      <td>中性</td>\n",
       "      <td>0</td>\n",
       "    </tr>\n",
       "    <tr>\n",
       "      <th>1997</th>\n",
       "      <td>\\n \\n[Table增_Ma持inInf o]  \\n——维持 亿纬锂能（300014...</td>\n",
       "      <td>中性</td>\n",
       "      <td>0</td>\n",
       "    </tr>\n",
       "    <tr>\n",
       "      <th>1998</th>\n",
       "      <td>\\n[中Tab芯le_国Titl际e] -U（688981） \\n公司研究/点评报告 \\n...</td>\n",
       "      <td>买入</td>\n",
       "      <td>1</td>\n",
       "    </tr>\n",
       "    <tr>\n",
       "      <th>1999</th>\n",
       "      <td>\\n[Table_StockInfo]  \\n2020 年 04 月 23 日 买入 （维...</td>\n",
       "      <td>买入</td>\n",
       "      <td>1</td>\n",
       "    </tr>\n",
       "  </tbody>\n",
       "</table>\n",
       "<p>2000 rows × 3 columns</p>\n",
       "</div>"
      ],
      "text/plain": [
       "                                                   data target_names  target\n",
       "0      \\n[table_research]     \\n公司点评●国防军工 2020 年 4 月...           买入       1\n",
       "1       \\n     \\n 2020年 4月 6日   \\n   \\n安正时尚（603839.S...           买入       1\n",
       "2      \\n \\n \\n2020 年 08 月 29 日 \\n \\n白  \\n色 投资评级：增持(...           中性       0\n",
       "3      \\n \\n公司报告 | 年报点评报告 \\n  \\n鸿路钢构（002541） 证券研究报告 ...           买入       1\n",
       "4     证\\n券\\n 研\\n公司究点评公 |司 完点美评世界 |  完美世界 \\n西西部部证证券券 ...           买入       1\n",
       "...                                                 ...          ...     ...\n",
       "1995    \\n2020 年 07 月 13 日 公司研究 评级：买入（维持） \\n研 究所 \\n证...           买入       1\n",
       "1996   \\n[Table_Message]2 020-08-12 \\n \\n公司点评报告 \\n公 ...           中性       0\n",
       "1997    \\n \\n[Table增_Ma持inInf o]  \\n——维持 亿纬锂能（300014...           中性       0\n",
       "1998   \\n[中Tab芯le_国Titl际e] -U（688981） \\n公司研究/点评报告 \\n...           买入       1\n",
       "1999   \\n[Table_StockInfo]  \\n2020 年 04 月 23 日 买入 （维...           买入       1\n",
       "\n",
       "[2000 rows x 3 columns]"
      ]
     },
     "execution_count": 160,
     "metadata": {},
     "output_type": "execute_result"
    }
   ],
   "source": [
    "df = df_backup.sample(n = 2000) \n",
    "df = df.reset_index(drop=True)\n",
    "df"
   ]
  },
  {
   "cell_type": "code",
   "execution_count": 161,
   "metadata": {},
   "outputs": [],
   "source": [
    "file_name = 'data/classification_data_v3/dict.txt'\n",
    "jieba.load_userdict(file_name) # 自定义词汇\n",
    "# remove special characters and punctuation\n",
    "REPLACE_BY_SPACE_RE = re.compile('[/(){}\\[\\]\\|@,;.。%-]')\n",
    "STOPWORDS = {\"的\",\"和\",\"\\n\",\" \"} # set(stopwords.words('english'))\n",
    "def clean_text(text):\n",
    "    text = REPLACE_BY_SPACE_RE.sub(' ', text)\n",
    "    text = re.compile('[，（）%％《》、:：]').sub(' ', text)\n",
    "#     text = ''.join(re.findall(r'[\\u4e00-\\u9fa5]', text)) # only chinese words\n",
    "    wordlist = jieba.lcut(text, cut_all=False) # partition\n",
    "    text = ' '.join(word for word in wordlist if word not in STOPWORDS) # combine\n",
    "    return text\n",
    "\n",
    "df['data'] = df['data'].apply(clean_text)\n",
    "# df['data'] = df['data'].str.replace('\\d+', '') # remove all digits"
   ]
  },
  {
   "cell_type": "code",
   "execution_count": 162,
   "metadata": {},
   "outputs": [
    {
     "name": "stdout",
     "output_type": "stream",
     "text": [
      "Table _ StockInfo 2020 年 04 月 23 日 买入 维持 证券 研究 报告 • 2019 年报 及 2020 一 季报 点评 当前 价 85 92 元 中国 国旅 601888 休闲 服务 目标价 — — 元 6 个 月 业绩 稳健 离岛 可 期 疫情 不改 长期 成长 趋势 投资 要点 西南 证券 研究 发展 中心  T a 业 ble 绩 _ S 总 u 结 m ma 公 ry 司 发布 2019 年报 全年 实现 营收 479 7 亿元 同比 增长 2 0 实现 归母 净利润 46 3 亿元 同比 增长 49 6 实现 扣非 净利润 38 3 亿元 同 分 Ta 析 bl 师 e _ Au 朱 th 芸 or 比 增长 21 8 扣非 主要 受 处置 国旅总社 影响 其中 Q4 单 季度 实现 营收 123 8 执业 证号 S1250517070001 亿元 同比 下降 4 1 归母 净利润 4 3 亿元 同比 增长 11 3 同时 发布 2020 电话 010 57758600 年 一 季报 2020Q1 实现 营收 76 4 亿元 同比 下降 44 2 亏损 1 2 亿元 主 要 受 疫情 影响 邮箱 zhuz swsc com cn  2019 全年 内生 免税 稳健 增长 三亚 表现 亮眼 国旅总社 剥离 前 并表 收入 6 亿元 公司 全年 实现 商品销售 营收 469 7 亿元 同比 增长 36 8 分 板块 看 三亚 免 相 Ta 对 bl 指 e _ 数 Qu 表 o 现 te Pic 税城 下半年 受益 于 折扣 力度 加强 等 推动 因素 表现 亮眼 全年 实现 营收 104 7 亿 中国 国旅 沪 深 300 元 同比 增长 30 7 全年 接待 顾客 731 万人次 购物 人数 217 万人次 ； 上海 25 日上 实现 营收 151 5 亿元 同比 增长 45 首都机场 实现 营收 85 9 亿元 同比 增长 16 3 香港机场 实现 营收 24 0 亿元 同比 增长 14 5 白云机场 实现 营 18 收 19 2 亿元 同比 大幅 增长 117 5 其他 免税 营收 75 8 亿元 10  毛利率 受 汇率 影响 费用 端受 扣点 提升 拖累 减值 准备 等 影响 受 人民币 兑美 2 元 贬值 影响 导致 公司 免税 业务 采购 成本 上涨 毛利率 小幅 下降 至 37 9 yoy 3 1pp 国旅总社 剥离 拉动 公司 整体 毛利率 提升 至 49 4 yoy + 7 9pp 6 销售 费用率 受日 上 上海 扣点 率 提升 拖累 同比 大幅 提升 至 31 1 yoy + 6 4pp 13 管理费用 受益 于 国旅总社 剥离 运营 效率 提升 下 小幅 降 至 3 2 yoy 0 2pp 扣 19 4 19 6 19 8 19 10 19 12 20 2 20 4 非净 利率 约 为 8 yoy + 1 3pp 其中 Q4 单 季度 毛利率 受 促销 活动 等 影响 环比 数据 来源 聚源 数据 降 至 44 3 yoy + 2 7pp 销售费用 受 机场 租金 拖累 管理 费用率 同比 持平 叠加 计提 资产 减值 准备 国旅 投资 亏损 以及 积分 递延 收益 等 因素 导致 整体 净 利率 同比 下降 0 3pp 至 3 9 基础 数据 2020Q1 受线 上 等 渠道 支撑 明显 离岛 免税 表现 值得 期待 2020Q1 受 疫情 影响 总 Ta 股 ble 本 _ B 亿 ase 股 Da ta  19 52 销售额 有所 下滑 预计 海棠 湾 收入 20 亿左右 北京 + 上海 根据 2019 数据 估算 流通 A 股 亿股 19 52 20 亿 + 可见 离岛 补购 直 邮等线 上 渠道 贡献 显著 受 疫情 拖累 以及 折扣 力度 加 52 周内 股价 区间 元 67 2 97 1 大 等 因素 导致 Q1 毛利率 降 至 42 6 yoy 6 9pp 同时 由于 按 保底 计提 机场 租 总 市值 亿元 1 677 57 金 压力 导致 销售 费用率 提升 至 46 9 yoy + 17 2 管理费用 亦 有所增加 此 总资产 亿元 299 33 外 Q1 存在 计提 存货 跌价 准备 为主 资产 减值 损失 1 1 亿 ； 2 月 中旬 以来 离岛 免 税 复苏 表现 向 好 清明节 期间 整体 离岛 免税 销售 万件 同比 增长 销 每股 净资产 元 10 17 17 29 售 金额 1 3 亿元 增长 31 6 购买 人数 2 万人次 同比 减少 26 0 客 单价 提升 显著 全年 离岛 免税 表现 值得 期待 相关 研究  海外 疫情 + 国内 政策 推动 消费 回流 多元化 渠道 布局 抢占 先机 1 目前 海外 疫 Table _ Report 1 中国 国旅 601888 业绩 符合 市场 预期 情 形势严峻 国内 疫情 管控 成效显著 日 韩 代购 等 受限 免税 消费 内需 有望 实 免税 主业 增长 稳健 2019 10 30 现 加速 释放 发改委 等 23 个 部门 促销 费 文件 中 重点 提及 免税 行业 预计 国人 市 内店 政策 有望 在 年内 落地 ； 2 公司 已 成立 新 零售 事业部 以 着力 推动 线上 等 多元 2 中国 国旅 601888 免税 表现 亮眼 盈利 化 渠道 建设 积极 补充 离岛 补购 直邮等 新兴 线上 渠道 且 成效显著 有望 率先 持续 改善 中长期 成长 可 期 享受 需求 反弹 红利 2019 09 01  盈利 预测 与 评级 预计 2020 2022 年 EPS 分别 为 0 62 元 2 73 元 3 72 元 3 中国 国旅 601888 内生 外延 齐发 力 对应 PE 分别 为 139X 32X 23X 短期 疫情 冲击 不 影响 中长期 成长 逻辑 维 盈利 水平 持续 改善 2019 04 29 持 “ 买入 ” 评级  风险 提示 海外 疫情 或 延续 风险 机场 租金 计提 金额 不确定性 风险 宏观 经 济 景气 度 或 持续 低迷 风险 市内 店 政策 落地 进度 或 存在 不及 预期 风险 指 Ta 标 bl 年 e _ 度 Ma inProfit 2019A 2020E 2021E 2022E 营业 收入 百万元 47966 5 34679 3 55165 3 62706 6 增长率 2 0 27 7 59 1 13 7 归属 母公司 净利润 百万元 4629 0 1204 1 5323 2 7262 0 增长率 49 6 74 0 342 1 36 4 每股 收益 EPS 元 2 37 0 62 2 73 3 72 净资产 收益率 ROE 24 27 6 36 22 15 23 80 PE 36 139 32 23 PB 8 43 8 37 6 68 5 36 数据 来源 Wind 西南 证券 请 务必 阅读 正文 后 重要 声明 部分 1 中国 国旅 601888 2019 年报 及 2020 一 季报 点评 关键 假设 假设 1 三亚 免税 在 5 月 及 以后 恢复正常 客流 ； 假设 2 机场 免税 全年 免税 购物 客流 出现 30 左右 下滑 基于 以上 假设 我们 预测 公司 2020 2022 年分 业务收入 成本 如下 表 表 1 分 业务收入 及 毛利率 单位 亿元 2019A 2020E 2021E 2022E 收入 95 0 61 8 108 1 118 9 传统 免税 及 批发 增速 49 2 35 0 75 0 10 0 收入 101 7 117 6 139 6 157 2 三亚 免税 增速 30 9 15 6 18 7 12 5 收入 24 02 12 3 24 0 24 9 香港机场 增速 49 0 95 7 4 0 收入 151 5 84 9 169 3 204 40 日上 上海 增速 45 0 44 0 99 5 20 8 收入 85 90 53 0 92 0 101 8 日上 北京 增速 27 5 38 3 73 6 10 6 收入 11 49 13 21 14 53 15 70 有税 商品销售 增速 3 7 15 0 10 0 8 0 毛利率 31 6 32 0 31 0 30 0 收入 4 0 4 0 4 1 4 1 其他 增速 2 0 1 0 1 0 1 0 毛利率 88 6 80 0 80 0 80 0 收入 479 7 346 8 551 7 627 1 合计 增速 2 0 27 7 59 1 13 7 毛利率 49 4 45 4 48 6 50 9 数据 来源 Wind 西南 证券 请 务必 阅读 正文 后 重要 声明 部分 2 中国 国旅 601888 2019 年报 及 2020 一 季报 点评 附表 财务 预测 与 估值 利 T 润 a 表 bl e 百 _ P 万 r 元 of i tDet2a0i1l9 A 2020E 2021E 2022E 现金流量 表 百万元 2019A 2020E 2021E 2022E 营业 收入 47966 50 34679 29 55165 26 62706 57 净利润 5414 71 1444 98 6392 75 8680 29 营业 成本 24272 79 18926 75 28360 48 30801 39 折旧 与 摊销 407 90 247 83 254 87 259 35 营业税 金及 附加 771 82 510 81 831 13 948 42 财务费用 10 69 0 00 0 00 0 00 销售费用 14904 08 11790 96 15997 92 17871 37 资产 减值 损失 378 23 0 00 0 00 0 00 管理费用 1549 38 1560 57 1544 63 1630 37 经营 营运 资本 变动 1769 51 43 89 1126 09 318 19 财务费用 10 69 0 00 0 00 0 00 其他 759 53 74 85 84 85 19 95 资产 减值 损失 378 23 0 00 0 00 0 00 经营 活动 现金流 净额 2926 03 1723 77 5436 69 8641 40 投资收益 965 28 6 00 6 00 6 00 资本 支出 539 29 30 00 30 00 30 00 公允 价值 变动 损益 0 00 0 00 0 00 0 00 其他 1638 08 6 00 6 00 6 00 其他 经营 损益 0 00 0 00 0 00 0 00 投资 活动 现金流 净额 1098 79 24 00 24 00 24 00 营业 利润 7108 61 1896 20 8437 09 11461 01 短期 借款 65 11 223 95 0 00 0 00 其他 非 经营 损益 51 87 14 65 16 77 17 91 长期借款 0 00 0 00 0 00 0 00 利润总额 7160 48 1910 86 8453 86 11478 92 股权 融资 8 09 0 00 0 00 0 00 所得税 1745 77 465 88 2061 10 2798 63 支付 股利 0 00 925 80 240 83 1064 65 净利润 5414 71 1444 98 6392 75 8680 29 其他 1589 00 124 59 0 00 0 00 少数 股东 损益 785 72 240 84 1069 52 1418 31 筹资 活动 现金流 净额 1646 02 1274 33 240 83 1064 65 归属 母公司 股东 净利润 4628 99 1204 14 5323 23 7261 98 现金流量 净额 266 62 425 44 5171 86 7552 75 资产 负债表 百万元 2019A 2020E 2021E 2022E 财务 分析 指标 2019A 2020E 2021E 2022E 货币资金 11905 95 12331 39 17503 25 25056 00 成长 能力 应收 预付 款项 2056 70 1664 91 2489 95 2840 88 销售收入 增长率 2 04 27 70 59 07 13 67 存货 8059 77 6203 77 9415 09 10199 65 营业 利润 增长率 31 00 73 33 344 95 35 84 其他 流动资产 223 31 161 45 256 83 291 94 净利润 增长率 37 60 73 31 342 41 35 78 长期 股权 投资 254 69 254 69 254 69 254 69 EBITDA 增长率 30 00 71 52 305 40 34 84 投资性 房地产 1385 28 1385 28 1385 28 1385 28 获利 能力 固定资产 在建 工程 2030 85 1983 07 1928 26 1868 97 毛利率 49 40 45 42 48 59 50 88 无形资产 开发 支出 3326 82 3207 86 3088 90 2969 95 三 费率 34 32 38 50 31 80 31 10 其他 非 流动资产 1443 89 1392 79 1341 68 1290 58 净 利率 11 29 4 17 11 59 13 84 资产 总计 30687 26 28585 22 37663 93 46157 92 ROE 24 27 6 36 22 15 23 80 短期 借款 223 95 0 00 0 00 0 00 ROA 17 64 5 05 16 97 18 81 应付 预收款 项 5674 19 3855 95 5980 82 6651 68 ROIC 46 83 11 86 49 61 58 43 长期借款 0 00 0 00 0 00 0 00 EBITDA 销售收入 15 69 6 18 15 76 18 69 其他 负债 2478 76 2024 32 2826 24 3033 73 营运 能力 负债 合计 8376 90 5880 27 8807 06 9685 41 总资产 周转率 1 67 1 17 1 67 1 50 股本 1952 48 1952 48 1952 48 1952 48 固定资产 周转率 26 92 20 53 31 26 35 29 资本 公积 3851 89 3851 89 3851 89 3851 89 应收 账款 周转率 53 94 45 53 61 41 54 68 留存 收益 13960 70 14239 04 19321 45 25518 78 存货 周转率 3 41 2 64 3 61 3 14 归属 母公司 股东权益 19889 65 20043 40 25125 81 31323 14 销售 商品 提供 劳务 收到 现金 营业 收入 101 84 — — — 少数 股东权益 2420 70 2661 55 3731 06 5149 37 资本 结构 股东权益 合计 22310 36 22704 95 28856 87 36472 51 资产负债率 27 30 20 57 23 38 20 98 负债 股东权益 合计 30687 26 28585 22 37663 93 46157 92 带息 债务 总 负债 2 67 0 00 0 00 0 00 流动比率 2 79 3 73 3 54 4 14 业绩 估值 指标 2019A 2020E 2021E 2022E 速动 比率 1 78 2 59 2 41 3 04 EBITDA 7527 20 2144 04 8691 96 11720 36 股利 支付 率 0 00 76 88 4 52 14 66 PE 36 24 139 32 31 51 23 10 每股 指标 PB 8 43 8 37 6 68 5 36 每股 收益 2 37 0 62 2 73 3 72 PS 3 50 4 84 3 04 2 68 每股 净资产 10 19 10 27 12 87 16 04 EV EBITDA 20 06 70 12 16 70 11 74 每股 经营 现金 1 50 0 88 2 78 4 43 股息 率 0 00 0 55 0 14 0 63 每股 股利 0 00 0 47 0 12 0 55 数据 来源 Wind 西南 证券 请 务必 阅读 正文 后 重要 声明 部分 3 eXbWqVoYkViZiYfWyXpPsR7NdN8OnPoOoMrRiNpPqMiNmOmP8OpNmMuOsQzQuOmRtP 中国 国旅 601888 2019 年报 及 2020 一 季报 点评 分析师 承诺 本 报告 署名 分析师 具有 中国证券业协会 授予 证券 投资 咨询 执业资格 并 注册 为 证券 分析师 报告 所 采用 数据 均 来自 合法 合规 渠道 分析 逻辑 基于 分析师 职业 理解 通过 合理 判断 得出结论 独立 客观 地 出具 本 报告 分析师 承 诺 不曾 因 不 因 也 将 不会 因本 报告 中 具体 推荐 意见 或 观点 而 直接 或 间接 获取 任何 形式 补偿 投资 评级 说明 买入 未来 6 个 月 内 个股 相对 沪 深 300 指数 涨幅 在 20 以上 持有 未来 6 个 月 内 个股 相对 沪 深 300 指数 涨幅 介于 10 与 20 之间 公司 评级 中性 未来 6 个 月 内 个股 相对 沪 深 300 指数 涨幅 介于 10 与 10 之间 回避 未来 6 个 月 内 个股 相对 沪 深 300 指数 涨幅 介于 20 与 10 之间 卖出 未来 6 个 月 内 个股 相对 沪 深 300 指数 涨幅 在 20 以下 强于 大 市 未来 6 个 月 内 行业 整体 回报 高于 沪 深 300 指数 5 以上 行业 评级 跟随 大 市 未来 6 个 月 内 行业 整体 回报 介于 沪 深 300 指数 5 与 5 之间 弱于 大市 未来 6 个 月 内 行业 整体 回报 低于 沪 深 300 指数 5 以下 重要 声明 西南 证券 股份 有限公司 以下 简称 “ 本 公司 ” 具有 中国证券监督管理委员会 核准 证券 投资 咨询 业务 资格 本 公司 与 作者 在 自身 所 知情 范围 内 与 本 报告 中 所 评价 或 推荐 证券 不 存在 法律法规 要求 披露 或 采取 限制 静默 措施 利益冲突 证券期货 投资者 适当 性 管理 办法 于 2017 年 7 月 1 日起 正式 实施 本 报告 仅供 本 公司 客户 中 专业 投资者 使 用 若 您 并非 本 公司 客户 中 专业 投资者 为 控制 投资 风险 请 取消 接收 订阅 或 使用 本 报告 中 任何 信息 本 公司 也 不会 因 接收 人 收到 阅读 或 关注 自 媒体 推送 本 报告 中 内容 而视 其为 客户 本 公司 或 关联 机构 可能 会 持有 报告 中提 到 公司 所 发行 证券 并 进行 交易 还 可能 为 这些 公司 提供 或 争取 提供 投资银行 或 财务顾问 服务 本 报告 中 信息 均 来源于 公开 资料 本 公司 对 这些 信息 准确性 完整性 或 可靠性 不 作 任何 保证 本 报告 所载 资料 意见 及 推测 仅 反映 本 公司 于 发布 本 报告 当日 判断 本 报告 所指 证券 或 投资 标的 价格 价值 及 投资 收入 可 升可跌 过往 表现 不 应 作为 日后 表现 依据 在 不同 时期 本 公司 可 发出 与 本 报告 所 载 资料 意见 及 推测 不 一致 报 告 本 公司 不 保证 本 报告 所 含 信息 保持 在 最新 状态 同时 本 公司 对本 报告 所 含 信息 可 在 不 发出通知 情形 下 做出 修 改 投资者 应当 自行 关注 相应 更新 或 修改 本 报告 仅供参考 之用 不 构成 出售 或 购买 证券 或 其他 投资 标的 要约 或 邀请 在 任何 情况 下 本 报告 中 信息 意 见 均 不 构成 对 任何 个人 投资 建议 投资者 应 结合 自己 投资 目标 财务状况 自行 判断 是否 采用 本 报告 所 载 内容 信 息 并 自行 承担风险 本 公司 及 雇员 对 投资者 使用 本 报告 及其 内容 而 造成 一切 后果 不 承担 任何 法律责任 本 报告 及 附录 版权 为 西南 证券 所有 未经 书面 许可 任何 机构 个人 不得 以 任何 形式 翻版 复制 发布 如 引用 须 注明 出处 为 “ 西南 证券 ” 且 不得 对本 报告 及 附录 进行 有悖 原意 引用 删节 修改 未经 授权 刊载 或者 转发 本 报告 及 附录 本 公司 将 保留 向 其 追究 法律责任 权利 请 务必 阅读 正文 后 重要 声明 部分 中国 国旅 601888 2019 年报 及 2020 一 季报 点评 西南 证券 研究 发展 中心 上海 地址 上海市浦东新区 陆家嘴 东路 166 号 中国 保险 大厦 20 楼 邮编 200120 北京 地址 北京市 西城区 南 礼士路 66 号 建威 大厦 1501 1502 邮编 100045 重庆 地址 重庆市 江北区 桥 北苑 8 号 西南 证券 大厦 3 楼 邮编 400023 深圳 地址 深圳市 福田区 深南 大道 6023 号 创建 大厦 4 楼 邮编 518040 西南 证券 机构 销售 团队 T 区 ab 域 le _ SalesPe 姓 rs 名 on 职务 座机 手机 邮箱 蒋诗烽 地区 销售 总监 021 68415309 18621310081 jsf swsc com cn 黄丽娟 地区 销售 副 总监 021 68411030 15900516330 hlj swsc com cn 张 方毅 高级 销售 经理 021 68413959 15821376156 zfyi swsc com cn 上海 杨博睿 销售 经理 021 68415861 13166156063 ybz swsc com cn 吴菲阳 销售 经理 021 68415020 16621045018 wfy swsc com cn 付禹 销售 经理 021 68415523 13761585788 fuyu swsc com cn 张岚 高级 销售 经理 18601241803 18601241803 zhanglan swsc com cn 北京 王梓乔 销售 经理 13488656012 13488656012 wzqiao swsc com cn 高妍琳 销售 经理 15810809511 15810809511 gyl swsc com cn 王湘杰 销售 经理 0755 26671517 13480920685 wxj swsc com cn 广深 谭凌岚 销售 经理 13642362601 13642362601 tll swsc com cn 陈霄 广州 销售 经理 15521010968 15521010968 chenxiao swsc com cn 请 务必 阅读 正文 后 重要 声明 部分\n",
      "Category: 买入\n"
     ]
    }
   ],
   "source": [
    "def print_data(index):\n",
    "    example = df[df.index == index][['data', 'target_names']].values[0]\n",
    "    if len(example) > 0:\n",
    "        print(example[0])\n",
    "        print('Category:', example[1])\n",
    "\n",
    "print_data(9)"
   ]
  },
  {
   "cell_type": "code",
   "execution_count": 164,
   "metadata": {},
   "outputs": [
    {
     "name": "stdout",
     "output_type": "stream",
     "text": [
      "Table _ StockInfo 2020 年 04 月 23 日 买入 维持 证券 研究 报告 • 2019 年报 及 2020 一 季报 点评 当前 价 85 92 元 中国 国旅 601888 休闲 服务 目标价 — — 元 6 个 月 业绩 稳健 离岛 可 期 疫情 不改 长期 成长 趋势 投资 要点 西南 证券 研究 发展 中心  T a 业 ble 绩 _ S 总 u 结 m ma 公 ry 司 发布 2019 年报 全年 实现 营收 479 7 亿元 同比 增长 2 0 实现 归母 净利润 46 3 亿元 同比 增长 49 6 实现 扣非 净利润 38 3 亿元 同 分 Ta 析 bl 师 e _ Au 朱 th 芸 or 比 增长 21 8 扣非 主要 受 处置 国旅总社 影响 其中 Q4 单 季度 实现 营收 123 8 执业 证号 S1250517070001 亿元 同比 下降 4 1 归母 净利润 4 3 亿元 同比 增长 11 3 同时 发布 2020 电话 010 57758600 年 一 季报 2020Q1 实现 营收 76 4 亿元 同比 下降 44 2 亏损 1 2 亿元 主 要 受 疫情 影响 邮箱 zhuz swsc com cn  2019 全年 内生 免税 稳健 增长 三亚 表现 亮眼 国旅总社 剥离 前 并表 收入 6 亿元 公司 全年 实现 商品销售 营收 469 7 亿元 同比 增长 36 8 分 板块 看 三亚 免 相 Ta 对 bl 指 e _ 数 Qu 表 o 现 te Pic 税城 下半年 受益 于 折扣 力度 加强 等 推动 因素 表现 亮眼 全年 实现 营收 104 7 亿 中国 国旅 沪 深 300 元 同比 增长 30 7 全年 接待 顾客 731 万人次 购物 人数 217 万人次 ； 上海 25 日上 实现 营收 151 5 亿元 同比 增长 45 首都机场 实现 营收 85 9 亿元 同比 增长 16 3 香港机场 实现 营收 24 0 亿元 同比 增长 14 5 白云机场 实现 营 18 收 19 2 亿元 同比 大幅 增长 117 5 其他 免税 营收 75 8 亿元 10  毛利率 受 汇率 影响 费用 端受 扣点 提升 拖累 减值 准备 等 影响 受 人民币 兑美 2 元 贬值 影响 导致 公司 免税 业务 采购 成本 上涨 毛利率 小幅 下降 至 37 9 yoy 3 1pp 国旅总社 剥离 拉动 公司 整体 毛利率 提升 至 49 4 yoy + 7 9pp 6 销售 费用率 受日 上 上海 扣点 率 提升 拖累 同比 大幅 提升 至 31 1 yoy + 6 4pp 13 管理费用 受益 于 国旅总社 剥离 运营 效率 提升 下 小幅 降 至 3 2 yoy 0 2pp 扣 19 4 19 6 19 8 19 10 19 12 20 2 20 4 非净 利率 约 为 8 yoy + 1 3pp 其中 Q4 单 季度 毛利率 受 促销 活动 等 影响 环比 数据 来源 聚源 数据 降 至 44 3 yoy + 2 7pp 销售费用 受 机场 租金 拖累 管理 费用率 同比 持平 叠加 计提 资产 减值 准备 国旅 投资 亏损 以及 积分 递延 收益 等 因素 导致 整体 净 利率 同比 下降 0 3pp 至 3 9 基础 数据 2020Q1 受线 上 等 渠道 支撑 明显 离岛 免税 表现 值得 期待 2020Q1 受 疫情 影响 总 Ta 股 ble 本 _ B 亿 ase 股 Da ta  19 52 销售额 有所 下滑 预计 海棠 湾 收入 20 亿左右 北京 + 上海 根据 2019 数据 估算 流通 A 股 亿股 19 52 20 亿 + 可见 离岛 补购 直 邮等线 上 渠道 贡献 显著 受 疫情 拖累 以及 折扣 力度 加 52 周内 股价 区间 元 67 2 97 1 大 等 因素 导致 Q1 毛利率 降 至 42 6 yoy 6 9pp 同时 由于 按 保底 计提 机场 租 总 市值 亿元 1 677 57 金 压力 导致 销售 费用率 提升 至 46 9 yoy + 17 2 管理费用 亦 有所增加 此 总资产 亿元 299 33 外 Q1 存在 计提 存货 跌价 准备 为主 资产 减值 损失 1 1 亿 ； 2 月 中旬 以来 离岛 免 税 复苏 表现 向 好 清明节 期间 整体 离岛 免税 销售 万件 同比 增长 销 每股 净资产 元 10 17 17 29 售 金额 1 3 亿元 增长 31 6 购买 人数 2 万人次 同比 减少 26 0 客 单价 提升 显著 全年 离岛 免税 表现 值得 期待 相关 研究  海外 疫情 + 国内 政策 推动 消费 回流 多元化 渠道 布局 抢占 先机 1 目前 海外 疫 Table _ Report 1 中国 国旅 601888 业绩 符合 市场 预期 情 形势严峻 国内 疫情 管控 成效显著 日 韩 代购 等 受限 免税 消费 内需 有望 实 免税 主业 增长 稳健 2019 10 30 现 加速 释放 发改委 等 23 个 部门 促销 费 文件 中 重点 提及 免税 行业 预计 国人 市 内店 政策 有望 在 年内 落地 ； 2 公司 已 成立 新 零售 事业部 以 着力 推动 线上 等 多元 2 中国 国旅 601888 免税 表现 亮眼 盈利 化 渠道 建设 积极 补充 离岛 补购 直邮等 新兴 线上 渠道 且 成效显著 有望 率先 持续 改善 中长期 成长 可 期 享受 需求 反弹 红利 2019 09 01  盈利 预测 与 评级 预计 2020 2022 年 EPS 分别 为 0 62 元 2 73 元 3 72 元 3 中国 国旅 601888 内生 外延 齐发 力 对应 PE 分别 为 139X 32X 23X 短期 疫情 冲击 不 影响 中长期 成长 逻辑 维 盈利 水平 持续 改善 2019 04 29 持 “ 买入 ” 评级  风险 提示 海外 疫情 或 延续 风险 机场 租金 计提 金额 不确定性 风险 宏观 经 济 景气 度 或 持续 低迷 风险 市内 店 政策 落地 进度 或 存在 不及 预期 风险 指 Ta 标 bl 年 e _ 度 Ma inProfit 2019A 2020E 2021E 2022E 营业 收入 百万元 47966 5 34679 3 55165 3 62706 6 增长率 2 0 27 7 59 1 13 7 归属 母公司 净利润 百万元 4629 0 1204 1 5323 2 7262 0 增长率 49 6 74 0 342 1 36 4 每股 收益 EPS 元 2 37 0 62 2 73 3 72 净资产 收益率 ROE 24 27 6 36 22 15 23 80 PE 36 139 32 23 PB 8 43 8 37 6 68 5 36 数据 来源 Wind 西南 证券 请 务必 阅读 正文 后 重要 声明 部分 1 中国 国旅 601888 2019 年报 及 2020 一 季报 点评 关键 假设 假设 1 三亚 免税 在 5 月 及 以后 恢复正常 客流 ； 假设 2 机场 免税 全年 免税 购物 客流 出现 30 左右 下滑 基于 以上 假设 我们 预测 公司 2020 2022 年分 业务收入 成本 如下 表 表 1 分 业务收入 及 毛利率 单位 亿元 2019A 2020E 2021E 2022E 收入 95 0 61 8 108 1 118 9 传统 免税 及 批发 增速 49 2 35 0 75 0 10 0 收入 101 7 117 6 139 6 157 2 三亚 免税 增速 30 9 15 6 18 7 12 5 收入 24 02 12 3 24 0 24 9 香港机场 增速 49 0 95 7 4 0 收入 151 5 84 9 169 3 204 40 日上 上海 增速 45 0 44 0 99 5 20 8 收入 85 90 53 0 92 0 101 8 日上 北京 增速 27 5 38 3 73 6 10 6 收入 11 49 13 21 14 53 15 70 有税 商品销售 增速 3 7 15 0 10 0 8 0 毛利率 31 6 32 0 31 0 30 0 收入 4 0 4 0 4 1 4 1 其他 增速 2 0 1 0 1 0 1 0 毛利率 88 6 80 0 80 0 80 0 收入 479 7 346 8 551 7 627 1 合计 增速 2 0 27 7 59 1 13 7 毛利率 49 4 45 4 48 6 50 9 数据 来源 Wind 西南 证券 请 务必 阅读 正文 后 重要 声明 部分 2 中国 国旅 601888 2019 年报 及 2020 一 季报 点评 附表 财务 预测 与 估值 利 T 润 a 表 bl e 百 _ P 万 r 元 of i tDet2a0i1l9 A 2020E 2021E 2022E 现金流量 表 百万元 2019A 2020E 2021E 2022E 营业 收入 47966 50 34679 29 55165 26 62706 57 净利润 5414 71 1444 98 6392 75 8680 29 营业 成本 24272 79 18926 75 28360 48 30801 39 折旧 与 摊销 407 90 247 83 254 87 259 35 营业税 金及 附加 771 82 510 81 831 13 948 42 财务费用 10 69 0 00 0 00 0 00 销售费用 14904 08 11790 96 15997 92 17871 37 资产 减值 损失 378 23 0 00 0 00 0 00 管理费用 1549 38 1560 57 1544 63 1630 37 经营 营运 资本 变动 1769 51 43 89 1126 09 318 19 财务费用 10 69 0 00 0 00 0 00 其他 759 53 74 85 84 85 19 95 资产 减值 损失 378 23 0 00 0 00 0 00 经营 活动 现金流 净额 2926 03 1723 77 5436 69 8641 40 投资收益 965 28 6 00 6 00 6 00 资本 支出 539 29 30 00 30 00 30 00 公允 价值 变动 损益 0 00 0 00 0 00 0 00 其他 1638 08 6 00 6 00 6 00 其他 经营 损益 0 00 0 00 0 00 0 00 投资 活动 现金流 净额 1098 79 24 00 24 00 24 00 营业 利润 7108 61 1896 20 8437 09 11461 01 短期 借款 65 11 223 95 0 00 0 00 其他 非 经营 损益 51 87 14 65 16 77 17 91 长期借款 0 00 0 00 0 00 0 00 利润总额 7160 48 1910 86 8453 86 11478 92 股权 融资 8 09 0 00 0 00 0 00 所得税 1745 77 465 88 2061 10 2798 63 支付 股利 0 00 925 80 240 83 1064 65 净利润 5414 71 1444 98 6392 75 8680 29 其他 1589 00 124 59 0 00 0 00 少数 股东 损益 785 72 240 84 1069 52 1418 31 筹资 活动 现金流 净额 1646 02 1274 33 240 83 1064 65 归属 母公司 股东 净利润 4628 99 1204 14 5323 23 7261 98 现金流量 净额 266 62 425 44 5171 86 7552 75 资产 负债表 百万元 2019A 2020E 2021E 2022E 财务 分析 指标 2019A 2020E 2021E 2022E 货币资金 11905 95 12331 39 17503 25 25056 00 成长 能力 应收 预付 款项 2056 70 1664 91 2489 95 2840 88 销售收入 增长率 2 04 27 70 59 07 13 67 存货 8059 77 6203 77 9415 09 10199 65 营业 利润 增长率 31 00 73 33 344 95 35 84 其他 流动资产 223 31 161 45 256 83 291 94 净利润 增长率 37 60 73 31 342 41 35 78 长期 股权 投资 254 69 254 69 254 69 254 69 EBITDA 增长率 30 00 71 52 305 40 34 84 投资性 房地产 1385 28 1385 28 1385 28 1385 28 获利 能力 固定资产 在建 工程 2030 85 1983 07 1928 26 1868 97 毛利率 49 40 45 42 48 59 50 88 无形资产 开发 支出 3326 82 3207 86 3088 90 2969 95 三 费率 34 32 38 50 31 80 31 10 其他 非 流动资产 1443 89 1392 79 1341 68 1290 58 净 利率 11 29 4 17 11 59 13 84 资产 总计 30687 26 28585 22 37663 93 46157 92 ROE 24 27 6 36 22 15 23 80 短期 借款 223 95 0 00 0 00 0 00 ROA 17 64 5 05 16 97 18 81 应付 预收款 项 5674 19 3855 95 5980 82 6651 68 ROIC 46 83 11 86 49 61 58 43 长期借款 0 00 0 00 0 00 0 00 EBITDA 销售收入 15 69 6 18 15 76 18 69 其他 负债 2478 76 2024 32 2826 24 3033 73 营运 能力 负债 合计 8376 90 5880 27 8807 06 9685 41 总资产 周转率 1 67 1 17 1 67 1 50 股本 1952 48 1952 48 1952 48 1952 48 固定资产 周转率 26 92 20 53 31 26 35 29 资本 公积 3851 89 3851 89 3851 89 3851 89 应收 账款 周转率 53 94 45 53 61 41 54 68 留存 收益 13960 70 14239 04 19321 45 25518 78 存货 周转率 3 41 2 64 3 61 3 14 归属 母公司 股东权益 19889 65 20043 40 25125 81 31323 14 销售 商品 提供 劳务 收到 现金 营业 收入 101 84 — — — 少数 股东权益 2420 70 2661 55 3731 06 5149 37 资本 结构 股东权益 合计 22310 36 22704 95 28856 87 36472 51 资产负债率 27 30 20 57 23 38 20 98 负债 股东权益 合计 30687 26 28585 22 37663 93 46157 92 带息 债务 总 负债 2 67 0 00 0 00 0 00 流动比率 2 79 3 73 3 54 4 14 业绩 估值 指标 2019A 2020E 2021E 2022E 速动 比率 1 78 2 59 2 41 3 04 EBITDA 7527 20 2144 04 8691 96 11720 36 股利 支付 率 0 00 76 88 4 52 14 66 PE 36 24 139 32 31 51 23 10 每股 指标 PB 8 43 8 37 6 68 5 36 每股 收益 2 37 0 62 2 73 3 72 PS 3 50 4 84 3 04 2 68 每股 净资产 10 19 10 27 12 87 16 04 EV EBITDA 20 06 70 12 16 70 11 74 每股 经营 现金 1 50 0 88 2 78 4 43 股息 率 0 00 0 55 0 14 0 63 每股 股利 0 00 0 47 0 12 0 55 数据 来源 Wind 西南 证券 请 务必 阅读 正文 后 重要 声明 部分 3 eXbWqVoYkViZiYfWyXpPsR7NdN8OnPoOoMrRiNpPqMiNmOmP8OpNmMuOsQzQuOmRtP 中国 国旅 601888 2019 年报 及 2020 一 季报 点评 分析师 承诺 本 报告 署名 分析师 具有 中国证券业协会 授予 证券 投资 咨询 执业资格 并 注册 为 证券 分析师 报告 所 采用 数据 均 来自 合法 合规 渠道 分析 逻辑 基于 分析师 职业 理解 通过 合理 判断 得出结论 独立 客观 地 出具 本 报告 分析师 承 诺 不曾 因 不 因 也 将 不会 因本 报告 中 具体 推荐 意见 或 观点 而 直接 或 间接 获取 任何 形式 补偿 投资 评级 说明 买入 未来 6 个 月 内 个股 相对 沪 深 300 指数 涨幅 在 20 以上 持有 未来 6 个 月 内 个股 相对 沪 深 300 指数 涨幅 介于 10 与 20 之间 公司 评级 中性 未来 6 个 月 内 个股 相对 沪 深 300 指数 涨幅 介于 10 与 10 之间 回避 未来 6 个 月 内 个股 相对 沪 深 300 指数 涨幅 介于 20 与 10 之间 卖出 未来 6 个 月 内 个股 相对 沪 深 300 指数 涨幅 在 20 以下 强于 大 市 未来 6 个 月 内 行业 整体 回报 高于 沪 深 300 指数 5 以上 行业 评级 跟随 大 市 未来 6 个 月 内 行业 整体 回报 介于 沪 深 300 指数 5 与 5 之间 弱于 大市 未来 6 个 月 内 行业 整体 回报 低于 沪 深 300 指数 5 以下 重要 声明 西南 证券 股份 有限公司 以下 简称 “ 本 公司 ” 具有 中国证券监督管理委员会 核准 证券 投资 咨询 业务 资格 本 公司 与 作者 在 自身 所 知情 范围 内 与 本 报告 中 所 评价 或 推荐 证券 不 存在 法律法规 要求 披露 或 采取 限制 静默 措施 利益冲突 证券期货 投资者 适当 性 管理 办法 于 2017 年 7 月 1 日起 正式 实施 本 报告 仅供 本 公司 客户 中 专业 投资者 使 用 若 您 并非 本 公司 客户 中 专业 投资者 为 控制 投资 风险 请 取消 接收 订阅 或 使用 本 报告 中 任何 信息 本 公司 也 不会 因 接收 人 收到 阅读 或 关注 自 媒体 推送 本 报告 中 内容 而视 其为 客户 本 公司 或 关联 机构 可能 会 持有 报告 中提 到 公司 所 发行 证券 并 进行 交易 还 可能 为 这些 公司 提供 或 争取 提供 投资银行 或 财务顾问 服务 本 报告 中 信息 均 来源于 公开 资料 本 公司 对 这些 信息 准确性 完整性 或 可靠性 不 作 任何 保证 本 报告 所载 资料 意见 及 推测 仅 反映 本 公司 于 发布 本 报告 当日 判断 本 报告 所指 证券 或 投资 标的 价格 价值 及 投资 收入 可 升可跌 过往 表现 不 应 作为 日后 表现 依据 在 不同 时期 本 公司 可 发出 与 本 报告 所 载 资料 意见 及 推测 不 一致 报 告 本 公司 不 保证 本 报告 所 含 信息 保持 在 最新 状态 同时 本 公司 对本 报告 所 含 信息 可 在 不 发出通知 情形 下 做出 修 改 投资者 应当 自行 关注 相应 更新 或 修改 本 报告 仅供参考 之用 不 构成 出售 或 购买 证券 或 其他 投资 标的 要约 或 邀请 在 任何 情况 下 本 报告 中 信息 意 见 均 不 构成 对 任何 个人 投资 建议 投资者 应 结合 自己 投资 目标 财务状况 自行 判断 是否 采用 本 报告 所 载 内容 信 息 并 自行 承担风险 本 公司 及 雇员 对 投资者 使用 本 报告 及其 内容 而 造成 一切 后果 不 承担 任何 法律责任 本 报告 及 附录 版权 为 西南 证券 所有 未经 书面 许可 任何 机构 个人 不得 以 任何 形式 翻版 复制 发布 如 引用 须 注明 出处 为 “ 西南 证券 ” 且 不得 对本 报告 及 附录 进行 有悖 原意 引用 删节 修改 未经 授权 刊载 或者 转发 本 报告 及 附录 本 公司 将 保留 向 其 追究 法律责任 权利 请 务必 阅读 正文 后 重要 声明 部分 中国 国旅 601888 2019 年报 及 2020 一 季报 点评 西南 证券 研究 发展 中心 上海 地址 上海市浦东新区 陆家嘴 东路 166 号 中国 保险 大厦 20 楼 邮编 200120 北京 地址 北京市 西城区 南 礼士路 66 号 建威 大厦 1501 1502 邮编 100045 重庆 地址 重庆市 江北区 桥 北苑 8 号 西南 证券 大厦 3 楼 邮编 400023 深圳 地址 深圳市 福田区 深南 大道 6023 号 创建 大厦 4 楼 邮编 518040 西南 证券 机构 销售 团队 T 区 ab 域 le _ SalesPe 姓 rs 名 on 职务 座机 手机 邮箱 蒋诗烽 地区 销售 总监 021 68415309 18621310081 jsf swsc com cn 黄丽娟 地区 销售 副 总监 021 68411030 15900516330 hlj swsc com cn 张 方毅 高级 销售 经理 021 68413959 15821376156 zfyi swsc com cn 上海 杨博睿 销售 经理 021 68415861 13166156063 ybz swsc com cn 吴菲阳 销售 经理 021 68415020 16621045018 wfy swsc com cn 付禹 销售 经理 021 68415523 13761585788 fuyu swsc com cn 张岚 高级 销售 经理 18601241803 18601241803 zhanglan swsc com cn 北京 王梓乔 销售 经理 13488656012 13488656012 wzqiao swsc com cn 高妍琳 销售 经理 15810809511 15810809511 gyl swsc com cn 王湘杰 销售 经理 0755 26671517 13480920685 wxj swsc com cn 广深 谭凌岚 销售 经理 13642362601 13642362601 tll swsc com cn 陈霄 广州 销售 经理 15521010968 15521010968 chenxiao swsc com cn 请 务必 阅读 正文 后 重要 声明 部分\n",
      "Category: 买入\n"
     ]
    }
   ],
   "source": [
    "def print_data(index):\n",
    "    example = df[df.index == index][['data', 'target_names']].values[0]\n",
    "    if len(example) > 0:\n",
    "        print(example[0])\n",
    "        print('Category:', example[1])\n",
    "\n",
    "print_data(9)"
   ]
  },
  {
   "cell_type": "markdown",
   "metadata": {},
   "source": [
    "## jieba library functions"
   ]
  },
  {
   "cell_type": "code",
   "execution_count": 85,
   "metadata": {},
   "outputs": [
    {
     "name": "stderr",
     "output_type": "stream",
     "text": [
      "Building prefix dict from the default dictionary ...\n",
      "Dumping model to file cache C:\\Users\\idgca\\AppData\\Local\\Temp\\jieba.cache\n",
      "Loading model cost 0.718 seconds.\n",
      "Prefix dict has been built successfully.\n"
     ]
    },
    {
     "name": "stdout",
     "output_type": "stream",
     "text": [
      "<Text: 公司 报告 年报 点评 报告 中科 创达 证券...>\n"
     ]
    }
   ],
   "source": [
    "wordlist = jieba.lcut(temp)\n",
    "text = nltk.Text(wordlist)\n",
    "print(text)"
   ]
  },
  {
   "cell_type": "code",
   "execution_count": 88,
   "metadata": {},
   "outputs": [
    {
     "name": "stdout",
     "output_type": "stream",
     "text": [
      "Displaying 10 of 33 matches:\n",
      "公司 报告 年报 点评 报告\n",
      "报告 年报 点评 报告 中科 创达 证券\n",
      "创达 证券 研究 报告 年月日 投资 评\n",
      "贝格 数据 相关 报告 中科 创达 季报\n",
      "免责 申明 公司 报告 年报 点评 报告\n",
      "报告 年报 点评 报告 财务 预测 摘要\n",
      "免责 申明 公司 报告 年报 点评 报告\n",
      "报告 年报 点评 报告 分析师 声明 本\n",
      "分析师 声明 本 报告 署名 分析师 在\n",
      " 胜任 能力 本 报告 所 表述 的 所\n"
     ]
    }
   ],
   "source": [
    "# 搜索上下文\n",
    "text.concordance(word='报告',width=20,lines=10)"
   ]
  },
  {
   "cell_type": "code",
   "execution_count": 92,
   "metadata": {},
   "outputs": [
    {
     "name": "stdout",
     "output_type": "stream",
     "text": [
      "No common contexts were found\n"
     ]
    },
    {
     "data": {
      "text/plain": [
       "33"
      ]
     },
     "execution_count": 92,
     "metadata": {},
     "output_type": "execute_result"
    }
   ],
   "source": [
    "# 搜索共同上下文\n",
    "text.common_contexts(['报告','公司'])\n",
    "# 统计词频\n",
    "text.count(word='报告')"
   ]
  },
  {
   "cell_type": "code",
   "execution_count": 94,
   "metadata": {},
   "outputs": [
    {
     "data": {
      "image/png": "[encoded data removed]",
      "text/plain": [
       "<Figure size 432x288 with 1 Axes>"
      ]
     },
     "metadata": {
      "needs_background": "light"
     },
     "output_type": "display_data"
    }
   ],
   "source": [
    "# 离散图\n",
    "words=['公司','报告']\n",
    "text.dispersion_plot(words)"
   ]
  },
  {
   "cell_type": "code",
   "execution_count": 97,
   "metadata": {},
   "outputs": [
    {
     "name": "stdout",
     "output_type": "stream",
     "text": [
      "发布\n",
      "报告 1.0\n",
      "发布 0.08333333333333333\n"
     ]
    }
   ],
   "source": [
    "# 计算相似度\n",
    "text.similar(word='报告',num=10)\n",
    "\n",
    "from nltk.text import ContextIndex\n",
    "contentindex = ContextIndex(wordlist)\n",
    "similarity_scores = contentindex.word_similarity_dict(word='报告')\n",
    "for key,value in similarity_scores.items():\n",
    "    if value>0.02:\n",
    "        print(key,value)"
   ]
  },
  {
   "cell_type": "markdown",
   "metadata": {},
   "source": [
    "## Tokenize documents"
   ]
  },
  {
   "cell_type": "code",
   "execution_count": 166,
   "metadata": {},
   "outputs": [
    {
     "name": "stdout",
     "output_type": "stream",
     "text": [
      "Found 110801 unique tokens.\n"
     ]
    }
   ],
   "source": [
    "# The maximum number of words to be used. (most frequent)\n",
    "MAX_NB_WORDS = 50000\n",
    "# Max number of words in each complaint.\n",
    "MAX_SEQUENCE_LENGTH = 3000\n",
    "# This is fixed.\n",
    "EMBEDDING_DIM = 100\n",
    "tokenizer = Tokenizer(num_words=MAX_NB_WORDS, filters='!\"#$%&()*+,-./:;<=>?@[\\]^_`{|}~', lower=True)\n",
    "tokenizer.fit_on_texts(df['data'].values)\n",
    "word_index = tokenizer.word_index\n",
    "print('Found %s unique tokens.' % len(word_index))"
   ]
  },
  {
   "cell_type": "markdown",
   "metadata": {},
   "source": [
    "## Save processed data to csv"
   ]
  },
  {
   "cell_type": "code",
   "execution_count": 134,
   "metadata": {},
   "outputs": [],
   "source": [
    "# df.to_csv(r'data/classification_data_v3/cleaned.csv',header=True,index=None)"
   ]
  },
  {
   "cell_type": "code",
   "execution_count": 167,
   "metadata": {},
   "outputs": [
    {
     "data": {
      "text/plain": [
       "0       2412\n",
       "1       4086\n",
       "2       2348\n",
       "3       3035\n",
       "4       2236\n",
       "        ... \n",
       "1995    7543\n",
       "1996    2056\n",
       "1997    2600\n",
       "1998    2269\n",
       "1999    2578\n",
       "Name: word_count, Length: 2000, dtype: int64"
      ]
     },
     "execution_count": 167,
     "metadata": {},
     "output_type": "execute_result"
    }
   ],
   "source": [
    "def count_text(text):\n",
    "    return len(text.split(' '))\n",
    "    \n",
    "df['word_count'] = df.data.apply(count_text)\n",
    "df['word_count']"
   ]
  },
  {
   "cell_type": "code",
   "execution_count": 168,
   "metadata": {},
   "outputs": [
    {
     "data": {
      "text/plain": [
       "3908.149"
      ]
     },
     "execution_count": 168,
     "metadata": {},
     "output_type": "execute_result"
    }
   ],
   "source": [
    "np.mean(df['word_count']) # each document has average 2500 words after processing "
   ]
  },
  {
   "cell_type": "markdown",
   "metadata": {},
   "source": [
    "## Get train test datasets"
   ]
  },
  {
   "cell_type": "code",
   "execution_count": 169,
   "metadata": {},
   "outputs": [],
   "source": [
    "X = tokenizer.texts_to_sequences(df['data'].values)\n"
   ]
  },
  {
   "cell_type": "code",
   "execution_count": 170,
   "metadata": {},
   "outputs": [
    {
     "name": "stdout",
     "output_type": "stream",
     "text": [
      "Shape of data tensor: (2000, 1000)\n"
     ]
    }
   ],
   "source": [
    "MAX_SEQUENCE_LENGTH = 1000\n",
    "X = pad_sequences(X, maxlen=MAX_SEQUENCE_LENGTH)\n",
    "print('Shape of data tensor:', X.shape)"
   ]
  },
  {
   "cell_type": "code",
   "execution_count": 171,
   "metadata": {},
   "outputs": [
    {
     "name": "stdout",
     "output_type": "stream",
     "text": [
      "Shape of label tensor: (2000, 2)\n",
      "Shape of label tensor: (2000,)\n"
     ]
    }
   ],
   "source": [
    "Y = pd.get_dummies(df['target']).values\n",
    "Y_single = df['target']\n",
    "print('Shape of label tensor:', Y.shape)\n",
    "print('Shape of label tensor:', Y_single.shape)"
   ]
  },
  {
   "cell_type": "markdown",
   "metadata": {},
   "source": [
    "\n",
    "## Train test split"
   ]
  },
  {
   "cell_type": "code",
   "execution_count": 172,
   "metadata": {},
   "outputs": [
    {
     "name": "stdout",
     "output_type": "stream",
     "text": [
      "(1600, 1000) (1600, 2)\n",
      "(400, 1000) (400, 2)\n"
     ]
    }
   ],
   "source": [
    "X_train, X_test, Y_train, Y_test = train_test_split(X,Y, test_size = 0.20, random_state = 42)\n",
    "print(X_train.shape,Y_train.shape)\n",
    "print(X_test.shape,Y_test.shape)"
   ]
  },
  {
   "cell_type": "markdown",
   "metadata": {},
   "source": [
    "## LSTM"
   ]
  },
  {
   "cell_type": "code",
   "execution_count": 173,
   "metadata": {},
   "outputs": [
    {
     "name": "stderr",
     "output_type": "stream",
     "text": [
      "C:\\Users\\idgca\\AppData\\Roaming\\Python\\Python38\\site-packages\\tensorflow\\python\\framework\\indexed_slices.py:433: UserWarning:\n",
      "\n",
      "Converting sparse IndexedSlices to a dense Tensor of unknown shape. This may consume a large amount of memory.\n",
      "\n"
     ]
    },
    {
     "ename": "KeyboardInterrupt",
     "evalue": "",
     "output_type": "error",
     "traceback": [
      "\u001b[1;31m---------------------------------------------------------------------------\u001b[0m",
      "\u001b[1;31mKeyboardInterrupt\u001b[0m                         Traceback (most recent call last)",
      "\u001b[1;32m<ipython-input-173-2fdf3f036730>\u001b[0m in \u001b[0;36m<module>\u001b[1;34m\u001b[0m\n\u001b[0;32m     29\u001b[0m ])\n\u001b[0;32m     30\u001b[0m \u001b[1;33m\u001b[0m\u001b[0m\n\u001b[1;32m---> 31\u001b[1;33m \u001b[0mhistory\u001b[0m \u001b[1;33m=\u001b[0m \u001b[0mpipeline\u001b[0m\u001b[1;33m.\u001b[0m\u001b[0mfit\u001b[0m\u001b[1;33m(\u001b[0m\u001b[0mX_train\u001b[0m\u001b[1;33m,\u001b[0m \u001b[0mY_train\u001b[0m\u001b[1;33m)\u001b[0m\u001b[1;33m\u001b[0m\u001b[1;33m\u001b[0m\u001b[0m\n\u001b[0m",
      "\u001b[1;32m~\\Anaconda3\\lib\\site-packages\\sklearn\\pipeline.py\u001b[0m in \u001b[0;36mfit\u001b[1;34m(self, X, y, **fit_params)\u001b[0m\n\u001b[0;32m    333\u001b[0m             \u001b[1;32mif\u001b[0m \u001b[0mself\u001b[0m\u001b[1;33m.\u001b[0m\u001b[0m_final_estimator\u001b[0m \u001b[1;33m!=\u001b[0m \u001b[1;34m'passthrough'\u001b[0m\u001b[1;33m:\u001b[0m\u001b[1;33m\u001b[0m\u001b[1;33m\u001b[0m\u001b[0m\n\u001b[0;32m    334\u001b[0m                 \u001b[0mfit_params_last_step\u001b[0m \u001b[1;33m=\u001b[0m \u001b[0mfit_params_steps\u001b[0m\u001b[1;33m[\u001b[0m\u001b[0mself\u001b[0m\u001b[1;33m.\u001b[0m\u001b[0msteps\u001b[0m\u001b[1;33m[\u001b[0m\u001b[1;33m-\u001b[0m\u001b[1;36m1\u001b[0m\u001b[1;33m]\u001b[0m\u001b[1;33m[\u001b[0m\u001b[1;36m0\u001b[0m\u001b[1;33m]\u001b[0m\u001b[1;33m]\u001b[0m\u001b[1;33m\u001b[0m\u001b[1;33m\u001b[0m\u001b[0m\n\u001b[1;32m--> 335\u001b[1;33m                 \u001b[0mself\u001b[0m\u001b[1;33m.\u001b[0m\u001b[0m_final_estimator\u001b[0m\u001b[1;33m.\u001b[0m\u001b[0mfit\u001b[0m\u001b[1;33m(\u001b[0m\u001b[0mXt\u001b[0m\u001b[1;33m,\u001b[0m \u001b[0my\u001b[0m\u001b[1;33m,\u001b[0m \u001b[1;33m**\u001b[0m\u001b[0mfit_params_last_step\u001b[0m\u001b[1;33m)\u001b[0m\u001b[1;33m\u001b[0m\u001b[1;33m\u001b[0m\u001b[0m\n\u001b[0m\u001b[0;32m    336\u001b[0m \u001b[1;33m\u001b[0m\u001b[0m\n\u001b[0;32m    337\u001b[0m         \u001b[1;32mreturn\u001b[0m \u001b[0mself\u001b[0m\u001b[1;33m\u001b[0m\u001b[1;33m\u001b[0m\u001b[0m\n",
      "\u001b[1;32m~\\Anaconda3\\lib\\site-packages\\keras\\wrappers\\scikit_learn.py\u001b[0m in \u001b[0;36mfit\u001b[1;34m(self, x, y, **kwargs)\u001b[0m\n\u001b[0;32m    149\u001b[0m         \u001b[0mfit_args\u001b[0m\u001b[1;33m.\u001b[0m\u001b[0mupdate\u001b[0m\u001b[1;33m(\u001b[0m\u001b[0mkwargs\u001b[0m\u001b[1;33m)\u001b[0m\u001b[1;33m\u001b[0m\u001b[1;33m\u001b[0m\u001b[0m\n\u001b[0;32m    150\u001b[0m \u001b[1;33m\u001b[0m\u001b[0m\n\u001b[1;32m--> 151\u001b[1;33m         \u001b[0mhistory\u001b[0m \u001b[1;33m=\u001b[0m \u001b[0mself\u001b[0m\u001b[1;33m.\u001b[0m\u001b[0mmodel\u001b[0m\u001b[1;33m.\u001b[0m\u001b[0mfit\u001b[0m\u001b[1;33m(\u001b[0m\u001b[0mx\u001b[0m\u001b[1;33m,\u001b[0m \u001b[0my\u001b[0m\u001b[1;33m,\u001b[0m \u001b[1;33m**\u001b[0m\u001b[0mfit_args\u001b[0m\u001b[1;33m)\u001b[0m\u001b[1;33m\u001b[0m\u001b[1;33m\u001b[0m\u001b[0m\n\u001b[0m\u001b[0;32m    152\u001b[0m \u001b[1;33m\u001b[0m\u001b[0m\n\u001b[0;32m    153\u001b[0m         \u001b[1;32mreturn\u001b[0m \u001b[0mhistory\u001b[0m\u001b[1;33m\u001b[0m\u001b[1;33m\u001b[0m\u001b[0m\n",
      "\u001b[1;32m~\\Anaconda3\\lib\\site-packages\\keras\\engine\\training.py\u001b[0m in \u001b[0;36mfit\u001b[1;34m(self, x, y, batch_size, epochs, verbose, callbacks, validation_split, validation_data, shuffle, class_weight, sample_weight, initial_epoch, steps_per_epoch, validation_steps, validation_freq, max_queue_size, workers, use_multiprocessing, **kwargs)\u001b[0m\n\u001b[0;32m   1225\u001b[0m \u001b[1;33m\u001b[0m\u001b[0m\n\u001b[0;32m   1226\u001b[0m         \u001b[1;31m# Delegate logic to `fit_loop`.\u001b[0m\u001b[1;33m\u001b[0m\u001b[1;33m\u001b[0m\u001b[1;33m\u001b[0m\u001b[0m\n\u001b[1;32m-> 1227\u001b[1;33m         return training_arrays.fit_loop(self, fit_function, fit_inputs,\n\u001b[0m\u001b[0;32m   1228\u001b[0m                                         \u001b[0mout_labels\u001b[0m\u001b[1;33m=\u001b[0m\u001b[0mout_labels\u001b[0m\u001b[1;33m,\u001b[0m\u001b[1;33m\u001b[0m\u001b[1;33m\u001b[0m\u001b[0m\n\u001b[0;32m   1229\u001b[0m                                         \u001b[0mbatch_size\u001b[0m\u001b[1;33m=\u001b[0m\u001b[0mbatch_size\u001b[0m\u001b[1;33m,\u001b[0m\u001b[1;33m\u001b[0m\u001b[1;33m\u001b[0m\u001b[0m\n",
      "\u001b[1;32m~\\Anaconda3\\lib\\site-packages\\keras\\engine\\training_arrays.py\u001b[0m in \u001b[0;36mfit_loop\u001b[1;34m(model, fit_function, fit_inputs, out_labels, batch_size, epochs, verbose, callbacks, val_function, val_inputs, shuffle, initial_epoch, steps_per_epoch, validation_steps, validation_freq)\u001b[0m\n\u001b[0;32m    194\u001b[0m                     \u001b[0mins_batch\u001b[0m\u001b[1;33m[\u001b[0m\u001b[0mi\u001b[0m\u001b[1;33m]\u001b[0m \u001b[1;33m=\u001b[0m \u001b[0mins_batch\u001b[0m\u001b[1;33m[\u001b[0m\u001b[0mi\u001b[0m\u001b[1;33m]\u001b[0m\u001b[1;33m.\u001b[0m\u001b[0mtoarray\u001b[0m\u001b[1;33m(\u001b[0m\u001b[1;33m)\u001b[0m\u001b[1;33m\u001b[0m\u001b[1;33m\u001b[0m\u001b[0m\n\u001b[0;32m    195\u001b[0m \u001b[1;33m\u001b[0m\u001b[0m\n\u001b[1;32m--> 196\u001b[1;33m                 \u001b[0mouts\u001b[0m \u001b[1;33m=\u001b[0m \u001b[0mfit_function\u001b[0m\u001b[1;33m(\u001b[0m\u001b[0mins_batch\u001b[0m\u001b[1;33m)\u001b[0m\u001b[1;33m\u001b[0m\u001b[1;33m\u001b[0m\u001b[0m\n\u001b[0m\u001b[0;32m    197\u001b[0m                 \u001b[0mouts\u001b[0m \u001b[1;33m=\u001b[0m \u001b[0mto_list\u001b[0m\u001b[1;33m(\u001b[0m\u001b[0mouts\u001b[0m\u001b[1;33m)\u001b[0m\u001b[1;33m\u001b[0m\u001b[1;33m\u001b[0m\u001b[0m\n\u001b[0;32m    198\u001b[0m                 \u001b[1;32mfor\u001b[0m \u001b[0ml\u001b[0m\u001b[1;33m,\u001b[0m \u001b[0mo\u001b[0m \u001b[1;32min\u001b[0m \u001b[0mzip\u001b[0m\u001b[1;33m(\u001b[0m\u001b[0mout_labels\u001b[0m\u001b[1;33m,\u001b[0m \u001b[0mouts\u001b[0m\u001b[1;33m)\u001b[0m\u001b[1;33m:\u001b[0m\u001b[1;33m\u001b[0m\u001b[1;33m\u001b[0m\u001b[0m\n",
      "\u001b[1;32m~\\AppData\\Roaming\\Python\\Python38\\site-packages\\tensorflow\\python\\keras\\backend.py\u001b[0m in \u001b[0;36m__call__\u001b[1;34m(self, inputs)\u001b[0m\n\u001b[0;32m   3790\u001b[0m         \u001b[0mvalue\u001b[0m \u001b[1;33m=\u001b[0m \u001b[0mmath_ops\u001b[0m\u001b[1;33m.\u001b[0m\u001b[0mcast\u001b[0m\u001b[1;33m(\u001b[0m\u001b[0mvalue\u001b[0m\u001b[1;33m,\u001b[0m \u001b[0mtensor\u001b[0m\u001b[1;33m.\u001b[0m\u001b[0mdtype\u001b[0m\u001b[1;33m)\u001b[0m\u001b[1;33m\u001b[0m\u001b[1;33m\u001b[0m\u001b[0m\n\u001b[0;32m   3791\u001b[0m       \u001b[0mconverted_inputs\u001b[0m\u001b[1;33m.\u001b[0m\u001b[0mappend\u001b[0m\u001b[1;33m(\u001b[0m\u001b[0mvalue\u001b[0m\u001b[1;33m)\u001b[0m\u001b[1;33m\u001b[0m\u001b[1;33m\u001b[0m\u001b[0m\n\u001b[1;32m-> 3792\u001b[1;33m     \u001b[0moutputs\u001b[0m \u001b[1;33m=\u001b[0m \u001b[0mself\u001b[0m\u001b[1;33m.\u001b[0m\u001b[0m_graph_fn\u001b[0m\u001b[1;33m(\u001b[0m\u001b[1;33m*\u001b[0m\u001b[0mconverted_inputs\u001b[0m\u001b[1;33m)\u001b[0m\u001b[1;33m\u001b[0m\u001b[1;33m\u001b[0m\u001b[0m\n\u001b[0m\u001b[0;32m   3793\u001b[0m \u001b[1;33m\u001b[0m\u001b[0m\n\u001b[0;32m   3794\u001b[0m     \u001b[1;31m# EagerTensor.numpy() will often make a copy to ensure memory safety.\u001b[0m\u001b[1;33m\u001b[0m\u001b[1;33m\u001b[0m\u001b[1;33m\u001b[0m\u001b[0m\n",
      "\u001b[1;32m~\\AppData\\Roaming\\Python\\Python38\\site-packages\\tensorflow\\python\\eager\\function.py\u001b[0m in \u001b[0;36m__call__\u001b[1;34m(self, *args, **kwargs)\u001b[0m\n\u001b[0;32m   1603\u001b[0m       \u001b[0mTypeError\u001b[0m\u001b[1;33m:\u001b[0m \u001b[0mFor\u001b[0m \u001b[0minvalid\u001b[0m \u001b[0mpositional\u001b[0m\u001b[1;33m/\u001b[0m\u001b[0mkeyword\u001b[0m \u001b[0margument\u001b[0m \u001b[0mcombinations\u001b[0m\u001b[1;33m.\u001b[0m\u001b[1;33m\u001b[0m\u001b[1;33m\u001b[0m\u001b[0m\n\u001b[0;32m   1604\u001b[0m     \"\"\"\n\u001b[1;32m-> 1605\u001b[1;33m     \u001b[1;32mreturn\u001b[0m \u001b[0mself\u001b[0m\u001b[1;33m.\u001b[0m\u001b[0m_call_impl\u001b[0m\u001b[1;33m(\u001b[0m\u001b[0margs\u001b[0m\u001b[1;33m,\u001b[0m \u001b[0mkwargs\u001b[0m\u001b[1;33m)\u001b[0m\u001b[1;33m\u001b[0m\u001b[1;33m\u001b[0m\u001b[0m\n\u001b[0m\u001b[0;32m   1606\u001b[0m \u001b[1;33m\u001b[0m\u001b[0m\n\u001b[0;32m   1607\u001b[0m   \u001b[1;32mdef\u001b[0m \u001b[0m_call_impl\u001b[0m\u001b[1;33m(\u001b[0m\u001b[0mself\u001b[0m\u001b[1;33m,\u001b[0m \u001b[0margs\u001b[0m\u001b[1;33m,\u001b[0m \u001b[0mkwargs\u001b[0m\u001b[1;33m,\u001b[0m \u001b[0mcancellation_manager\u001b[0m\u001b[1;33m=\u001b[0m\u001b[1;32mNone\u001b[0m\u001b[1;33m)\u001b[0m\u001b[1;33m:\u001b[0m\u001b[1;33m\u001b[0m\u001b[1;33m\u001b[0m\u001b[0m\n",
      "\u001b[1;32m~\\AppData\\Roaming\\Python\\Python38\\site-packages\\tensorflow\\python\\eager\\function.py\u001b[0m in \u001b[0;36m_call_impl\u001b[1;34m(self, args, kwargs, cancellation_manager)\u001b[0m\n\u001b[0;32m   1643\u001b[0m       raise TypeError(\"Keyword arguments {} unknown. Expected {}.\".format(\n\u001b[0;32m   1644\u001b[0m           list(kwargs.keys()), list(self._arg_keywords)))\n\u001b[1;32m-> 1645\u001b[1;33m     \u001b[1;32mreturn\u001b[0m \u001b[0mself\u001b[0m\u001b[1;33m.\u001b[0m\u001b[0m_call_flat\u001b[0m\u001b[1;33m(\u001b[0m\u001b[0margs\u001b[0m\u001b[1;33m,\u001b[0m \u001b[0mself\u001b[0m\u001b[1;33m.\u001b[0m\u001b[0mcaptured_inputs\u001b[0m\u001b[1;33m,\u001b[0m \u001b[0mcancellation_manager\u001b[0m\u001b[1;33m)\u001b[0m\u001b[1;33m\u001b[0m\u001b[1;33m\u001b[0m\u001b[0m\n\u001b[0m\u001b[0;32m   1646\u001b[0m \u001b[1;33m\u001b[0m\u001b[0m\n\u001b[0;32m   1647\u001b[0m   \u001b[1;32mdef\u001b[0m \u001b[0m_filtered_call\u001b[0m\u001b[1;33m(\u001b[0m\u001b[0mself\u001b[0m\u001b[1;33m,\u001b[0m \u001b[0margs\u001b[0m\u001b[1;33m,\u001b[0m \u001b[0mkwargs\u001b[0m\u001b[1;33m)\u001b[0m\u001b[1;33m:\u001b[0m\u001b[1;33m\u001b[0m\u001b[1;33m\u001b[0m\u001b[0m\n",
      "\u001b[1;32m~\\AppData\\Roaming\\Python\\Python38\\site-packages\\tensorflow\\python\\eager\\function.py\u001b[0m in \u001b[0;36m_call_flat\u001b[1;34m(self, args, captured_inputs, cancellation_manager)\u001b[0m\n\u001b[0;32m   1743\u001b[0m         and executing_eagerly):\n\u001b[0;32m   1744\u001b[0m       \u001b[1;31m# No tape is watching; skip to running the function.\u001b[0m\u001b[1;33m\u001b[0m\u001b[1;33m\u001b[0m\u001b[1;33m\u001b[0m\u001b[0m\n\u001b[1;32m-> 1745\u001b[1;33m       return self._build_call_outputs(self._inference_function.call(\n\u001b[0m\u001b[0;32m   1746\u001b[0m           ctx, args, cancellation_manager=cancellation_manager))\n\u001b[0;32m   1747\u001b[0m     forward_backward = self._select_forward_and_backward_functions(\n",
      "\u001b[1;32m~\\AppData\\Roaming\\Python\\Python38\\site-packages\\tensorflow\\python\\eager\\function.py\u001b[0m in \u001b[0;36mcall\u001b[1;34m(self, ctx, args, cancellation_manager)\u001b[0m\n\u001b[0;32m    591\u001b[0m       \u001b[1;32mwith\u001b[0m \u001b[0m_InterpolateFunctionError\u001b[0m\u001b[1;33m(\u001b[0m\u001b[0mself\u001b[0m\u001b[1;33m)\u001b[0m\u001b[1;33m:\u001b[0m\u001b[1;33m\u001b[0m\u001b[1;33m\u001b[0m\u001b[0m\n\u001b[0;32m    592\u001b[0m         \u001b[1;32mif\u001b[0m \u001b[0mcancellation_manager\u001b[0m \u001b[1;32mis\u001b[0m \u001b[1;32mNone\u001b[0m\u001b[1;33m:\u001b[0m\u001b[1;33m\u001b[0m\u001b[1;33m\u001b[0m\u001b[0m\n\u001b[1;32m--> 593\u001b[1;33m           outputs = execute.execute(\n\u001b[0m\u001b[0;32m    594\u001b[0m               \u001b[0mstr\u001b[0m\u001b[1;33m(\u001b[0m\u001b[0mself\u001b[0m\u001b[1;33m.\u001b[0m\u001b[0msignature\u001b[0m\u001b[1;33m.\u001b[0m\u001b[0mname\u001b[0m\u001b[1;33m)\u001b[0m\u001b[1;33m,\u001b[0m\u001b[1;33m\u001b[0m\u001b[1;33m\u001b[0m\u001b[0m\n\u001b[0;32m    595\u001b[0m               \u001b[0mnum_outputs\u001b[0m\u001b[1;33m=\u001b[0m\u001b[0mself\u001b[0m\u001b[1;33m.\u001b[0m\u001b[0m_num_outputs\u001b[0m\u001b[1;33m,\u001b[0m\u001b[1;33m\u001b[0m\u001b[1;33m\u001b[0m\u001b[0m\n",
      "\u001b[1;32m~\\AppData\\Roaming\\Python\\Python38\\site-packages\\tensorflow\\python\\eager\\execute.py\u001b[0m in \u001b[0;36mquick_execute\u001b[1;34m(op_name, num_outputs, inputs, attrs, ctx, name)\u001b[0m\n\u001b[0;32m     57\u001b[0m   \u001b[1;32mtry\u001b[0m\u001b[1;33m:\u001b[0m\u001b[1;33m\u001b[0m\u001b[1;33m\u001b[0m\u001b[0m\n\u001b[0;32m     58\u001b[0m     \u001b[0mctx\u001b[0m\u001b[1;33m.\u001b[0m\u001b[0mensure_initialized\u001b[0m\u001b[1;33m(\u001b[0m\u001b[1;33m)\u001b[0m\u001b[1;33m\u001b[0m\u001b[1;33m\u001b[0m\u001b[0m\n\u001b[1;32m---> 59\u001b[1;33m     tensors = pywrap_tfe.TFE_Py_Execute(ctx._handle, device_name, op_name,\n\u001b[0m\u001b[0;32m     60\u001b[0m                                         inputs, attrs, num_outputs)\n\u001b[0;32m     61\u001b[0m   \u001b[1;32mexcept\u001b[0m \u001b[0mcore\u001b[0m\u001b[1;33m.\u001b[0m\u001b[0m_NotOkStatusException\u001b[0m \u001b[1;32mas\u001b[0m \u001b[0me\u001b[0m\u001b[1;33m:\u001b[0m\u001b[1;33m\u001b[0m\u001b[1;33m\u001b[0m\u001b[0m\n",
      "\u001b[1;31mKeyboardInterrupt\u001b[0m: "
     ]
    }
   ],
   "source": [
    "def create_model(activation='softmax',\n",
    "                units=100,\n",
    "                dropout=0.2,\n",
    "                recurrent_dropout=0.2,\n",
    "                loss='categorical_crossentropy',\n",
    "                optimizer='adam',\n",
    "                dense_units=2\n",
    "                ):\n",
    "    model = Sequential()\n",
    "    model.add(Embedding(MAX_NB_WORDS, EMBEDDING_DIM, input_length=X.shape[1]))\n",
    "    model.add(SpatialDropout1D(0.2))\n",
    "    # units: Positive integer, dimensionality of the output space.\n",
    "    # dropout: Float between 0 and 1. Fraction of the units to drop for the linear transformation of the inputs\n",
    "    # recurrent_dropout: Float between 0 and 1. Fraction of the units to drop for the linear transformation of the recurrent state\n",
    "    model.add(LSTM(units, dropout=dropout, recurrent_dropout=recurrent_dropout))\n",
    "    # units: Positive integer, dimensionality of the output space\n",
    "    # (None, 3)\n",
    "    model.add(Dense(dense_units, activation=activation))\n",
    "    model.compile(loss=loss, optimizer=optimizer, metrics=['accuracy'])\n",
    "    return model\n",
    "\n",
    "epochs = 3\n",
    "batch_size = 72\n",
    "\n",
    "clf = KerasRegressor(build_fn=create_model, verbose=0, epochs=epochs, batch_size=batch_size,validation_split=0.1,callbacks=[EarlyStopping(monitor='val_loss', patience=3, min_delta=0.0001)])\n",
    "\n",
    "pipeline = Pipeline([\n",
    "    ('clf',clf)\n",
    "])\n",
    "\n",
    "history = pipeline.fit(X_train, Y_train)"
   ]
  },
  {
   "cell_type": "code",
   "execution_count": 45,
   "metadata": {},
   "outputs": [
    {
     "data": {
      "text/plain": [
       "array([[0.5278084 , 0.47219163],\n",
       "       [0.53196156, 0.46803844],\n",
       "       [0.5298273 , 0.4701727 ],\n",
       "       [0.52459806, 0.475402  ],\n",
       "       [0.53196156, 0.46803844],\n",
       "       [0.52833575, 0.47166416],\n",
       "       [0.52936363, 0.4706364 ],\n",
       "       [0.53196156, 0.4680384 ],\n",
       "       [0.5267971 , 0.47320285],\n",
       "       [0.5391728 , 0.46082723],\n",
       "       [0.52936363, 0.4706364 ],\n",
       "       [0.5391728 , 0.46082723],\n",
       "       [0.53098667, 0.46901327],\n",
       "       [0.53098667, 0.46901327],\n",
       "       [0.5291094 , 0.47089052],\n",
       "       [0.53196156, 0.4680384 ],\n",
       "       [0.53610355, 0.4638965 ],\n",
       "       [0.51962286, 0.48037708],\n",
       "       [0.53196156, 0.46803844],\n",
       "       [0.5391728 , 0.46082723]], dtype=float32)"
      ]
     },
     "execution_count": 45,
     "metadata": {},
     "output_type": "execute_result"
    }
   ],
   "source": [
    "predicted = pipeline.predict(X_test)\n",
    "# print('Test set\\n  Loss: {:0.3f}\\n  Accuracy: {:0.3f}'.format(predicted[0],predicted[1]))\n",
    "predicted"
   ]
  },
  {
   "cell_type": "code",
   "execution_count": 46,
   "metadata": {},
   "outputs": [
    {
     "data": {
      "text/plain": [
       "0.0"
      ]
     },
     "execution_count": 46,
     "metadata": {},
     "output_type": "execute_result"
    }
   ],
   "source": [
    "np.mean(predicted == Y_test)"
   ]
  },
  {
   "cell_type": "code",
   "execution_count": 155,
   "metadata": {},
   "outputs": [
    {
     "data": {
      "image/png": "[encoded data removed]",
      "text/plain": [
       "<Figure size 432x288 with 1 Axes>"
      ]
     },
     "metadata": {
      "needs_background": "light"
     },
     "output_type": "display_data"
    }
   ],
   "source": [
    "plt.title('Loss')\n",
    "plt.plot(history.history['loss'], label='train')\n",
    "plt.plot(history.history['val_loss'], label='test')\n",
    "plt.legend()\n",
    "plt.show();"
   ]
  },
  {
   "cell_type": "code",
   "execution_count": 162,
   "metadata": {},
   "outputs": [
    {
     "data": {
      "image/png": "[encoded data removed]",
      "text/plain": [
       "<Figure size 432x288 with 1 Axes>"
      ]
     },
     "metadata": {
      "needs_background": "light"
     },
     "output_type": "display_data"
    }
   ],
   "source": [
    "plt.title('Accuracy')\n",
    "plt.plot(history.history['accuracy'], label='train')\n",
    "plt.plot(history.history['val_accuracy'], label='test')\n",
    "plt.legend()\n",
    "plt.show();"
   ]
  },
  {
   "cell_type": "code",
   "execution_count": 160,
   "metadata": {},
   "outputs": [
    {
     "data": {
      "text/plain": [
       "{'val_loss': [0.5392549102489379,\n",
       "  0.5436472492889902,\n",
       "  0.5258472341844336,\n",
       "  0.527341907144721,\n",
       "  0.5233879128841196],\n",
       " 'val_accuracy': [0.7565720081329346,\n",
       "  0.761829674243927,\n",
       "  0.768664538860321,\n",
       "  0.7655099630355835,\n",
       "  0.7660357356071472],\n",
       " 'loss': [0.5747780097204527,\n",
       "  0.5270597410879122,\n",
       "  0.5207833287097748,\n",
       "  0.5160820137149704,\n",
       "  0.5144538231555816],\n",
       " 'accuracy': [0.74493074, 0.7611757, 0.76427275, 0.76602584, 0.7674867]}"
      ]
     },
     "execution_count": 160,
     "metadata": {},
     "output_type": "execute_result"
    }
   ],
   "source": [
    "history.history\n"
   ]
  },
  {
   "cell_type": "code",
   "execution_count": 210,
   "metadata": {},
   "outputs": [
    {
     "data": {
      "text/plain": [
       "array([[2.7217430e-01, 7.2757405e-01, 2.5159252e-04],\n",
       "       [2.7305761e-01, 7.2667521e-01, 2.6714511e-04],\n",
       "       [1.8111259e-01, 8.1873506e-01, 1.5236292e-04],\n",
       "       ...,\n",
       "       [1.7219770e-01, 8.2754946e-01, 2.5281697e-04],\n",
       "       [1.7943431e-01, 8.2046747e-01, 9.8176388e-05],\n",
       "       [1.7481382e-01, 8.2509303e-01, 9.3145696e-05]], dtype=float32)"
      ]
     },
     "execution_count": 210,
     "metadata": {},
     "output_type": "execute_result"
    }
   ],
   "source": [
    "pred = model.predict((X_test)) # [28:29,:]\n",
    "pred"
   ]
  },
  {
   "cell_type": "markdown",
   "metadata": {},
   "source": [
    "## Naive base"
   ]
  },
  {
   "cell_type": "code",
   "execution_count": 214,
   "metadata": {},
   "outputs": [],
   "source": [
    "# pipeline\n",
    "text_clf_nb = Pipeline([\n",
    "#                         ('vect', CountVectorizer()), # attribute stop_words (\"then, the, etc.\")\n",
    "#                      ('tfidf', TfidfTransformer()),\n",
    "                     ('clf', MultinomialNB(alpha=0.01)), # FitPrior=False, a uniform prior will be used\n",
    "                    ])"
   ]
  },
  {
   "cell_type": "code",
   "execution_count": 217,
   "metadata": {},
   "outputs": [
    {
     "name": "stdout",
     "output_type": "stream",
     "text": [
      "(19015, 1000) (19015,)\n",
      "(4754, 1000) (4754,)\n"
     ]
    }
   ],
   "source": [
    "X_train, X_test, Y_single_train, Y_single_test = train_test_split(X,Y_single, test_size = 0.20, random_state = 42)\n",
    "print(X_train.shape,Y_single_train.shape)\n",
    "print(X_test.shape,Y_single_test.shape)"
   ]
  },
  {
   "cell_type": "code",
   "execution_count": 219,
   "metadata": {},
   "outputs": [],
   "source": [
    "text_clf_nb = text_clf_nb.fit(X_train, Y_single_train)"
   ]
  },
  {
   "cell_type": "code",
   "execution_count": 221,
   "metadata": {},
   "outputs": [
    {
     "data": {
      "text/plain": [
       "0.652923853596971"
      ]
     },
     "execution_count": 221,
     "metadata": {},
     "output_type": "execute_result"
    }
   ],
   "source": [
    "predicted = text_clf_nb.predict(X_test)\n",
    "np.mean(predicted == Y_single_test)"
   ]
  },
  {
   "cell_type": "code",
   "execution_count": null,
   "metadata": {},
   "outputs": [],
   "source": []
  }
 ],
 "metadata": {
  "kernelspec": {
   "display_name": "Python 3",
   "language": "python",
   "name": "python3"
  },
  "language_info": {
   "codemirror_mode": {
    "name": "ipython",
    "version": 3
   },
   "file_extension": ".py",
   "mimetype": "text/x-python",
   "name": "python",
   "nbconvert_exporter": "python",
   "pygments_lexer": "ipython3",
   "version": "3.8.5"
  }
 },
 "nbformat": 4,
 "nbformat_minor": 4
}
