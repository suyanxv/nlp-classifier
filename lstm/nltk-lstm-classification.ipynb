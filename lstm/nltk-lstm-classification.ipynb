{
 "cells": [
  {
   "cell_type": "markdown",
   "metadata": {},
   "source": [
    "# Text classification with LSTM (RNN)"
   ]
  },
  {
   "cell_type": "markdown",
   "metadata": {},
   "source": [
    "## Import Libraries"
   ]
  },
  {
   "cell_type": "code",
   "execution_count": 1,
   "metadata": {},
   "outputs": [
    {
     "name": "stderr",
     "output_type": "stream",
     "text": [
      "Using TensorFlow backend.\n",
      "[nltk_data] Downloading package stopwords to\n",
      "[nltk_data]     C:\\Users\\idgca\\AppData\\Roaming\\nltk_data...\n",
      "[nltk_data]   Package stopwords is already up-to-date!\n"
     ]
    },
    {
     "data": {
      "text/html": [
       "        <script type=\"text/javascript\">\n",
       "        window.PlotlyConfig = {MathJaxConfig: 'local'};\n",
       "        if (window.MathJax) {MathJax.Hub.Config({SVG: {font: \"STIX-Web\"}});}\n",
       "        if (typeof require !== 'undefined') {\n",
       "        require.undef(\"plotly\");\n",
       "        requirejs.config({\n",
       "            paths: {\n",
       "                'plotly': ['https://cdn.plot.ly/plotly-latest.min']\n",
       "            }\n",
       "        });\n",
       "        require(['plotly'], function(Plotly) {\n",
       "            window._Plotly = Plotly;\n",
       "        });\n",
       "        }\n",
       "        </script>\n",
       "        "
      ]
     },
     "metadata": {},
     "output_type": "display_data"
    }
   ],
   "source": [
    "import numpy as np \n",
    "import pandas as pd\n",
    "import matplotlib.pyplot as plt\n",
    "import seaborn as sns\n",
    "from keras.preprocessing.text import Tokenizer\n",
    "from keras.preprocessing.sequence import pad_sequences\n",
    "from keras.models import Sequential\n",
    "from keras.layers import Dense, Embedding, LSTM, SpatialDropout1D\n",
    "from keras.utils.np_utils import to_categorical\n",
    "from keras.callbacks import EarlyStopping\n",
    "from keras.layers import Dropout\n",
    "from keras.wrappers.scikit_learn import KerasRegressor\n",
    "\n",
    "from sklearn.model_selection import train_test_split\n",
    "from sklearn.feature_extraction.text import CountVectorizer\n",
    "from sklearn.feature_extraction.text import TfidfTransformer\n",
    "from sklearn.naive_bayes import MultinomialNB\n",
    "from sklearn.pipeline import Pipeline\n",
    "from sklearn.linear_model import SGDClassifier\n",
    "from sklearn.model_selection import GridSearchCV\n",
    "\n",
    "import re\n",
    "import nltk\n",
    "nltk.download('stopwords')\n",
    "from nltk.corpus import stopwords\n",
    "from nltk import word_tokenize\n",
    "STOPWORDS = set(stopwords.words('english'))\n",
    "from bs4 import BeautifulSoup\n",
    "import plotly.graph_objs as go\n",
    "# import plotly.plotly as py\n",
    "import chart_studio.plotly as py\n",
    "import cufflinks\n",
    "from IPython.core.interactiveshell import InteractiveShell\n",
    "import plotly.figure_factory as ff\n",
    "InteractiveShell.ast_node_interactivity = 'all'\n",
    "from plotly.offline import iplot\n",
    "import matplotlib as mpl\n",
    "from matplotlib import pyplot\n",
    "import os\n",
    "import jieba # 中文分词组件\n",
    "cufflinks.go_offline()\n",
    "cufflinks.set_config_file(world_readable=True, theme='pearl')"
   ]
  },
  {
   "cell_type": "markdown",
   "metadata": {},
   "source": [
    "## Import data"
   ]
  },
  {
   "cell_type": "code",
   "execution_count": 11,
   "metadata": {},
   "outputs": [],
   "source": [
    "def read_data(rootdir, target_name, target_index):\n",
    "    \n",
    "    for root, subdirs, files in os.walk(rootdir):\n",
    "        for file in files:\n",
    "            path = root+'/'+file\n",
    "            with open(path, encoding=\"utf8\") as f:\n",
    "                input_file = f.read()\n",
    "                data.append(input_file)\n",
    "                target_names.append(target_name)\n",
    "                target.append(target_index)\n",
    "\n",
    "data = []\n",
    "target_names = []\n",
    "target = []\n",
    "read_data(\"../data/classification_data_v3/中性\", \"中性\", 0)\n",
    "read_data(\"../data/classification_data_v3/买入\", \"买入\", 1)\n",
    "read_data(\"../data/classification_data_v3/卖出\", \"卖出\", 2)"
   ]
  },
  {
   "cell_type": "code",
   "execution_count": 14,
   "metadata": {},
   "outputs": [
    {
     "name": "stdout",
     "output_type": "stream",
     "text": [
      "<class 'pandas.core.frame.DataFrame'>\n",
      "RangeIndex: 23769 entries, 0 to 23768\n",
      "Data columns (total 3 columns):\n",
      " #   Column        Non-Null Count  Dtype \n",
      "---  ------        --------------  ----- \n",
      " 0   data          23769 non-null  object\n",
      " 1   target_names  23769 non-null  object\n",
      " 2   target        23769 non-null  int64 \n",
      "dtypes: int64(1), object(2)\n",
      "memory usage: 557.2+ KB\n"
     ]
    }
   ],
   "source": [
    "# combine data to single dataframe\n",
    "df_raw = pd.DataFrame()\n",
    "df_raw['data'] = data\n",
    "df_raw['target_names'] = target_names\n",
    "df_raw['target'] = target\n",
    "df_raw.info()"
   ]
  },
  {
   "cell_type": "code",
   "execution_count": 15,
   "metadata": {},
   "outputs": [
    {
     "data": {
      "text/plain": [
       "买入    17123\n",
       "中性     6634\n",
       "卖出       12\n",
       "Name: target_names, dtype: int64"
      ]
     },
     "execution_count": 15,
     "metadata": {},
     "output_type": "execute_result"
    },
    {
     "data": {
      "text/plain": [
       "1    17123\n",
       "0     6634\n",
       "2       12\n",
       "Name: target, dtype: int64"
      ]
     },
     "execution_count": 15,
     "metadata": {},
     "output_type": "execute_result"
    }
   ],
   "source": [
    "df_raw.target_names.value_counts()\n",
    "df_raw.target.value_counts()"
   ]
  },
  {
   "cell_type": "code",
   "execution_count": 16,
   "metadata": {},
   "outputs": [
    {
     "data": {
      "text/html": [
       "<div>\n",
       "<style scoped>\n",
       "    .dataframe tbody tr th:only-of-type {\n",
       "        vertical-align: middle;\n",
       "    }\n",
       "\n",
       "    .dataframe tbody tr th {\n",
       "        vertical-align: top;\n",
       "    }\n",
       "\n",
       "    .dataframe thead th {\n",
       "        text-align: right;\n",
       "    }\n",
       "</style>\n",
       "<table border=\"1\" class=\"dataframe\">\n",
       "  <thead>\n",
       "    <tr style=\"text-align: right;\">\n",
       "      <th></th>\n",
       "      <th>data</th>\n",
       "      <th>target_names</th>\n",
       "      <th>target</th>\n",
       "    </tr>\n",
       "  </thead>\n",
       "  <tbody>\n",
       "    <tr>\n",
       "      <th>0</th>\n",
       "      <td>\\n \\n \\n \\n[Table_main] 公司研究类模板  \\n 顺丰控股(0023...</td>\n",
       "      <td>中性</td>\n",
       "      <td>0</td>\n",
       "    </tr>\n",
       "    <tr>\n",
       "      <th>1</th>\n",
       "      <td>公\\n司\\n研\\n究 DONGXING SECURITIES  \\n \\n华域汽车（6007...</td>\n",
       "      <td>中性</td>\n",
       "      <td>0</td>\n",
       "    </tr>\n",
       "    <tr>\n",
       "      <th>2</th>\n",
       "      <td>\\n \\n公 汽车和汽车零部件 \\n \\n司 2020 年 02 月 24日 \\n报 长城...</td>\n",
       "      <td>中性</td>\n",
       "      <td>0</td>\n",
       "    </tr>\n",
       "    <tr>\n",
       "      <th>3</th>\n",
       "      <td>\\n \\n仅供机构投资者使用 \\n证券研究报告|公司点评报告 \\n [Table_2D0a...</td>\n",
       "      <td>中性</td>\n",
       "      <td>0</td>\n",
       "    </tr>\n",
       "    <tr>\n",
       "      <th>4</th>\n",
       "      <td>\\n \\n \\n证券研究报告 \\n公司研究/公告点评 \\n2020年02月24日 基础化工...</td>\n",
       "      <td>中性</td>\n",
       "      <td>0</td>\n",
       "    </tr>\n",
       "  </tbody>\n",
       "</table>\n",
       "</div>"
      ],
      "text/plain": [
       "                                                data target_names  target\n",
       "0   \\n \\n \\n \\n[Table_main] 公司研究类模板  \\n 顺丰控股(0023...           中性       0\n",
       "1  公\\n司\\n研\\n究 DONGXING SECURITIES  \\n \\n华域汽车（6007...           中性       0\n",
       "2   \\n \\n公 汽车和汽车零部件 \\n \\n司 2020 年 02 月 24日 \\n报 长城...           中性       0\n",
       "3   \\n \\n仅供机构投资者使用 \\n证券研究报告|公司点评报告 \\n [Table_2D0a...           中性       0\n",
       "4   \\n \\n \\n证券研究报告 \\n公司研究/公告点评 \\n2020年02月24日 基础化工...           中性       0"
      ]
     },
     "execution_count": 16,
     "metadata": {},
     "output_type": "execute_result"
    }
   ],
   "source": [
    "df_raw.head()"
   ]
  },
  {
   "cell_type": "markdown",
   "metadata": {},
   "source": [
    "## Data exploration"
   ]
  },
  {
   "cell_type": "code",
   "execution_count": 18,
   "metadata": {
    "scrolled": true
   },
   "outputs": [
    {
     "data": {
      "application/vnd.plotly.v1+json": {
       "config": {
        "linkText": "Export to plot.ly",
        "plotlyServerURL": "https://plot.ly",
        "showLink": true
       },
       "data": [
        {
         "marker": {
          "color": "rgba(255, 153, 51, 0.6)",
          "line": {
           "color": "rgba(255, 153, 51, 1.0)",
           "width": 1
          }
         },
         "name": "target_names",
         "orientation": "v",
         "text": "",
         "type": "bar",
         "x": [
          "买入",
          "中性",
          "卖出"
         ],
         "y": [
          17123,
          6634,
          12
         ]
        }
       ],
       "layout": {
        "legend": {
         "bgcolor": "#F5F6F9",
         "font": {
          "color": "#4D5663"
         }
        },
        "paper_bgcolor": "#F5F6F9",
        "plot_bgcolor": "#F5F6F9",
        "template": {
         "data": {
          "bar": [
           {
            "error_x": {
             "color": "#2a3f5f"
            },
            "error_y": {
             "color": "#2a3f5f"
            },
            "marker": {
             "line": {
              "color": "#E5ECF6",
              "width": 0.5
             }
            },
            "type": "bar"
           }
          ],
          "barpolar": [
           {
            "marker": {
             "line": {
              "color": "#E5ECF6",
              "width": 0.5
             }
            },
            "type": "barpolar"
           }
          ],
          "carpet": [
           {
            "aaxis": {
             "endlinecolor": "#2a3f5f",
             "gridcolor": "white",
             "linecolor": "white",
             "minorgridcolor": "white",
             "startlinecolor": "#2a3f5f"
            },
            "baxis": {
             "endlinecolor": "#2a3f5f",
             "gridcolor": "white",
             "linecolor": "white",
             "minorgridcolor": "white",
             "startlinecolor": "#2a3f5f"
            },
            "type": "carpet"
           }
          ],
          "choropleth": [
           {
            "colorbar": {
             "outlinewidth": 0,
             "ticks": ""
            },
            "type": "choropleth"
           }
          ],
          "contour": [
           {
            "colorbar": {
             "outlinewidth": 0,
             "ticks": ""
            },
            "colorscale": [
             [
              0,
              "#0d0887"
             ],
             [
              0.1111111111111111,
              "#46039f"
             ],
             [
              0.2222222222222222,
              "#7201a8"
             ],
             [
              0.3333333333333333,
              "#9c179e"
             ],
             [
              0.4444444444444444,
              "#bd3786"
             ],
             [
              0.5555555555555556,
              "#d8576b"
             ],
             [
              0.6666666666666666,
              "#ed7953"
             ],
             [
              0.7777777777777778,
              "#fb9f3a"
             ],
             [
              0.8888888888888888,
              "#fdca26"
             ],
             [
              1,
              "#f0f921"
             ]
            ],
            "type": "contour"
           }
          ],
          "contourcarpet": [
           {
            "colorbar": {
             "outlinewidth": 0,
             "ticks": ""
            },
            "type": "contourcarpet"
           }
          ],
          "heatmap": [
           {
            "colorbar": {
             "outlinewidth": 0,
             "ticks": ""
            },
            "colorscale": [
             [
              0,
              "#0d0887"
             ],
             [
              0.1111111111111111,
              "#46039f"
             ],
             [
              0.2222222222222222,
              "#7201a8"
             ],
             [
              0.3333333333333333,
              "#9c179e"
             ],
             [
              0.4444444444444444,
              "#bd3786"
             ],
             [
              0.5555555555555556,
              "#d8576b"
             ],
             [
              0.6666666666666666,
              "#ed7953"
             ],
             [
              0.7777777777777778,
              "#fb9f3a"
             ],
             [
              0.8888888888888888,
              "#fdca26"
             ],
             [
              1,
              "#f0f921"
             ]
            ],
            "type": "heatmap"
           }
          ],
          "heatmapgl": [
           {
            "colorbar": {
             "outlinewidth": 0,
             "ticks": ""
            },
            "colorscale": [
             [
              0,
              "#0d0887"
             ],
             [
              0.1111111111111111,
              "#46039f"
             ],
             [
              0.2222222222222222,
              "#7201a8"
             ],
             [
              0.3333333333333333,
              "#9c179e"
             ],
             [
              0.4444444444444444,
              "#bd3786"
             ],
             [
              0.5555555555555556,
              "#d8576b"
             ],
             [
              0.6666666666666666,
              "#ed7953"
             ],
             [
              0.7777777777777778,
              "#fb9f3a"
             ],
             [
              0.8888888888888888,
              "#fdca26"
             ],
             [
              1,
              "#f0f921"
             ]
            ],
            "type": "heatmapgl"
           }
          ],
          "histogram": [
           {
            "marker": {
             "colorbar": {
              "outlinewidth": 0,
              "ticks": ""
             }
            },
            "type": "histogram"
           }
          ],
          "histogram2d": [
           {
            "colorbar": {
             "outlinewidth": 0,
             "ticks": ""
            },
            "colorscale": [
             [
              0,
              "#0d0887"
             ],
             [
              0.1111111111111111,
              "#46039f"
             ],
             [
              0.2222222222222222,
              "#7201a8"
             ],
             [
              0.3333333333333333,
              "#9c179e"
             ],
             [
              0.4444444444444444,
              "#bd3786"
             ],
             [
              0.5555555555555556,
              "#d8576b"
             ],
             [
              0.6666666666666666,
              "#ed7953"
             ],
             [
              0.7777777777777778,
              "#fb9f3a"
             ],
             [
              0.8888888888888888,
              "#fdca26"
             ],
             [
              1,
              "#f0f921"
             ]
            ],
            "type": "histogram2d"
           }
          ],
          "histogram2dcontour": [
           {
            "colorbar": {
             "outlinewidth": 0,
             "ticks": ""
            },
            "colorscale": [
             [
              0,
              "#0d0887"
             ],
             [
              0.1111111111111111,
              "#46039f"
             ],
             [
              0.2222222222222222,
              "#7201a8"
             ],
             [
              0.3333333333333333,
              "#9c179e"
             ],
             [
              0.4444444444444444,
              "#bd3786"
             ],
             [
              0.5555555555555556,
              "#d8576b"
             ],
             [
              0.6666666666666666,
              "#ed7953"
             ],
             [
              0.7777777777777778,
              "#fb9f3a"
             ],
             [
              0.8888888888888888,
              "#fdca26"
             ],
             [
              1,
              "#f0f921"
             ]
            ],
            "type": "histogram2dcontour"
           }
          ],
          "mesh3d": [
           {
            "colorbar": {
             "outlinewidth": 0,
             "ticks": ""
            },
            "type": "mesh3d"
           }
          ],
          "parcoords": [
           {
            "line": {
             "colorbar": {
              "outlinewidth": 0,
              "ticks": ""
             }
            },
            "type": "parcoords"
           }
          ],
          "pie": [
           {
            "automargin": true,
            "type": "pie"
           }
          ],
          "scatter": [
           {
            "marker": {
             "colorbar": {
              "outlinewidth": 0,
              "ticks": ""
             }
            },
            "type": "scatter"
           }
          ],
          "scatter3d": [
           {
            "line": {
             "colorbar": {
              "outlinewidth": 0,
              "ticks": ""
             }
            },
            "marker": {
             "colorbar": {
              "outlinewidth": 0,
              "ticks": ""
             }
            },
            "type": "scatter3d"
           }
          ],
          "scattercarpet": [
           {
            "marker": {
             "colorbar": {
              "outlinewidth": 0,
              "ticks": ""
             }
            },
            "type": "scattercarpet"
           }
          ],
          "scattergeo": [
           {
            "marker": {
             "colorbar": {
              "outlinewidth": 0,
              "ticks": ""
             }
            },
            "type": "scattergeo"
           }
          ],
          "scattergl": [
           {
            "marker": {
             "colorbar": {
              "outlinewidth": 0,
              "ticks": ""
             }
            },
            "type": "scattergl"
           }
          ],
          "scattermapbox": [
           {
            "marker": {
             "colorbar": {
              "outlinewidth": 0,
              "ticks": ""
             }
            },
            "type": "scattermapbox"
           }
          ],
          "scatterpolar": [
           {
            "marker": {
             "colorbar": {
              "outlinewidth": 0,
              "ticks": ""
             }
            },
            "type": "scatterpolar"
           }
          ],
          "scatterpolargl": [
           {
            "marker": {
             "colorbar": {
              "outlinewidth": 0,
              "ticks": ""
             }
            },
            "type": "scatterpolargl"
           }
          ],
          "scatterternary": [
           {
            "marker": {
             "colorbar": {
              "outlinewidth": 0,
              "ticks": ""
             }
            },
            "type": "scatterternary"
           }
          ],
          "surface": [
           {
            "colorbar": {
             "outlinewidth": 0,
             "ticks": ""
            },
            "colorscale": [
             [
              0,
              "#0d0887"
             ],
             [
              0.1111111111111111,
              "#46039f"
             ],
             [
              0.2222222222222222,
              "#7201a8"
             ],
             [
              0.3333333333333333,
              "#9c179e"
             ],
             [
              0.4444444444444444,
              "#bd3786"
             ],
             [
              0.5555555555555556,
              "#d8576b"
             ],
             [
              0.6666666666666666,
              "#ed7953"
             ],
             [
              0.7777777777777778,
              "#fb9f3a"
             ],
             [
              0.8888888888888888,
              "#fdca26"
             ],
             [
              1,
              "#f0f921"
             ]
            ],
            "type": "surface"
           }
          ],
          "table": [
           {
            "cells": {
             "fill": {
              "color": "#EBF0F8"
             },
             "line": {
              "color": "white"
             }
            },
            "header": {
             "fill": {
              "color": "#C8D4E3"
             },
             "line": {
              "color": "white"
             }
            },
            "type": "table"
           }
          ]
         },
         "layout": {
          "annotationdefaults": {
           "arrowcolor": "#2a3f5f",
           "arrowhead": 0,
           "arrowwidth": 1
          },
          "coloraxis": {
           "colorbar": {
            "outlinewidth": 0,
            "ticks": ""
           }
          },
          "colorscale": {
           "diverging": [
            [
             0,
             "#8e0152"
            ],
            [
             0.1,
             "#c51b7d"
            ],
            [
             0.2,
             "#de77ae"
            ],
            [
             0.3,
             "#f1b6da"
            ],
            [
             0.4,
             "#fde0ef"
            ],
            [
             0.5,
             "#f7f7f7"
            ],
            [
             0.6,
             "#e6f5d0"
            ],
            [
             0.7,
             "#b8e186"
            ],
            [
             0.8,
             "#7fbc41"
            ],
            [
             0.9,
             "#4d9221"
            ],
            [
             1,
             "#276419"
            ]
           ],
           "sequential": [
            [
             0,
             "#0d0887"
            ],
            [
             0.1111111111111111,
             "#46039f"
            ],
            [
             0.2222222222222222,
             "#7201a8"
            ],
            [
             0.3333333333333333,
             "#9c179e"
            ],
            [
             0.4444444444444444,
             "#bd3786"
            ],
            [
             0.5555555555555556,
             "#d8576b"
            ],
            [
             0.6666666666666666,
             "#ed7953"
            ],
            [
             0.7777777777777778,
             "#fb9f3a"
            ],
            [
             0.8888888888888888,
             "#fdca26"
            ],
            [
             1,
             "#f0f921"
            ]
           ],
           "sequentialminus": [
            [
             0,
             "#0d0887"
            ],
            [
             0.1111111111111111,
             "#46039f"
            ],
            [
             0.2222222222222222,
             "#7201a8"
            ],
            [
             0.3333333333333333,
             "#9c179e"
            ],
            [
             0.4444444444444444,
             "#bd3786"
            ],
            [
             0.5555555555555556,
             "#d8576b"
            ],
            [
             0.6666666666666666,
             "#ed7953"
            ],
            [
             0.7777777777777778,
             "#fb9f3a"
            ],
            [
             0.8888888888888888,
             "#fdca26"
            ],
            [
             1,
             "#f0f921"
            ]
           ]
          },
          "colorway": [
           "#636efa",
           "#EF553B",
           "#00cc96",
           "#ab63fa",
           "#FFA15A",
           "#19d3f3",
           "#FF6692",
           "#B6E880",
           "#FF97FF",
           "#FECB52"
          ],
          "font": {
           "color": "#2a3f5f"
          },
          "geo": {
           "bgcolor": "white",
           "lakecolor": "white",
           "landcolor": "#E5ECF6",
           "showlakes": true,
           "showland": true,
           "subunitcolor": "white"
          },
          "hoverlabel": {
           "align": "left"
          },
          "hovermode": "closest",
          "mapbox": {
           "style": "light"
          },
          "paper_bgcolor": "white",
          "plot_bgcolor": "#E5ECF6",
          "polar": {
           "angularaxis": {
            "gridcolor": "white",
            "linecolor": "white",
            "ticks": ""
           },
           "bgcolor": "#E5ECF6",
           "radialaxis": {
            "gridcolor": "white",
            "linecolor": "white",
            "ticks": ""
           }
          },
          "scene": {
           "xaxis": {
            "backgroundcolor": "#E5ECF6",
            "gridcolor": "white",
            "gridwidth": 2,
            "linecolor": "white",
            "showbackground": true,
            "ticks": "",
            "zerolinecolor": "white"
           },
           "yaxis": {
            "backgroundcolor": "#E5ECF6",
            "gridcolor": "white",
            "gridwidth": 2,
            "linecolor": "white",
            "showbackground": true,
            "ticks": "",
            "zerolinecolor": "white"
           },
           "zaxis": {
            "backgroundcolor": "#E5ECF6",
            "gridcolor": "white",
            "gridwidth": 2,
            "linecolor": "white",
            "showbackground": true,
            "ticks": "",
            "zerolinecolor": "white"
           }
          },
          "shapedefaults": {
           "line": {
            "color": "#2a3f5f"
           }
          },
          "ternary": {
           "aaxis": {
            "gridcolor": "white",
            "linecolor": "white",
            "ticks": ""
           },
           "baxis": {
            "gridcolor": "white",
            "linecolor": "white",
            "ticks": ""
           },
           "bgcolor": "#E5ECF6",
           "caxis": {
            "gridcolor": "white",
            "linecolor": "white",
            "ticks": ""
           }
          },
          "title": {
           "x": 0.05
          },
          "xaxis": {
           "automargin": true,
           "gridcolor": "white",
           "linecolor": "white",
           "ticks": "",
           "title": {
            "standoff": 15
           },
           "zerolinecolor": "white",
           "zerolinewidth": 2
          },
          "yaxis": {
           "automargin": true,
           "gridcolor": "white",
           "linecolor": "white",
           "ticks": "",
           "title": {
            "standoff": 15
           },
           "zerolinecolor": "white",
           "zerolinewidth": 2
          }
         }
        },
        "title": {
         "font": {
          "color": "#4D5663"
         },
         "text": "Number of Documents in each category"
        },
        "xaxis": {
         "gridcolor": "#E1E5ED",
         "showgrid": true,
         "tickfont": {
          "color": "#4D5663"
         },
         "title": {
          "font": {
           "color": "#4D5663"
          },
          "text": ""
         },
         "zerolinecolor": "#E1E5ED"
        },
        "yaxis": {
         "gridcolor": "#E1E5ED",
         "showgrid": true,
         "tickfont": {
          "color": "#4D5663"
         },
         "title": {
          "font": {
           "color": "#4D5663"
          },
          "text": "Number of Documents"
         },
         "zerolinecolor": "#E1E5ED"
        }
       }
      },
      "text/html": [
       "<div>\n",
       "        \n",
       "        \n",
       "            <div id=\"8e6e05a3-03bb-431e-bd75-214a26284fec\" class=\"plotly-graph-div\" style=\"height:525px; width:100%;\"></div>\n",
       "            <script type=\"text/javascript\">\n",
       "                require([\"plotly\"], function(Plotly) {\n",
       "                    window.PLOTLYENV=window.PLOTLYENV || {};\n",
       "                    window.PLOTLYENV.BASE_URL='https://plot.ly';\n",
       "                    \n",
       "                if (document.getElementById(\"8e6e05a3-03bb-431e-bd75-214a26284fec\")) {\n",
       "                    Plotly.newPlot(\n",
       "                        '8e6e05a3-03bb-431e-bd75-214a26284fec',\n",
       "                        [{\"marker\": {\"color\": \"rgba(255, 153, 51, 0.6)\", \"line\": {\"color\": \"rgba(255, 153, 51, 1.0)\", \"width\": 1}}, \"name\": \"target_names\", \"orientation\": \"v\", \"text\": \"\", \"type\": \"bar\", \"x\": [\"\\u4e70\\u5165\", \"\\u4e2d\\u6027\", \"\\u5356\\u51fa\"], \"y\": [17123, 6634, 12]}],\n",
       "                        {\"legend\": {\"bgcolor\": \"#F5F6F9\", \"font\": {\"color\": \"#4D5663\"}}, \"paper_bgcolor\": \"#F5F6F9\", \"plot_bgcolor\": \"#F5F6F9\", \"template\": {\"data\": {\"bar\": [{\"error_x\": {\"color\": \"#2a3f5f\"}, \"error_y\": {\"color\": \"#2a3f5f\"}, \"marker\": {\"line\": {\"color\": \"#E5ECF6\", \"width\": 0.5}}, \"type\": \"bar\"}], \"barpolar\": [{\"marker\": {\"line\": {\"color\": \"#E5ECF6\", \"width\": 0.5}}, \"type\": \"barpolar\"}], \"carpet\": [{\"aaxis\": {\"endlinecolor\": \"#2a3f5f\", \"gridcolor\": \"white\", \"linecolor\": \"white\", \"minorgridcolor\": \"white\", \"startlinecolor\": \"#2a3f5f\"}, \"baxis\": {\"endlinecolor\": \"#2a3f5f\", \"gridcolor\": \"white\", \"linecolor\": \"white\", \"minorgridcolor\": \"white\", \"startlinecolor\": \"#2a3f5f\"}, \"type\": \"carpet\"}], \"choropleth\": [{\"colorbar\": {\"outlinewidth\": 0, \"ticks\": \"\"}, \"type\": \"choropleth\"}], \"contour\": [{\"colorbar\": {\"outlinewidth\": 0, \"ticks\": \"\"}, \"colorscale\": [[0.0, \"#0d0887\"], [0.1111111111111111, \"#46039f\"], [0.2222222222222222, \"#7201a8\"], [0.3333333333333333, \"#9c179e\"], [0.4444444444444444, \"#bd3786\"], [0.5555555555555556, \"#d8576b\"], [0.6666666666666666, \"#ed7953\"], [0.7777777777777778, \"#fb9f3a\"], [0.8888888888888888, \"#fdca26\"], [1.0, \"#f0f921\"]], \"type\": \"contour\"}], \"contourcarpet\": [{\"colorbar\": {\"outlinewidth\": 0, \"ticks\": \"\"}, \"type\": \"contourcarpet\"}], \"heatmap\": [{\"colorbar\": {\"outlinewidth\": 0, \"ticks\": \"\"}, \"colorscale\": [[0.0, \"#0d0887\"], [0.1111111111111111, \"#46039f\"], [0.2222222222222222, \"#7201a8\"], [0.3333333333333333, \"#9c179e\"], [0.4444444444444444, \"#bd3786\"], [0.5555555555555556, \"#d8576b\"], [0.6666666666666666, \"#ed7953\"], [0.7777777777777778, \"#fb9f3a\"], [0.8888888888888888, \"#fdca26\"], [1.0, \"#f0f921\"]], \"type\": \"heatmap\"}], \"heatmapgl\": [{\"colorbar\": {\"outlinewidth\": 0, \"ticks\": \"\"}, \"colorscale\": [[0.0, \"#0d0887\"], [0.1111111111111111, \"#46039f\"], [0.2222222222222222, \"#7201a8\"], [0.3333333333333333, \"#9c179e\"], [0.4444444444444444, \"#bd3786\"], [0.5555555555555556, \"#d8576b\"], [0.6666666666666666, \"#ed7953\"], [0.7777777777777778, \"#fb9f3a\"], [0.8888888888888888, \"#fdca26\"], [1.0, \"#f0f921\"]], \"type\": \"heatmapgl\"}], \"histogram\": [{\"marker\": {\"colorbar\": {\"outlinewidth\": 0, \"ticks\": \"\"}}, \"type\": \"histogram\"}], \"histogram2d\": [{\"colorbar\": {\"outlinewidth\": 0, \"ticks\": \"\"}, \"colorscale\": [[0.0, \"#0d0887\"], [0.1111111111111111, \"#46039f\"], [0.2222222222222222, \"#7201a8\"], [0.3333333333333333, \"#9c179e\"], [0.4444444444444444, \"#bd3786\"], [0.5555555555555556, \"#d8576b\"], [0.6666666666666666, \"#ed7953\"], [0.7777777777777778, \"#fb9f3a\"], [0.8888888888888888, \"#fdca26\"], [1.0, \"#f0f921\"]], \"type\": \"histogram2d\"}], \"histogram2dcontour\": [{\"colorbar\": {\"outlinewidth\": 0, \"ticks\": \"\"}, \"colorscale\": [[0.0, \"#0d0887\"], [0.1111111111111111, \"#46039f\"], [0.2222222222222222, \"#7201a8\"], [0.3333333333333333, \"#9c179e\"], [0.4444444444444444, \"#bd3786\"], [0.5555555555555556, \"#d8576b\"], [0.6666666666666666, \"#ed7953\"], [0.7777777777777778, \"#fb9f3a\"], [0.8888888888888888, \"#fdca26\"], [1.0, \"#f0f921\"]], \"type\": \"histogram2dcontour\"}], \"mesh3d\": [{\"colorbar\": {\"outlinewidth\": 0, \"ticks\": \"\"}, \"type\": \"mesh3d\"}], \"parcoords\": [{\"line\": {\"colorbar\": {\"outlinewidth\": 0, \"ticks\": \"\"}}, \"type\": \"parcoords\"}], \"pie\": [{\"automargin\": true, \"type\": \"pie\"}], \"scatter\": [{\"marker\": {\"colorbar\": {\"outlinewidth\": 0, \"ticks\": \"\"}}, \"type\": \"scatter\"}], \"scatter3d\": [{\"line\": {\"colorbar\": {\"outlinewidth\": 0, \"ticks\": \"\"}}, \"marker\": {\"colorbar\": {\"outlinewidth\": 0, \"ticks\": \"\"}}, \"type\": \"scatter3d\"}], \"scattercarpet\": [{\"marker\": {\"colorbar\": {\"outlinewidth\": 0, \"ticks\": \"\"}}, \"type\": \"scattercarpet\"}], \"scattergeo\": [{\"marker\": {\"colorbar\": {\"outlinewidth\": 0, \"ticks\": \"\"}}, \"type\": \"scattergeo\"}], \"scattergl\": [{\"marker\": {\"colorbar\": {\"outlinewidth\": 0, \"ticks\": \"\"}}, \"type\": \"scattergl\"}], \"scattermapbox\": [{\"marker\": {\"colorbar\": {\"outlinewidth\": 0, \"ticks\": \"\"}}, \"type\": \"scattermapbox\"}], \"scatterpolar\": [{\"marker\": {\"colorbar\": {\"outlinewidth\": 0, \"ticks\": \"\"}}, \"type\": \"scatterpolar\"}], \"scatterpolargl\": [{\"marker\": {\"colorbar\": {\"outlinewidth\": 0, \"ticks\": \"\"}}, \"type\": \"scatterpolargl\"}], \"scatterternary\": [{\"marker\": {\"colorbar\": {\"outlinewidth\": 0, \"ticks\": \"\"}}, \"type\": \"scatterternary\"}], \"surface\": [{\"colorbar\": {\"outlinewidth\": 0, \"ticks\": \"\"}, \"colorscale\": [[0.0, \"#0d0887\"], [0.1111111111111111, \"#46039f\"], [0.2222222222222222, \"#7201a8\"], [0.3333333333333333, \"#9c179e\"], [0.4444444444444444, \"#bd3786\"], [0.5555555555555556, \"#d8576b\"], [0.6666666666666666, \"#ed7953\"], [0.7777777777777778, \"#fb9f3a\"], [0.8888888888888888, \"#fdca26\"], [1.0, \"#f0f921\"]], \"type\": \"surface\"}], \"table\": [{\"cells\": {\"fill\": {\"color\": \"#EBF0F8\"}, \"line\": {\"color\": \"white\"}}, \"header\": {\"fill\": {\"color\": \"#C8D4E3\"}, \"line\": {\"color\": \"white\"}}, \"type\": \"table\"}]}, \"layout\": {\"annotationdefaults\": {\"arrowcolor\": \"#2a3f5f\", \"arrowhead\": 0, \"arrowwidth\": 1}, \"coloraxis\": {\"colorbar\": {\"outlinewidth\": 0, \"ticks\": \"\"}}, \"colorscale\": {\"diverging\": [[0, \"#8e0152\"], [0.1, \"#c51b7d\"], [0.2, \"#de77ae\"], [0.3, \"#f1b6da\"], [0.4, \"#fde0ef\"], [0.5, \"#f7f7f7\"], [0.6, \"#e6f5d0\"], [0.7, \"#b8e186\"], [0.8, \"#7fbc41\"], [0.9, \"#4d9221\"], [1, \"#276419\"]], \"sequential\": [[0.0, \"#0d0887\"], [0.1111111111111111, \"#46039f\"], [0.2222222222222222, \"#7201a8\"], [0.3333333333333333, \"#9c179e\"], [0.4444444444444444, \"#bd3786\"], [0.5555555555555556, \"#d8576b\"], [0.6666666666666666, \"#ed7953\"], [0.7777777777777778, \"#fb9f3a\"], [0.8888888888888888, \"#fdca26\"], [1.0, \"#f0f921\"]], \"sequentialminus\": [[0.0, \"#0d0887\"], [0.1111111111111111, \"#46039f\"], [0.2222222222222222, \"#7201a8\"], [0.3333333333333333, \"#9c179e\"], [0.4444444444444444, \"#bd3786\"], [0.5555555555555556, \"#d8576b\"], [0.6666666666666666, \"#ed7953\"], [0.7777777777777778, \"#fb9f3a\"], [0.8888888888888888, \"#fdca26\"], [1.0, \"#f0f921\"]]}, \"colorway\": [\"#636efa\", \"#EF553B\", \"#00cc96\", \"#ab63fa\", \"#FFA15A\", \"#19d3f3\", \"#FF6692\", \"#B6E880\", \"#FF97FF\", \"#FECB52\"], \"font\": {\"color\": \"#2a3f5f\"}, \"geo\": {\"bgcolor\": \"white\", \"lakecolor\": \"white\", \"landcolor\": \"#E5ECF6\", \"showlakes\": true, \"showland\": true, \"subunitcolor\": \"white\"}, \"hoverlabel\": {\"align\": \"left\"}, \"hovermode\": \"closest\", \"mapbox\": {\"style\": \"light\"}, \"paper_bgcolor\": \"white\", \"plot_bgcolor\": \"#E5ECF6\", \"polar\": {\"angularaxis\": {\"gridcolor\": \"white\", \"linecolor\": \"white\", \"ticks\": \"\"}, \"bgcolor\": \"#E5ECF6\", \"radialaxis\": {\"gridcolor\": \"white\", \"linecolor\": \"white\", \"ticks\": \"\"}}, \"scene\": {\"xaxis\": {\"backgroundcolor\": \"#E5ECF6\", \"gridcolor\": \"white\", \"gridwidth\": 2, \"linecolor\": \"white\", \"showbackground\": true, \"ticks\": \"\", \"zerolinecolor\": \"white\"}, \"yaxis\": {\"backgroundcolor\": \"#E5ECF6\", \"gridcolor\": \"white\", \"gridwidth\": 2, \"linecolor\": \"white\", \"showbackground\": true, \"ticks\": \"\", \"zerolinecolor\": \"white\"}, \"zaxis\": {\"backgroundcolor\": \"#E5ECF6\", \"gridcolor\": \"white\", \"gridwidth\": 2, \"linecolor\": \"white\", \"showbackground\": true, \"ticks\": \"\", \"zerolinecolor\": \"white\"}}, \"shapedefaults\": {\"line\": {\"color\": \"#2a3f5f\"}}, \"ternary\": {\"aaxis\": {\"gridcolor\": \"white\", \"linecolor\": \"white\", \"ticks\": \"\"}, \"baxis\": {\"gridcolor\": \"white\", \"linecolor\": \"white\", \"ticks\": \"\"}, \"bgcolor\": \"#E5ECF6\", \"caxis\": {\"gridcolor\": \"white\", \"linecolor\": \"white\", \"ticks\": \"\"}}, \"title\": {\"x\": 0.05}, \"xaxis\": {\"automargin\": true, \"gridcolor\": \"white\", \"linecolor\": \"white\", \"ticks\": \"\", \"title\": {\"standoff\": 15}, \"zerolinecolor\": \"white\", \"zerolinewidth\": 2}, \"yaxis\": {\"automargin\": true, \"gridcolor\": \"white\", \"linecolor\": \"white\", \"ticks\": \"\", \"title\": {\"standoff\": 15}, \"zerolinecolor\": \"white\", \"zerolinewidth\": 2}}}, \"title\": {\"font\": {\"color\": \"#4D5663\"}, \"text\": \"Number of Documents in each category\"}, \"xaxis\": {\"gridcolor\": \"#E1E5ED\", \"showgrid\": true, \"tickfont\": {\"color\": \"#4D5663\"}, \"title\": {\"font\": {\"color\": \"#4D5663\"}, \"text\": \"\"}, \"zerolinecolor\": \"#E1E5ED\"}, \"yaxis\": {\"gridcolor\": \"#E1E5ED\", \"showgrid\": true, \"tickfont\": {\"color\": \"#4D5663\"}, \"title\": {\"font\": {\"color\": \"#4D5663\"}, \"text\": \"Number of Documents\"}, \"zerolinecolor\": \"#E1E5ED\"}},\n",
       "                        {\"showLink\": true, \"linkText\": \"Export to plot.ly\", \"plotlyServerURL\": \"https://plot.ly\", \"responsive\": true}\n",
       "                    ).then(function(){\n",
       "                            \n",
       "var gd = document.getElementById('8e6e05a3-03bb-431e-bd75-214a26284fec');\n",
       "var x = new MutationObserver(function (mutations, observer) {{\n",
       "        var display = window.getComputedStyle(gd).display;\n",
       "        if (!display || display === 'none') {{\n",
       "            console.log([gd, 'removed!']);\n",
       "            Plotly.purge(gd);\n",
       "            observer.disconnect();\n",
       "        }}\n",
       "}});\n",
       "\n",
       "// Listen for the removal of the full notebook cells\n",
       "var notebookContainer = gd.closest('#notebook-container');\n",
       "if (notebookContainer) {{\n",
       "    x.observe(notebookContainer, {childList: true});\n",
       "}}\n",
       "\n",
       "// Listen for the clearing of the current output cell\n",
       "var outputEl = gd.closest('.output');\n",
       "if (outputEl) {{\n",
       "    x.observe(outputEl, {childList: true});\n",
       "}}\n",
       "\n",
       "                        })\n",
       "                };\n",
       "                });\n",
       "            </script>\n",
       "        </div>"
      ]
     },
     "metadata": {},
     "output_type": "display_data"
    }
   ],
   "source": [
    "df_raw['target_names'].value_counts().\\\n",
    "sort_values(ascending=False).iplot(kind='bar', \n",
    "                                   yTitle='Number of Documents',\n",
    "                                   title='Number of Documents in each category')"
   ]
  },
  {
   "cell_type": "code",
   "execution_count": 19,
   "metadata": {},
   "outputs": [],
   "source": [
    "df = df_raw"
   ]
  },
  {
   "cell_type": "code",
   "execution_count": 20,
   "metadata": {},
   "outputs": [
    {
     "data": {
      "text/html": [
       "<div>\n",
       "<style scoped>\n",
       "    .dataframe tbody tr th:only-of-type {\n",
       "        vertical-align: middle;\n",
       "    }\n",
       "\n",
       "    .dataframe tbody tr th {\n",
       "        vertical-align: top;\n",
       "    }\n",
       "\n",
       "    .dataframe thead th {\n",
       "        text-align: right;\n",
       "    }\n",
       "</style>\n",
       "<table border=\"1\" class=\"dataframe\">\n",
       "  <thead>\n",
       "    <tr style=\"text-align: right;\">\n",
       "      <th></th>\n",
       "      <th>data</th>\n",
       "      <th>target_names</th>\n",
       "      <th>target</th>\n",
       "    </tr>\n",
       "  </thead>\n",
       "  <tbody>\n",
       "    <tr>\n",
       "      <th>column type</th>\n",
       "      <td>object</td>\n",
       "      <td>object</td>\n",
       "      <td>int64</td>\n",
       "    </tr>\n",
       "    <tr>\n",
       "      <th>null values (nb)</th>\n",
       "      <td>0</td>\n",
       "      <td>0</td>\n",
       "      <td>0</td>\n",
       "    </tr>\n",
       "    <tr>\n",
       "      <th>null values (%)</th>\n",
       "      <td>0</td>\n",
       "      <td>0</td>\n",
       "      <td>0</td>\n",
       "    </tr>\n",
       "  </tbody>\n",
       "</table>\n",
       "</div>"
      ],
      "text/plain": [
       "                    data target_names target\n",
       "column type       object       object  int64\n",
       "null values (nb)       0            0      0\n",
       "null values (%)        0            0      0"
      ]
     },
     "execution_count": 20,
     "metadata": {},
     "output_type": "execute_result"
    }
   ],
   "source": [
    "# audit dataframe (check for nulls)\n",
    "def table_info(data):\n",
    "    tab_info=pd.DataFrame(data.dtypes).T.rename(index={0:'column type'})\n",
    "    tab_info=tab_info.append(pd.DataFrame(data.isnull().sum()).T.rename(index={0:'null values (nb)'}))\n",
    "    tab_info=tab_info.append(pd.DataFrame(data.isnull().sum()/data.shape[0]*100).T.rename(index={0:'null values (%)'}))\n",
    "    return tab_info\n",
    "\n",
    "table_info(df)"
   ]
  },
  {
   "cell_type": "markdown",
   "metadata": {},
   "source": [
    "## Data preprocessing"
   ]
  },
  {
   "cell_type": "code",
   "execution_count": 90,
   "metadata": {},
   "outputs": [
    {
     "name": "stdout",
     "output_type": "stream",
     "text": [
      "证 券 研 公司 究 深度 公研 司究 深 度 佳讯 研飞究 鸿 佳讯 飞鸿 西 西部 部证 证券 券 报 2020 年 08 月 17 日 2020 年 08 月 17 日 告 铁路 指挥 调度 龙头 乘 5G 春风 腾飞 在 即 佳讯 飞鸿 300213 SZ 首次 覆盖 Tabl e _ Title 核心 结论 公司 评级 买入 ● 股票代码 300213 Tab le _ Summ 铁 ary 路 智慧 指挥 调度 领域 龙头 业绩 增长 稳健 公司 深耕 铁路 智慧 指挥 调度 领 前次 评级 域 二十余载 主营 指挥 调度 类 智能 应用 类 行业 物 联网 应用 类及 维护 服务 评级 变动 首次 类 四大 业务 公司 产品 主要 应用 于 交通 国防 政府 及 能源 等 领域 2019 年 当前 价格 8 71 实现 营收 13 39 亿 同比 + 10 1 净利润 1 53 亿 同比 + 17 7 分 业务 看 指挥 调度 类 智能 应用 行业 物 联网 应用 类 分别 占 比 59 6 21 8 13 2 ； 近 一年 股价 走势 分行业 看 交通 国防 及 政府 领域 分别 占 比 62 5 15 5 15 7 佳讯 飞鸿 通信 设备 创业板 指 68 5G 轨交 应用 在 即 市场 空间 弹性 大 2020 年 上半年 全国 铁路 固定资产 投资 55 3258 亿 超 去年同期 38 亿 多 地区 铁路局 确认 或 明确 将 调增 投资 额度 全 42 29 年 有望 超 8200 亿 行业 景气 度高 5G 轨交 应用 在 即 根据 我们 测算 当 16 前 GSM R 市场 规模 约 22 1 ~ 29 5 亿 随着 在 运营 铁路 通信 设备 进入 更换 期 3 10 及 新建 铁路 里程 持续增长 未来 5G R 市场 空间 有望 扩展 成 当前 3 4 ~ 9 5 2019 08 2019 12 2020 04 倍 公司 在 铁路 指挥 调度 市场份额 超 50 将 充分 受益 5G R 应用 分析师 国防 信息化 潜力 广阔 或成 新 利润 增长点 国防 专网 调度 具有 严格 准入 机 制 公司 早 在 1999 年 就 开始 涉及 国防 专网 调度 业务 具有 较强 客户 粘性 在 邢开 允 S0800519070001 该 细分 市场 市占率 达 80 2019 年 军工 业务 实现 营收 2 07 亿 同比 + 77 6 13072123839 xingkaiyun research xbmail com cn 各项 财务指标 优秀 1 盈利 能力 持续 提升 19 年 毛利率 净 利率 分别 为 联系人 38 2 11 3 较 去年 提升 0 9 0 5 ； 2 资产负债率 持续 降低 2015 ~ 19 单慧伟 年间 负债率 降低 了 10 3 ； 3 三项 费用率 可控 19 年 期间 费用率 为 18616338670 25 52 较 去年 降低 1 52 ； 4 现金流 状况 持续 好转 研发 投入 逐年 增加 shanhuiwei research xbmail com cn 投资 建议 我们 预测 未来 三年 EPS 分别 为 0 28 0 32 0 41 元 股 对应 相关 研究 PE31 1x 26 8x 21 2x 公司 作为 铁路 指挥 调度 龙头 具备 长期 成长性 给 予 2020 年 42 倍 PE 对应 目标价 11 76 元 首次 覆盖 给予 “ 买入 ” 评级 风险 提示 宏观经济 下行 ； 新 技术 研发 不及 预期 ； 5G R 推进 进度 不及 预期 等 Tabl e _ Title ● 核心 数据 Tabl e _ Excel1 2018 2019 2020E 2021E 2022E 营业 收入 百万元 1 216 1 339 1 456 1 632 2 018 增长率 3 7 10 1 8 7 12 1 23 6 归母 净利润 百万元 131 152 168 194 245 增长率 12 0 17 7 8 8 16 1 26 6 每股 收益 EPS 0 22 0 26 0 28 0 32 0 41 市盈率 P E 39 9 33 9 31 1 26 8 21 2 市净率 P B 2 7 2 5 2 3 2 2 2 0 数据 来源 公司 财务报表 西部 证券 研发 中心 1 请 务必 仔细阅读 报告 尾部 重要 声明 西部 证券 公司 深度 研究 佳讯 飞鸿 2020 年 08 月 17 日 索引 内容 目录 投资 要点 5 关键 假设 5 区别 于 市场 观点 5 股价 上涨 催化剂 5 估值 与 目标价 5 佳讯 飞鸿 核心 指标 概览 6 一 深耕 指挥 调度 领域 二十余载 业绩 持续 稳健 增长 7 1 1 铁路 智慧 指挥 调度 领域 龙头 业绩 增长 较为 稳健 7 1 2 股权结构 分散 股权 激励 彰显 发展 决心 8 1 3 以史为鉴 观 未来 成长 10 二 5G 轨交 应用 春风 将 至 指挥 调度 龙头 望 受益 11 2 1 铁路 固定 投资 维持 高位 行业 景气 度 有望 延续 11 2 2 5G R 市场 空间 广阔 前瞻性 布局 5G 轨交 应用 13 2 2 1 铁路 通信 系统升级 势在必行 5G R 应用 在 即 13 2 2 2 铁路 通信 信号 设备 市场 广阔 弹性 空间 大 13 2 2 3 前瞻性 布局 5G 轨交 应用 14 2 3 产品线 丰富 技术 优势 显著 市场份额 过半 14 2 3 1 行业 准入 门槛 高 核心 竞争力 强 市场份额 过半 14 2 3 2 产品线 丰富 应用 场景 广泛 16 三 国防 信息化 潜力 广阔 有望 成为 新 利润 增长点 18 3 1 国防 战略 持续 推动 市场潜力 广阔 18 3 2 国防 专网 调度 准入 机制 严格 公司 占据 绝对 份额 19 四 财务 分析 各项 财务指标 较 优秀 20 4 1 盈利 能力 稳步 提升 负债率 持续 降低 20 4 2 期间 费用率 可控 现金流 持续 好转 21 4 3 注重 产品 研发 研发 投入 逐年 增加 22 4 4 营运 能力 较优 应收款 坏账 风险 低 23 五 盈利 预测 与 投资 建议 24 六 风险 提示 27 图表 目录 图 1 佳讯 飞鸿 核心 指标 概览 图 6 图 2 2010 2020Q1 佳讯 飞鸿 营业 收入 亿 及 增速 7 2 请 务必 仔细阅读 报告 尾部 重要 声明 西部 证券 公司 深度 研究 佳讯 飞鸿 2020 年 08 月 17 日 图 3 2010 2020Q1 佳讯 飞鸿 净利润 亿 及 增速 7 图 4 公司 营收 情况 — — 分 季度 亿元 8 图 5 公司 净利润 情况 — — 分 季度 万元 8 图 6 佳讯 飞鸿 营收 构成 — 按 业务 8 图 7 佳讯 飞鸿 营收 构成 — 按 行业 8 图 8 佳讯 飞鸿 股权 结构图 9 图 9 公司 历史 业绩 复盘 10 图 10 公司 历史 股价 及 估值 复盘 11 图 11 全国 铁路 固定资产 投资额 亿 及 同比 增速 12 图 12 中国 铁路 及 高铁 运营 里程 万公里 12 图 13 兰州铁路局 营业 线 安全 管控 信息系统 平台 二期 建设 12 图 14 浩吉 铁路 数字 调度 通信 系统 隧道 应急 通信 系统 项目 12 图 15 未来 5G R 市场 空间 约 是 当前 GSM R 市场 3 4 ~ 9 5 倍 14 图 16 “ 第一届 北京 交通 大学 5G 创新 创意 大赛 ” 开幕 仪式 14 图 17 佳讯 飞鸿 智能 科技 研究院 副 院长 陈姝 参加 圆桌 论坛 14 图 18 MDS6800 智能 融合 调度 通信 系统 架构 16 图 19 MDS6800 智能 融合 调度 通信 系统 功能 16 图 20 MDS6800 智能 融合 调度 通信 系统 优势 特点 17 图 21 基于 物 联网 大数据 智能 防灾 系统 17 图 22 飞鸿 云物联 平台 架构 18 图 23 2006 2019 年 国家 国防 支出 亿 及 同比 增速 18 图 24 2019 年 公司 国防 业务 营收 同比 增长 77 6 19 图 25 2015 2019 年 毛利率 稳步 提升 20 图 26 各项 业务 毛利率 情况 20 图 27 历史 ROE 变化 情况 21 图 28 ROE 构成 因子 21 图 29 资产负债率 在 同行业 可比 公司 中 相对 较 低 21 图 30 期间 费用率 整体 可控 22 图 31 期间 费用率 在 同行业 处于 平均水平 22 图 32 现金流 状况 持续 好转 22 图 33 公司 研发 投入 逐年 增加 23 图 34 公司 存货 周转 效率 较 快 天 23 图 35 公司 应收 账款 周转天 数处 在 同行业 平均水平 天 23 图 36 公司 总资产 周转率 次 在 同行业 可比 公司 相对 较 高 24 图 37 1 年期 坏账 计提 准备 占 应收款 比例 24 图 38 1 年期 坏账 计提 准备 占 净利润 比例 24 图 39 佳讯 飞鸿 PE Band 27 图 40 佳讯 飞鸿 PB Band 27 3 请 务必 仔细阅读 报告 尾部 重要 声明 西部 证券 公司 深度 研究 佳讯 飞鸿 2020 年 08 月 17 日 表 1 公司 主要 产品 及其 应用 场景 7 表 2 激励 计划 授予 股票 期权 在 激励 对象 间 分配情况 9 表 3 激励 计划 授予 限制性 股票 在 激励 对象 间 分配情况 9 表 4 2019 年 公司 承接 部分 交通 领域 重大项目 12 表 5 现有 铁路 通信 信号 设备 市场 空间 估算 13 表 6 专网 与 公网 性能指标 与 运行 要求 对比 15 表 7 主要 创始人 员 简介 15 表 8 2009 年 公司 行业 地位 表 16 表 9 国防 信息化 相关 政策 梳理 19 表 10 佳讯 飞鸿 业务收入 与 毛利率 预测 25 表 11 绝对 估值 法下 公司 每股 股价 为 9 92 元 25 表 12 绝对 估值 敏感性 分析 26 表 13 可比 公司 估值 26 4 请 务必 仔细阅读 报告 尾部 重要 声明 西部 证券 公司 深度 研究 佳讯 飞鸿 2020 年 08 月 17 日 投资 要点 关键 假设 1 指挥 调度 类 业务 随着 5G 技术 不断 落地 应用 预计 5G R 替代 GSM R 在 2021 年 下 半 年 或 2022 年 进入 加速 期 替换 完成 周期 约 5 ~ 15 年 因此 我们 预计 2020 ~ 2021 年 铁路 通信 业务 维持 稳步增长 趋势 在 2022 年 该项 业务 迎来 放量 假设 2020 ~ 2022 年 该项 业务 增长 率 分别 为 4 5 20 毛利率 分别 为 37 37 2 37 4 2 智能 应用 类 业务 随着 5G 技术 不断 应用 拓展 智能 应用 系统 将 受益 5G 应用 进一步 加 速 该项 业务 增速 假设 未来 三年 增长率 分别 为 10 15 20 未来 三年 毛利率 稳定 在 31 3 3 行业 物 联网 应用 类 业务 受益 物 联网 大 趋势 公司 物 联网 业务 近几年 维持 较 快 增长 预计 5G 应用 将 持续 催化 该项 业务 加速 增长 假设 未来 三年 增速 分别 为 25 30 35 基于 过 往该 业务 毛利率 较为 稳定 且 公司 经营策略 并 无 显著 变化 假设 未来 三年 毛利率 稳定 在 40 5 区别 于 市场 观点 1 市场 认为 铁路 通信 系统 市场 空间 对应 当前 GSM R 市场 空间 根据 我们 测算 我们 认为 随着 5G 技术 在 铁路 通信 中 应用 未来 5G R 市场 规模 有望 扩展 为 当前 市场 3 4 ~ 9 5 倍 2 市场 认为 铁路 智慧 调度 业务 是 公司 主要 利润 增长点 而 我们 认为 未来 随着 国防 信息化 推进 军工 业务 有望 成为 公司 除 铁路 智慧 调度 领域 外新 利润 增长点 股价 上涨 催化剂 1 全年 铁路 固定资产 投资额 有望 超 8200 亿元 2020 年 上半年 全国 铁路 固定资产 投资 完成 3258 亿 超 去年同期 38 亿 ； 此外 多 地区 地 铁路局 明确 或 即将 调增 额度 全年 有望 超 8200 亿 2019 年 全国 铁路 运营 里程 13 9 万公里 其中 高铁 运营 里程 3 5 万公里 根据 中长期 铁 路网 规划 到 2025 年 我国 铁路网 规模 将 达到 17 5 万公里 左右 2 5G R 替代 GSM R 在 即 前瞻性 布局 5G 轨交 应用 现阶段 GSM R 系统 已 无法 满足 铁路 高速 发展 需求 5G R 替代 GSM R 在 铁路 行业 中 应用 迫在眉睫 据 我们 测算 当前 GSM R 系统 市场 规模 22 1 ~ 29 5 亿元 未来 5G R 市场 空间 有望 扩展 成 当前 3 3 ~ 9 5 倍 公司 前 瞻性 布局 5G 轨交 应用 完成 了 5G 宽带接入 模块 硬件 开发 将 充分 受益 5G R 应用 3 国防 信息化 市场 空间 广阔 近年来 政府 不断 推出 相关 政策 推进 国防 信息化 发展 国防 专网 调度 具有 严格 准入 机制 公司 1999 年 就 开始 涉及 在 该 细分 领域 市占率 达 80 随着 国防 信息化 不断 推进 落实 该项 业务 有望 成为 公司 新 新 利润 增长点 估值 与 目标价 选取 交控 科技 中国通 号 烽火 通信 深南电 路 移远 通信 移为 通信 作为 佳讯 飞鸿 可比 公司 根据 wind 一致 预测 结果 截至 2020 年 8 月 17 日 可比 公司 2020 2022 年 PE 均值 分别 为 42 0 30 2 23 2 倍 作为 铁路 智慧 指挥 调度 领域 龙头 直接 受益 5G R 应用 ； 且 未来 市场 空 间 有望 成倍增长 行业 景气 度 有望 持续 5 ~ 15 年 公司 具有 长期 成长性 结合 可比 公司 估值 水 平 给予 公司 2020 年 42 倍 PE 对应 目标价 11 76 元 首次 覆盖 给予 “ 买入 ” 评级 5 请 务必 仔细阅读 报告 尾部 重要 声明 西部 证券 公司 深度 研究 佳讯 飞鸿 2020 年 08 月 17 日 佳讯 飞鸿 核心 指标 概览 图 1 佳讯 飞鸿 核心 指标 概览 图 资料 来源 公司公告 西部 证券 研发 中心 6 请 务必 仔细阅读 报告 尾部 重要 声明 西部 证券 公司 深度 研究 佳讯 飞鸿 2020 年 08 月 17 日 一 深耕 指挥 调度 领域 二十余载 业绩 持续 稳健 增长 1 1 铁路 智慧 指挥 调度 领域 龙头 业绩 增长 较为 稳健 佳讯 飞鸿 成立 于 1995 年初 2007 年 改制 为 股份 有限公司 2011 年 登陆 A 股 上市 公司 深耕 智慧 指挥 调度 领域 二十余载 是 国内 领先 “ 智慧 指挥 调度 全 产业链 ” 综合 解决方案 提供商 公司 业务 分为 四类 分别 是 指挥 调度 类 智能 应用 类 行业 物 联网 应用 类及 维护 服务 类 具有 智能 融合 调度 通信 系统 应急 通信 系统 综合 视频 监控 系统 智能 综合 防灾 安全监控 系统 等 九 大 系列产品 广泛应用 于 交通 国防 政府 能源 等 多个 行业 客户 遍及 十多个 国家 地区 表 1 公司 主要 产品 及其 应用 场景 产品 应用 场景 智能 调度 应急 电话 系统 应急 电话 系统 可用 在 “ 智慧 城市 ” 免于 云端 人脸 检测 人脸识别 负荷 ； 可用 在 “ 轨道交通 ” 支持 高密度 人 流下 动态 人流 采集 ； 为 铁路 高速公路 石油化工 电厂 等 行业 紧急 电话 调度 对 讲 等 业务 提供 专业 产品 及 解决方案 MDS6800 智能 融合 调 广泛应用 于 铁路 地铁 民航 政府 国防 石油 石化 电力 海关 等 行业 综合 指挥 调度 业务 度 通信 系统 智能 安防 IMS6000 铁路 智能 综对 高速 铁路沿线 风 雨 雪 异物 侵限 地震 山体 滑坡 泥石流 等 自然灾害 有效 准确 实时 检测 为 调度 指挥 合 防灾 安全监控 系统 维护 管理 提供 报警 预警 信息 有效 防止 或 减少 灾害 对 铁路 列车运行 安全 影响 FH2000 周界 安全 防范 轨道交通 沿线 动车 所 车辆段 等 场所 周界 入侵 隧道 火灾 及 基础设施 健康 状态 监测 ； 民航 领域 机场 停机坪 等 重要 系统 场所 周边 入侵 检测 ； 军队 国防 边境线 营区 哨所 等 区域 入侵 检测 及 既有 通信 光缆 寻径 ； 石油 石化 油气 场站 入侵 检测 输油管线 挖掘 检测 及 温度 检测 传统 调度 MDS3400 调度 指挥系 集 语音 数据业务 应用 为 一体 可 满足 各 行业 指挥 调度 需求 已 成功 在 铁路 地铁 石油 钢铁 煤炭 政府 电 统 力 等 行业 应用 智能 工厂 工业 大数据 平台 DP 平台 通过 对 海量 历史数据 进行 分析 获得 设备 健康 度 故障 产生 原因 及 生产工艺 相关性 分析 结果 帮助 客户 融 合 分析 深度 挖掘 各 业务 环节 产生 数据 潜在 价值 全面 提升 对 数据 资产 管控 使用 效率 智能 运维云 服务平台 具备 智能 预警 智能 诊断 性能 优化 及 能耗 管理 功能 广泛应用 于 石油化工 钢铁 汽车 及 食品 加工 等 行业 资料 来源 公司 官网 西部 证券 研发 中心 业绩 增长 稳健 2019 年 公司 实现 营业 收入 13 39 亿元 同比 + 10 1 净利润 1 53 亿元 同 比 + 17 7 2020 年 一季度 实现 营收 1 54 亿元 同比 30 6 净利润 0 25 亿元 同比 443 4 业绩 大幅 下滑 主要 原因 是 受 新冠 疫情 影响 公司 部分 项目 招投标 及 订单 交付 延期 公司 历年 一季度 业绩 占 比较 低 对 公司 整体 业绩 影响 有限 随着 经营 计划 不断 推进 业绩 将 逐步 体现 图 2 2010 2020Q1 佳讯 飞鸿 营业 收入 亿 及 增速 图 3 2010 2020Q1 佳讯 飞鸿 净利润 亿 及 增速 营收 亿元 yoy 右轴 净利润 亿元 yoy 右轴 16 80 0 1 8 200 0 1 6 14 60 0 100 0 1 4 12 1 2 0 0 40 0 10 1 0 0 8 100 0 8 20 0 0 6 200 0 6 0 0 0 4 4 0 2 300 0 20 0 0 0 2 400 0 0 2 2010 2012 2014 2016 2018 2019Q1 0 40 0 0 4 500 0 2010 2012 2014 2016 2018 2019Q1 资料 来源 wind 西部 证券 研发 中心 资料 来源 wind 西部 证券 研发 中心 7 请 务必 仔细阅读 报告 尾部 重要 声明 西部 证券 公司 深度 研究 佳讯 飞鸿 2020 年 08 月 17 日 图 4 公司 营收 情况 — — 分 季度 亿元 图 5 公司 净利润 情况 — — 分 季度 万元 Q1 Q2 Q3 Q4 Q1 Q2 Q3 Q4 16 18000 14 16000 14000 12 12000 10 10000 8000 8 6000 6 4000 4 2000 0 2 2000 2016 2017 2018 2019 2020 0 4000 2016 2017 2018 2019 2020 资料 来源 wind 西部 证券 研发 中心 资料 来源 wind 西部 证券 研发 中心 产品 主要 应用 于 轨交 指挥 调度 类 业务 占 比约 六成 分 业务 来看 2019 年 指挥 调度 类 业务 占 比 59 6 智能 应用 类 行业 物 联网 应用 类 业务 分别 占 比 21 8 13 2 维护 服务 类 业务 占 比较 低 ； 分行业 来看 2019 年 交通 行业 营收 占 比达 62 5 政府 及 国防 分别 占 15 5 15 7 图 6 佳讯 飞鸿 营收 构成 — 按 业务 图 7 佳讯 飞鸿 营收 构成 — 按 行业 指挥 调度 类 智能 应用 类 行业 物 联网 应用 类 维护 服务 类 交通 国防 政府 其他 100 4 4 100 4 9 5 5 7 5 7 1 6 4 90 10 0 10 8 13 2 90 17 7 15 7 80 80 18 3 21 5 70 21 0 21 8 70 10 9 9 6 15 5 60 60 50 50 40 40 30 63 9 63 3 59 6 30 63 3 65 7 62 5 20 20 10 10 0 0 2017 2018 2019 2017 2018 2019 资料 来源 公司 年报 西部 证券 研发 中心 资料 来源 公司 年报 西部 证券 研发 中心 1 2 股权结构 分散 股权 激励 彰显 发展 决心 股权结构 较为 分散 前 四大 股东 合计 持股 仅 27 9 公司 实际 控制 人 是 林菁 郑贵祥 分别 持 有 股份 9 94 6 19 是 公司 第一 三大 股东 两人 合计 持股 16 13 公司 第二 大 股东 是 北京 中海 丰润 投资 管理中心 有限 合伙 该 公司 股东 背景 是 北京市 海淀区 国有资本 公司 旗下 共有 8 家 子公司 及 1 家 联营企业 其中 持有 7 家 子公司 全部 股权 8 请 务必 仔细阅读 报告 尾部 重要 声明 西部 证券 公司 深度 研究 佳讯 飞鸿 2020 年 08 月 17 日 图 8 佳讯 飞鸿 股权 结构图 资料 来源 wind 截至 2019 年 年报 西部 证券 研发 中心 股权 激励 彰显 公司 长期 发展 决心 公司 于 2019 年 6 月 通过 了 关于 向 激励 对象 授予 股票 期 权 与 限制性 股票 议案 激励 计划 涉及 股票 种类 为 A 股 普通股 激励 对象 为 公司 中高层 管理 人员 及 核心 骨干 员工 分别 向 96 名 激励 对象 授予 500 00 万份 股票 期权 500 0057 万股 限制 性 股票 股票 期权 激励 计划 股票 来源 为 公司 向 激励 对象 定向 发行 A 股 股票 限制性 股票 激 励 计划 股票 来源 为 二级 市场 回购 A 股 普通股 股票 期权 及 限制性 股票 行权 条件 为 以 2018 年 营业 收入 为 基数 2019 年 营收 增长率 不 低于 10 2020 年 营收 增长率 不 低于 20 公司 以此 来 激发 团队 积极性 创造性 激励 员工 企业 长期 共同 发展 表 2 激励 计划 授予 股票 期权 在 激励 对象 间 分配情况 姓名 职务 获授 股票 期权 数量 万份 占 授予 股票 期权 总数 比例 占本 激励 计划 公告日 公司 总 股本 比例 李力 副总经理 15 1524 3 03 0 03 王戈 副总经理 15 1524 3 03 0 03 余勇 副总经理 15 1524 3 03 0 03 张海燕 副总经理 15 1524 3 03 0 03 朱铭 副总经理 15 1524 3 03 0 03 高万成 副总经理 15 1524 3 03 0 03 周 军民 技术 总监 15 1524 3 03 0 03 中层 管理人员 及 核心 骨干 员 393 9332 78 79 0 66 工 89 人 合计 96 人 500 0000 100 00 0 84 资料 来源 公司 年报 西部 证券 研发 中心 表 3 激励 计划 授予 限制性 股票 在 激励 对象 间 分配情况 姓名 职务 获授 限制性 股票 数量 万份 占 授予 限制性 股票 总数 比例 占本 激励 计划 公告日 公司 总 股本 比例 李力 副总经理 15 1532 3 03 0 03 王戈 副总经理 15 1532 3 03 0 03 余勇 副总经理 15 1532 3 03 0 03 张海燕 副总经理 15 1532 3 03 0 03 朱铭 副总经理 15 1532 3 03 0 03 高万成 副总经理 15 1532 3 03 0 03 周 军民 技术 总监 15 1532 3 03 0 03 9 请 务必 仔细阅读 报告 尾部 重要 声明 西部 证券 公司 深度 研究 佳讯 飞鸿 2020 年 08 月 17 日 中层 管理人员 及 核心 骨干 员 393 9333 78 79 0 66 工 89 人 合计 96 人 500 0057 100 00 0 84 资料 来源 公司 年报 西部 证券 研发 中心 1 3 以史为鉴 观 未来 成长 复盘 企业 成长史 ➢ 2006 2011 年 公司 处于 快速 成长期 持续 抢占市场 份额 公司 市场 渗透率 持续 提升 在 铁路 国防 城市 轨道交通 中 市场占有率 居首位 石油 石化 冶金 煤炭 等 行业 位居 前列 成为 国内 最大 专业 指挥 调度 通信 产品 提供商 之一 ➢ 2012 2015 年 公司业绩 增长 迎来 加速 期 公司 2011 年 登陆 A 股 上市 上市 后 带来 充 沛 资金 叠加 国家 4 万亿 基建投资 计划 持续 刺激 下 铁路 通信 设备 行业 持续 高 景气 度 除 2012 年 公司 采取 积极 营销 产品 策略 同时 在 多 行业 多 领域 进行 市场 拓展 工作 导 致 各项 费用 增长 较 快 净利润 首次 为 负外 此后 三年 业绩 均 实现 大幅 增长 ➢ 2016 2019 年 公司业绩 进入 平稳 发展期 业绩 增速 有所 放缓 经历 了 上 一轮 铁路 建设 高 潮后 全国 铁路 新增 里程 有所 放缓 2016 19 年间 平均 每年 新增 普铁及 高铁 里程 合计 为 4500 万公里 而 2011 15 年间 则 为 7000 万公里 新增 里程 下降 较为 明显 图 9 公司 历史 业绩 复盘 营收 增长率 净利润 增长率 ROIC 150 100 50 0 2006 2007 2008 2009 2010 2011 2012 2013 2014 2015 2016 2017 2018 2019 50 100 资料 来源 wind 西部 证券 研发 中心 复盘 历史 股价 及 估值 ➢ 阶段 1 — — 2011 2012 年 公司 2011 年 登陆 A 所 处 宏观经济 增长 不断 下 行期 及 08 年 牛 市 泡沫 破裂 后 大幅 回调 期 且 公司 12 年 首次 亏损 叠加 两 方面 因素 股价 持续 走低 ➢ 阶段 2 — — 2013 2016 年 2013 年 业绩 迎 拐点 期间 业绩 持续 高 增长 行业 方面 铁路 投资额 由 6000 亿元 跨越 到 8000 亿元 水平 期间 铁路 新增 里程 快速增长 宏观经济 方 面 虽 经济 表现 较差 但 在 降息 等 宽松 政策 影响 下 大量 增量 资金 入场 驱动 14 15 年 全面 普涨 在 诸多 利好 因素 下 公司 股价 及 估值 一路 提升 在 2015 年 6 月 来到 历史 高点 ➢ 阶段 3 — — 2016 2019 年 随着 国家 严查 配资及 去 杠杆 等 举措 牛市 泡沫 终结 股指 持续 下调 期间 公司业绩 增速 放缓 主要 因为 经历 上 一轮 铁路 建设 高潮 后 全国 新增 铁路 运营 里程 速度 放缓 公司 股价 及 估值 在 此 阶段 持续 下行 10 请 务必 仔细阅读 报告 尾部 重要 声明 西部 证券 公司 深度 研究 佳讯 飞鸿 2020 年 08 月 17 日 图 10 公司 历史 股价 及 估值 复盘 资料 来源 wind 西部 证券 研发 中心 观 未来 成长 ➢ 5G 轨交 应用 春风 将 至 业绩 将 迎 拐点 当前 GSM R 已 无法 满足 高速铁路 通信 高速 数 据 传输 等 要求 5G R 替代 GSM R 在 即 当前 5G R 正 处于 研究部署 阶段 预计 在 2021 年 下半年 或 2022 年 迎来 加速 替代 期 据 我们 测算 未来 5G R 市场 空间 有望 扩展 成 当前 3 4 ~ 9 5 倍 市场 空间 广阔 公司 在 铁路 智慧 指挥 调度 领域 市占率 超 50 将 全面 受益 行业 红利 我们 预计 2021 年 公司业绩 将 迎 拐点 2022 年 开始 迈入 快速 成长期 二 5G 轨交 应用 春风 将 至 指挥 调度 龙头 望 受益 2 1 铁路 固定 投资 维持 高位 行业 景气 度 有望 延续 铁路 固定资产 投资规模 有望 超 预期 近 6 年 全国 铁路 固定资产 投资规模 均 超 8000 亿 行业 景 气度 高 2020 年 上半年 全国 铁路 固定资产 投资 完成 3258 亿元 超 去年同期 38 亿元 ； 中国 铁 路 上海 广州 局已 确定 调增 额度 北京局 武汉 局 成都 局 等 也 已 确认 即将 调整 预计 全年 有 望超 8200 亿元 此外 2020 年 政府 报告 提出 增加 国家 铁路 建设 资本金 1000 亿元 或 将 带来 2200 亿元 到 5000 亿元 总 投资 增量 铁路 运营 里程 规模 不断扩大 我国 现有 铁路 运营 里程 13 9 万公里 其中 高铁 运营 里程 3 5 万 公里 根据 中长期 铁路网 规划 到 2025 年 我国 铁路网 规模 将 达到 17 5 万公里 左右 ； 近日 国铁 局 出台 新 时代 交通 强国 铁路 先行 规划 纲要 提出 到 2035 年 全国 铁路网 达 20 万公里 其中 高铁 7 万公里 随着 大规模 在 运营 铁路 通信 设备 进入 更换 其及 新建 铁路 规模 持续 扩大 铁路 通信 市场 空间 有望 迎来 持续 释放 11 请 务必 仔细阅读 报告 尾部 重要 声明 西部 证券 公司 深度 研究 佳讯 飞鸿 2020 年 08 月 17 日 图 11 全国 铁路 固定资产 投资额 亿 及 同比 增速 图 12 中国 铁路 及 高铁 运营 里程 万公里 全国 铁路 固定资产 投资 亿元 同比 增速 右轴 全国 铁路 营业 里程 万公里 全国 高铁 营业 里程 万公里 9000 25 0 16 8000 20 0 14 7000 6000 15 0 12 5000 10 10 0 4000 8 3000 5 0 6 2000 4 0 0 1000 2 0 5 0 0 2011 2013 2015 2017 2019 2011 2012 2013 2014 2015 2016 2017 2018 2019 资料 来源 中国铁道部 西部 证券 研发 中心 资料 来源 中国铁道部 西部 证券 研发 中心 2019 年 公司 承接 多项 铁路网 建设项目 2019 年 公司 承接 了 兰州铁路局 营业 线 安全 管控 信息 系统 平台 二期 建设项目 世界 上 一次性 建成 里程 最长 重载 货运 铁路 — — 浩吉 铁路 数字 调度 通 信 系统 隧道 应急 通信 系统 项目 靖神 铁路 融合 调度 通信 项目 中 煤 集团 生产 调度 系统 项目 智慧 包神 项目 等 多个 重大项目 此外 公司 还 首次 突破 海外 高铁 市场 承担 了 印尼 雅万 高铁 项 目 该 项目 是 我国 高铁 全 产业链 走出 国门 第一 单 图 13 兰州铁路局 营业 线 安全 管控 信息系统 平台 二期 建设 图 14 浩吉 铁路 数字 调度 通信 系统 隧道 应急 通信 系统 项目 资料 来源 公司 官网 西部 证券 研发 中心 资料 来源 公司 官网 西部 证券 研发 中心 表 4 2019 年 公司 承接 部分 交通 领域 重大项目 序号 项目名称 项目 简介 1 兰州铁路局 营业 线 安全 管控 通过 进一步 整合 传感器 技术 视频 图像 分析 技术 移动 通信 技术 云计算 大数据 和物 联网 等 技术 向 客户 提供 了 信息系统 平台 二期 建设 更加 先进 及 完善 智能 运维 解决方案 实现 了 铁路 电务 安监 工务 供电 车务 等 专业 业务 领域 覆盖 为 公司 进一步 横向 拓展 铁路 业务 奠定 了 基础 2 靖神 铁路 融合 调度 通信 项目 公司 打破 IT CT 边界 通过 网络 融合 功能 融合 应用 融合 终端 融合 等 多维度 拓展 自身 融合 性 打造 了 新 一 3 中 煤 集团 生产 调度 系统 项目 代 融合 智慧 调度 平台 在靖神 铁路 融合 调度 通信 项目 中 煤 集团 生产 调度 系统 项目 智慧 包神 项目 等 项目 实现 应 4 智慧 包神 项目 用 简化 工作 流程 降低 安全 风险 及 提升 运营 管理效率 为 指挥 调度 发展 提供 了 全新 思维 手段 在 深耕 国有 铁路 同时 为 大型 企业 自有 铁路 地方 铁路 提供 了 具备 特色 解决方案 拓宽 了 铁路 市场 5 浩吉 铁路 数字 调度 通信 系统 公司 为 世界 上 一次性 建成 里程 最长 重载 货运 铁路 — — 浩吉 铁路 提供 了 全线 数字 调度 通信 系统 隧道 应急 通信 隧道 应急 通信 系统 项目 系统 为 国有 铁路 城际 市域 等 越来越 多 交叉 路线 不同 运输 组织 模式 下 统一 调度 通信 做 了 有益 探索 6 印尼 雅万 高铁 项目 雅万 高铁 项目 是 我国 高铁 全 系统 全 要素 全 生产链 走出 国门 第一 单 是 深化 我国 铁路 与 东南亚 相关 国家 铁路 合 作 加快 泛亚 铁路网 建设 重要 一步 资料 来源 公司 年报 西部 证券 研发 中心 12 请 务必 仔细阅读 报告 尾部 重要 声明 西部 证券 公司 深度 研究 佳讯 飞鸿 2020 年 08 月 17 日 2 2 5G R 市场 空间 广阔 前瞻性 布局 5G 轨交 应用 2 2 1 铁路 通信 系统升级 势在必行 5G R 应用 在 即 5G R 应用 在 即 预计 在 2021 年 后 迎 加速 替代 期 当前 我国 铁路 指挥 调度 系统 以 GSM R 为 主 GSM R 为 窄带 语音 通信 当前 已 无法 满足 实时 语音 视频 视频 监控 等 功能 承载 技术 升级 势在必行 5G 技术 大 宽带 低 时延 高密度 特点 大大提高 了 网络连接 效率 可以 与 铁路 多种 场景 融合 解决 机车 动车组 等 大量 车载 数据 下载 等 诸多 问题 目前 5G R 正 处于 探 索 部署 阶段 随着 5G 不断 落地 应用 5G R 有望 逐步 取代 GSM R 系统 我们 预计 在 2021 年 下半年 或 2022 年 迎来 加速 替代 期 2 2 2 铁路 通信 信号 设备 市场 广阔 弹性 空间 大 铁路 通信 设备 市场 空间 广阔 有望 扩展 成 当前 规模 3 4 ~ 9 5 倍 根据 我们 调研 结果 铁路 通信 信号 设备 投资 一般 占 新建 项目 总 投资 3 4 GSM R 含 设计 施工 占 铁路 通信 信号 设备 投资 9 假设 2020 ~ 2022 年 铁路 固定资产 投资额 为 8200 亿元 那么 铁路 通信 信号 设 备 市场 空间 为 248 328 亿元 则 GSM R 系统 市场 空间 为 22 1 29 5 亿元 表 5 现有 铁路 通信 信号 设备 市场 空间 估算 单位 亿元 2019 2020E 2021E 2022E 固定资产 投资额 8029 8200 8200 8200 铁路 通信 信号 设备 占 比 3 ~ 4 3 ~ 4 3 ~ 4 3 ~ 4 GSM R 占 通信 信号 设备 比例 9 9 9 9 铁路 通信 信号 设备 市场 空间 225 3 ~ 296 4 248 ~ 328 248 ~ 328 248 ~ 328 GSM R 市场 空间 20 3 ~ 26 7 22 1 ~ 29 5 22 1 ~ 29 5 22 1 ~ 29 5 资料 来源 调研 结果 西部 证券 研发 中心 市场 空间 弹性 测算 ➢ 方式 一 现有 高铁 及 普铁 运营 里程 为 3 5 10 4 万公里 预计 分别 在 2025 2035 年前 完 成 设备 改造 合计 年 改造 里程 约 13933 公里 过去 8 年 平均 年 新增 高铁 及 普铁约 3500 2200 公里 假设 未来 几年 铁路 新增 里程 为 过去 8 年 均值 则 每年 新增 及 改造 里程 合计 约 19683 公里 按照 过去 8 年 平均 年 新增 运营 里程 情况 则 未来 5G R 设备 市场 空间 约 是 当前 3 4 倍 ； ➢ 方式 二 假设 未来 5 年内 完成 高铁 通信 设备 改造 每年 改造 里程 7000 公里 ； 15 年内 完 成普铁 改造 每年 改造 里程 6933 公里 合计 年 改造 里程 13933 公里 假设 每 公里 建设 一 个 5G R 基站 建设 成本 约 200 万 则 每年 投资规模 约 280 亿元 约 是 当前 市场 空间 9 5 倍 13 请 务必 仔细阅读 报告 尾部 重要 声明 西部 证券 公司 深度 研究 佳讯 飞鸿 2020 年 08 月 17 日 图 15 未来 5G R 市场 空间 约 是 当前 GSM R 市场 3 4 ~ 9 5 倍 对于 当前 市场 空间 倍 10 9 5 9 8 7 6 5 4 3 4 3 2 1 0 方式 一 方式 二 资料 来源 调研 结果 西部 证券 研发 中心 2 2 3 前瞻性 布局 5G 轨交 应用 公司 前瞻性 布局 5G 轨交 应用 十四五 规划 纲要 指出 十四五 必然 是 智能 应用 五年 5G 应用 将 促进 信息 产品 服务 创新 智能 终端设备 性能 进一步 提升 将 全面 应用 于 工业 物联 网 车 联网 铁路 等 垂直 行业 公司 前瞻性 布局 了 5G 轨交 应用 率先 完成 5G 宽带接入 模块 硬件 开发 公司 与 北京 交通 大学 中兴通讯 中国移动 设计院 等 共同 主编 “ 综合 轨道交通 5G 应用 技术 白皮书 ” 发布 “ 白皮书 ” 就 5G 在 轨道交通 应用 需求 适用 于 轨道交通 5G 关 键 技术 综合 轨道交通 5G 应用 等 方面 做出 重要 技术 引导 是 5G 创新 应用领域 权威 技术 指 标 图 16 “ 第一届 北京 交通 大学 5G 创新 创意 大赛 ” 开幕 仪式 图 17 佳讯 飞鸿 智能 科技 研究院 副 院长 陈姝 参加 圆桌 论坛 资料 来源 公司 官网 西部 证券 研发 中心 资料 来源 公司 官网 西部 证券 研发 中心 2 3 产品线 丰富 技术 优势 显著 市场份额 过半 2 3 1 行业 准入 门槛 高 核心 竞争力 强 市场份额 过半 铁路 指挥 调度 行业 壁垒 高 铁路 是 国内 指挥 调度 领域 最大 细分 应用 市场 铁路 指挥 调度 通信 市场 具有 较 高 准入 门槛 指挥 调度 通信 设备 目前 采用 行业 准入 机制 必须 要 经过 中铁 检验 认 证 中心 CRCC 认证 才 可以 使用 从 行业 特点 来看 铁路 调度 通信 具有 点 多线 长 距离远 集中管理 沿线 分布 地势 复杂 等 特点 且 对于 安全性 稳定性 保密性 终端 连接数 等 性能 指标 均 具有 较 高 要求 因此 具有 较 高 行业 壁垒 14 请 务必 仔细阅读 报告 尾部 重要 声明 西部 证券 公司 深度 研究 佳讯 飞鸿 2020 年 08 月 17 日 表 6 专网 与 公网 性能指标 与 运行 要求 对比 性能指标 与 运行 要求 专网 公网 可靠性 可靠性 高 可 在 任何时刻 接入 网络 进行 通信 无法 满足 高可靠性 要求 是 “ 尽力而为 服务 ” 可控性 可管 可控 可 调整 服务质量 可 灵活 管理 预留 资源 不 具备 对 呼叫 排序 控制 抢占 关闭 等 控制 能力 低 延时 保证 端到 端的 低 时延 确保 信息 有效性 需要 几十 毫秒 需求 消费者 对 信号 延时 不 敏感 对 消费 体验 影响 不 大 终端 连接数 需要 海量 终端 连接数 且 需要 支付 大量 传感 数据 采集 400 万 基站 满足 十亿 量级 消费者 即可 安全性 不同 层次 加密 双向 认证 存在 安全隐患 资料 来源 公司公告 西部 证券 研发 中心 深耕 行业 二十余年 构筑 核心 竞争 优势 ➢ 先入 优势 公司 前身 是 1995 年 成立 北京 佳讯 电气 有限责任 公司 2007 年 改制 为 股份 有限公司 承接 了 原 有限公司 整体 资产 全部 业务 公司 在 二十余年 内 始终 专注 于 指挥 调度 领域 凭借 多年 应用 及 升级换代 使得 客户 对 产品 功能 特性 维护 管理 运用 方式 产生 较 高 程度 依赖性 产品 被 替代 可能性 低 从而 对 其他 厂商 进入 形成 壁垒 ➢ 行业 地位 经过 多年 积累 公司 取得 铁路运输 安全设备 生产 企业 认定 证书 电信 设备 进网 许可证 欧盟 CAE 认证 等 主要 市场准入 证书 公司 曾 参与 GSM R 标准 制定 目前 公司 是 5G R 标准 制定 总体 组成员 ； 此外 公司 与 北交大 轨道交通 国家 重点 实验室 建立 了 良好 合作 关系 作为 5G R 标准 制定 组成员 在 5G R 应用 上 具有 先发 优势 ➢ 管理 团队 公司 股东 林菁 郑贵祥 王翊 刘文红 韩江 春 5 人 是 公司 创业 团队 主要 成 员 5 人 在 历次 股东大会 董事会 始终保持 一致 控制权 较为 稳定 此外 当前 公司 核心 管理 团队 及 技术人员 均 具有 十余年 以上 指挥 调度 通信 产品 行业 从业 经验 对 市场 具有 专 业 理解 ； 且 多数 具有 硕士 及 以上学历 整体素质 较 高 能够 保证 公司 在 行业 发展 及 产品 技术升级 迭代 等 方面 紧跟 市场需求 不断 巩固 企业 核心 竞争 优势 ➢ 质量 管理 公司 高度重视 产品 服务质量 对 核心 竞争力 建立 以 客户 价值 为 导向 在 产品 研发 及 生产 环节 严格 按照 质量标准 进行 同时 实施 与 质量 挂钩 绩效考核 机制 公司 是 较 早 按照 国家 军用 质量 管理体系 标准 GJB9001A 2001 要求 建立 质量 管理体系 企业 表 7 主要 创始人 员 简介 姓名 性别 学历 工作 背景 林菁 男 硕士 学历 1990 年 获 北京航空航天大学 自动控制 学位 20031990 1994 年 供职 于 汇佳 国际 数据系统 有限公司 1995 年 设立 本公 年 获 对外经济贸易大学 MBA 硕士学位 司 至今 担任 董事长 兼 总经理 郑贵祥 男 硕士 学历 毕业 厦门大学 EMBA 1991 1995 年 供职 于 汇佳 国际 数据系统 有限公司 1995 年 至今 供职 于本 公司 王翊 女 硕士学位 毕业 于 对外经贸大学 国际贸易 学 1990 1995 年 供职 于 国营 辰星 无线电 器材厂 1995 年 至今 供职 于本 公司 刘文红 女 博士 学历 1989 年 获 北京大学 计算机 科学技术 学士学位 1992 年 至 1994 年 供职 于 城建 集团 1995 年 至今 供职 于本 公司 主 1992 年 获得 北京大学 计算机 科学技术 硕士学位 2003 年 获持 研发 “ FH9000 智能 人工 话务 系统 \" 获 铁道部 科技进步 四等奖 ； 北京大学 经济 研究 中心 美国 福坦莫 大学 合作 EMBA 学曾 任 国家火炬计划 项目 ” FH98 数字 专用 通信 系统 ” 项目 组组长 等 位 2008 年 获 北京 交通 大学 通信 与 信息 专业 博士学位 韩江 春 男 学士 学历 1990 年 毕业 于 北京大学 物理学 专业 1991 年 至 1994 年 供职 于 新加坡 创新 科技 有限公司 1995 年 至今 供 职于 本 公司 资料 来源 招股 说明书 西部 证券 研发 中心 15 请 务必 仔细阅读 报告 尾部 重要 声明 西部 证券 公司 深度 研究 佳讯 飞鸿 2020 年 08 月 17 日 公司 市场份额 过半 目前 国内 铁路 指挥 调度 通信 设备 供应商 主要 包括 佳讯 飞鸿 中国 软件 广 哈 通信 其中 佳讯 飞鸿 市场份额 超过 50 公司 自 成立 以来 就 专注 于 铁路 指挥 调度 领域 具 有 绝对 领先 优势 曾 参与 了 了 铁道部 GSM R 相关 技术标准 制定 并且 率先 实现 产品化 实 现了 GSM R 系统 中 固定 用户 接入 FAS 截止 目前 公司 生产 数字 调度 设备 已 装备 全国 15 个 铁路局 覆盖全国 铁路 5000 多个 车站 是 国内 最大 铁路 指挥 调度 设备 供应商 表 8 2009 年 公司 行业 地位 表 序号 市场 领域 市场份额 排名 1 铁路 48 1 2 国防 50 1 3 城市 轨道交通 50 1 4 石油 石化 10 3 5 煤炭 6 6 资料 来源 招股 说明书 西部 证券 研发 中心 2 3 2 产品线 丰富 应用 场景 广泛 现有 产品线 高度 匹配 国家 铁路 长期 发展 建设 规划 要求 未来 大有可为 2020 年 8 月 国铁 局 发布 新 时代 交通 强国 铁路 先行 规划 纲要 指出 要 加大 智能 检测 安全 保障 技术 应用 提高 运行 状态 感知 设备 故障 自 诊断 等 水平 ； 加大 大数据 人工智能 等 新 技术 应用 ； 加强 沿线 安全 防护 工程建设 构建 空 天地 车 一体化 智能 监控 系统 建设 自然灾害 及 异物 侵限 周界 入侵 智 能 检测 预警系统 实时 关键 检测 预警 信息 实时 上车 交互 并 与 列控 指挥 调度 系统 互联 ； 完善 自 然 灾害 防控 体系 增强 铁路 防灾 减灾 能力 1 指挥 调度 公司 指挥 调度 类产品 主要 有 应急 电话 系统 MDS3400 调度 指挥系统 及 MDS6800 智能 融合 调 度 系统 等 其中 MDS6800 智能 融合 调度 系统 是 基于 3GPP 标准 在 业界 率先 推出 下一代 智 能化 融合 业务 新 产品 将 传统 业务 场景 新 ICT 技术 融合 该 系统 具备 电信 级 网络服务 能力 快速 高效 部署 方式 成熟 完善 安全 机制 多 业务 统一 融合 能力 及 灵活 定制 应用 扩展 能 力 ； 通过 高保真 印制 高清化 视频 全程 可视化 操控 依托 云计算 大数据 人工智能 技术 为 行业 提供 一套 “ 看得见 听得 清 能 指挥 可 协作 ” 基于 客户 业务 场景 定制 全方位 智能 融 合 调度 系统 平台 该 系统 可 广泛应用 于 铁路 地铁 民航 政府 国防 石油 石化 电力 海 关等 行业 综合 指挥 调度 业务 在 多种 应用 场景 中 发挥 功能 图 18 MDS6800 智能 融合 调度 通信 系统 架构 图 19 MDS6800 智能 融合 调度 通信 系统 功能 调度 指挥 系统 视频 接入 系统 会商 功能 数据 现场 协同 视频 资料 来源 公司 官网 西部 证券 研发 中心 资料 来源 公司 官网 西部 证券 研发 中心 16 请 务必 仔细阅读 报告 尾部 重要 声明 西部 证券 公司 深度 研究 佳讯 飞鸿 2020 年 08 月 17 日 图 20 MDS6800 智能 融合 调度 通信 系统 优势 特点 资料 来源 公司 官网 西部 证券 研发 中心 2 智能 防灾 公司 研发 基于 物 联网 大数据 边缘 计算 MS6000 铁路 智能 综合 防灾 安全监控 系统 主 要 收集 部署 在 铁路沿线 传感器 人员 或 列车 携带 传感器 感知 数据 并 对 数据 进行 及时 分析 以 发现 预测 各种 影响 行车 安全 环节 设备 人员 异常 因素 主要 用于 完成 气象 包括 风 雨 雪 异物 侵限 地震 灾害 发生 山体 滑坡 泥石流 等 检测 控制 列车 接口 设备 及 牵引 供电 接口 设备 并 进行 有效 准确 实时 检测 为 调度 指挥 维护 管理 提供 报警 预警 信息 有效 防止 或 减少 灾害 对 铁路 列车运行 安全 影响 图 21 基于 物 联网 大数据 智能 防灾 系统 资料 来源 公司 官网 西部 证券 研发 中心 3 行业 物 联网 17 请 务必 仔细阅读 报告 尾部 重要 声明 西部 证券 公司 深度 研究 佳讯 飞鸿 2020 年 08 月 17 日 公司 自主 研发 “ 飞鸿 物联 平台 ” 是 公司 物 联网 生态 构件 核心 关键环节 以 平台 化 架构 取代 既有 感知 系统 烟囱 式 建设 方式 并 实现 支撑 道岔 缺口 监测 项目 巡检 机器人 项目 安全 防 灾 项目 等 既有 产品升级 及 创新 应用 促进 公司 赢得 物 联网 生态 主动权 公司 信号 设备 PHM 项目 已 完成 原型 系统 开发 并 投入 试验 是 在 铁路 领域 推 动物 联网 云计算 及 大数据 等 先进 技术 综合 应用 首次 尝试 图 22 飞鸿 云物联 平台 架构 资料 来源 公司 官网 西部 证券 研发 中心 三 国防 信息化 潜力 广阔 有望 成为 新 利润 增长点 3 1 国防 战略 持续 推动 市场潜力 广阔 国家 战略 持续 推动 国防 信息化 市场 空间 广阔 自 十八 大 以来 军民 融合 已 上升 到 国家 战略 层 面 2017 年 10 月 十九 大 报告 指出 确保 到 2020 年 基本 实现 机械化 信息化 建设 取得 重要 进展 力争 到 2035 年 基本 实现 我国 国防 军队 现代化 到 本世纪 中叶 把 人民军队 全面 建 设 成 世界 一流 军队 2018 年 12 月 国防 科工 局 装备 发展部 联合 印发 2018 年 新版 武器 装 备 科研 生产 许可 目录 鼓励 民营企业 参与 军品 竞争 推动 民营企业 创新 创造 活力 推动 军民 融合 深度 发展 军民 融合 政策 进入 落地 实施 实质 阶段 2019 年 国防 支出 12117 亿元 同比 + 7 4 图 23 2006 2019 年 国家 国防 支出 亿 及 同比 增速 国防 支出 亿 同比 增速 右轴 14000 25 0 12000 20 0 10000 8000 15 0 6000 10 0 4000 5 0 2000 0 0 0 2006 2007 2008 2009 2010 2011 2012 2013 2014 2015 2016 2017 2018 2019 资料 来源 国家统计局 西部 证券 研发 中心 18 请 务必 仔细阅读 报告 尾部 重要 声明 西部 证券 公司 深度 研究 佳讯 飞鸿 2020 年 08 月 17 日 表 9 国防 信息化 相关 政策 梳理 序号 时间 政策 名称 内容简介 1 2016 5 军队 建设 发展 “ 十三 到 2020 年 军队 要 基本 实现 机械化 信息化 建设 取得 重大进展 构建 能够 打赢 信息化 战争 有效 履行 使 五 规划 纲要 ” 命 任务 中国 特色 现代 军事力量 体系 2 2016 7 国家 信息化 发展 战 加快 信息 强军 构件 现代 军事力量 体系 以 积极 适应 国家 安全形势 新 变化 信息技术 发展 新 趋势 强军 目 略 纲要 标新 要求 坚定不移 把 信息化 作为 军队 现代化 建设 发展 方向 在 新 起点 上 推动 军队 信息化 建设 跨越 发展 3 2017 10 十九 大 报告 确保 到 2020 年 基本 实现 机械化 信息化 建设 取得 重要 进展 力争 到 2035 年 基本 实现 我国 国防 军队 现代 化 到 本世纪 中叶 把 人民军队 全面 建设 成 世界 一流 军队 4 2018 10 关于 加强 军民 融合 强调 “ 推动 科技 协同 创新 加快 推动 军民 融合 深度 发展 ” 指出 “ 营造 公平 环境 推行 竞争性 采购 引导 发展 法制建设 意见 国有 军工企业 有序 开放 提高 民口 民营 楪 祈 参与 竞争 比例 ” 5 2018 12 2018 年 新版 武器 装 鼓励 民营企业 参与 军品 竞争 推动 民营企业 创新 创造 活力 推动 军民 融合 深度 发展 军民 融合 政策 进入 落 备 科研 生产 许可 目录 地 实施 实质 阶段 6 2019 7 新 时代 中国 国防 中国 特色 军事 变革 取得 重大进展 但 机械化 建设 任务 尚未 完成 信息化 水平 亟待 提高 军事 安全 面临 技术 突袭 技术 代差 被 拉大 风险 军队 现代化 水平 与 国家 安全 需求 相比 差距 还 很大 资料 来源 政府 官网 西部 证券 研发 中心 3 2 国防 专网 调度 准入 机制 严格 公司 占据 绝对 份额 国防 专网 调度 市场 具有 严格 准入 机制 公司 占据 绝对 份额 国防 领域 对 申请 进入 国防 通信网 设备 器材 实现 严格 准入 制度 需 获得 国防 通信网 设备 器材 网 许可证 属于 垄断 竞争 市 场 公司 早 在 1999 年 就 开始 涉及 军工 业务 主要 做 专网 调度 系统 多年 来 为 军队 信息化 提 供 定制 研发 与 服务 积累 了 丰富 行业 经验 技术 优势 具有 较强 客户 粘性 公司 在 该 细分 领域 市占率 达 80 主要 竞争 厂商 包括 西安 十 所 上海 新光 等 由于 竞争 厂商 规模较 小 不 足以 对 公司 构成威胁 承担 多项 国防 项目 业务 增长 显著 公司 承担 了 “ 神州 系列 天宫 系列 嫦娥 系列 ” 载人 航空 航天 飞行 及 交会 对接 通信 保障 中国人民解放军 建军 90 周年 阅兵 国庆 70 周年 阅兵 通信 保障 国庆 60 周年 阅兵 通信 保障 中国 人民 抗日战争 暨 反法西斯 胜利 70 周年 阅兵 通信 保障 “ 长城 二号 ” 国家 反恐 智慧 系统 项目 等 公司 系统 解决方案 得到 广泛应用 在 行业 内 具有 明显 竞 争 优势 2019 年 公司 国防 业务 大幅 增长 实现 营业 收入 2 07 亿元 同比 + 77 6 图 24 2019 年 公司 国防 业务 营收 同比 增长 77 6 国防 百万元 yoy 右轴 250 90 0 80 0 200 70 0 60 0 50 0 150 40 0 30 0 100 20 0 10 0 50 0 0 10 0 0 20 0 2015 2016 2017 2018 2019 资料 来源 公司 年报 西部 证券 研发 中心 19 请 务必 仔细阅读 报告 尾部 重要 声明 西部 证券 公司 深度 研究 佳讯 飞鸿 2020 年 08 月 17 日 四 财务 分析 各项 财务指标 较 优秀 4 1 盈利 能力 稳步 提升 负债率 持续 降低 毛利率 及净 利率 持续 稳步 提升 2015 ~ 2019 年间 公司 毛利率 提升 了 9 1 净 利率 提升 了 2 3 其中 2019 年 毛利率 为 38 2 较 去年 提升 了 0 9 ； 净 利率 为 11 3 较 去年 提升 了 0 5 分 业务 看 2019 年 指挥 调度 类 智能 应用 类 行业 物 联网 应用 类 维护 服务 类 毛利率 分别 为 36 8 30 3 41 7 76 9 分别 较 去年同期 0 1 1 4 + 3 3 + 13 5 盈利 能力 持续 稳 步 提升 主要 原因 在于 公司 不断 拓展 完善 公司 业务 布局 多渠道 多层次 推进 产业结构 优化 图 25 2015 2019 年 毛利率 稳步 提升 图 26 各项 业务 毛利率 情况 佳讯 飞鸿 中国通 号 交控 科技 指挥 调度 类 智能 应用 类 辉煌 科技 世纪 瑞尔 行业 物 联网 应用 类 维护 服务 类 60 0 90 0 80 0 50 0 70 0 40 0 60 0 30 0 50 0 40 0 20 0 30 0 10 0 20 0 10 0 0 0 2015 2016 2017 2018 2019 0 0 2017 2018 2019 资料 来源 wind 西部 证券 研发 中心 资料 来源 wind 西部 证券 研发 中心 杜邦 分析法 剖析 历史 ROE 变化 ➢ 2005 2010 年 ROE 处于 高位 水平 维持 在 25 以上 主要 原因 是 期间 总资产 规模较 小 营收 增长 较 快 资产 周转率 较 高 ； 期间 成本 相对 较 低 销售 净 利率 较 高 ； 期间 资产负债率 较 高 导致 公司 归母 权益 低 权益 乘数 较大 ➢ 2011 2013 年 ROE 有 明显 下滑 主要 原因 是 上市 后 带来 总资产 规模 成倍增长 导致 公司 资产 周转率 大幅 下滑 ； 上市 后 公司 采取 积极 营销 及 产品 策略 导致 费用率 大幅 上升 销售 净 利率 明显 下滑 ； 期间 负债率 大幅 下降 权益 乘数 下降 明显 ➢ 2014 年 至今 公司 ROE 稳步 提升 维持 在 10 左右 水平 主要 原因 在于 期间 费用率 较为 稳定 净 利率 维持 在 10 以上 且 稳步 提升 ； 营收及 总资产 规模 稳步增长 资产 周 转率 较为 稳定 ； 负债率 水平 持续 降低 权益 乘数 较 小 20 请 务必 仔细阅读 报告 尾部 重要 声明 西部 证券 公司 深度 研究 佳讯 飞鸿 2020 年 08 月 17 日 图 27 历史 ROE 变化 情况 图 28 ROE 构成 因子 ROE RO 加 E 权加 权 销售 净 利率 资产 周转率 右轴 35 20 权益 乘数 右轴 3 5 30 3 0 15 25 2 5 20 2 0 10 15 1 5 10 1 05 5 0 5 0 0 0 0 2005 2007 2009 2011 2013 2015 2017 2019 2005 2007 2009 2011 2013 2015 2017 2019 资料 来源 wind 西部 证券 研发 中心 资料 来源 wind 西部 证券 研发 中心 资产负债率 持续 降低 2015 ~ 2019 年间 公司 资产负债率 降低 了 10 3 主要 原因 是 公司 总 资产 在 2015 19 年间 大幅 增加 CAGR 为 13 9 而 同期 负债 增长 较慢 CAGR 仅为 8 5 图 29 资产负债率 在 同行业 可比 公司 中 相对 较 低 佳讯 飞鸿 中国通 号 交控 科技 辉煌 科技 世纪 瑞尔 90 0 80 0 70 0 60 0 50 0 40 0 30 0 20 0 10 0 0 0 2015 2016 2017 2018 2019 资料 来源 wind 西部 证券 研发 中心 4 2 期间 费用率 可控 现金流 持续 好转 销售 及 财务 费用率 有所 下降 管理 费用率 较 稳定 2019 年 公司 三项 费用率 合计 25 52 较 去年 降低 了 1 52 其中 销售 费用率 8 72 下降 了 0 58 ； 财务 费用率 1 49 下降 了 0 8 ； 管理 费用率 15 31 下降 了 0 14 21 请 务必 仔细阅读 报告 尾部 重要 声明 西部 证券 公司 深度 研究 佳讯 飞鸿 2020 年 08 月 17 日 图 30 期间 费用率 整体 可控 图 31 期间 费用率 在 同行业 处于 平均水平 销售 费用率 管理 费用率 财务 费用率 佳讯 飞鸿 中国通 号 交控 科技 辉煌 科技 世纪 瑞尔 30 0 40 0 25 0 35 0 30 0 20 0 25 0 15 0 20 0 15 0 10 0 10 0 5 0 5 0 0 0 0 0 2015 2016 2017 2018 2019 2015 2016 2017 2018 2019 资料 来源 wind 西部 证券 研发 中心 资料 来源 wind 西部 证券 研发 中心 现金流 状况 持续 好转 2019 年 公司 经营性 现金流 净额 1 81 亿元 每股 现金流 0 30 元 而 去年同期 仅为 557 万元 现金流 状况 大幅 改善 现金流 大幅 改善 主要 原因 在于 股权 激励 收 到 员工 付款 全年 吸收 投资 现金 1615 02 万元 同比 + 329 5 且 公司 2019 年 投资 支付现金 购建 固定资产 无形资产 及其 他 长期 资产 支付现金 大幅 减少 图 32 现金流 状况 持续 好转 经营性 现金流 净额 百万元 每股 现金流 元 股 右轴 200 0 40 0 35 150 0 30 0 25 100 0 20 0 15 50 0 10 0 05 0 0 00 2015 2016 2017 2018 2019 0 05 50 0 10 资料 来源 wind 西部 证券 研发 中心 4 3 注重 产品 研发 研发 投入 逐年 增加 公司 注重 新 技术 及 产品 研发 研发 费用 逐年 增加 2019 年 公司 研发 投入 1 23 亿元 同比 + 12 8 占 营业 收入 9 2 公司 在 2017 年 成立 了 佳讯 飞鸿 智能 研究院 有限公司 携手 内 部 研发 团队 及 外部 科研机构 共同 打造 了 “ 三位一体 ” 研发 平台 截止 2019 年 公司 拥有 6 项 代表 国际 先进 水平 专有 技术 已 注册 被 受理 专利 272 项 其中 发明专利 197 项 拥有 软件 著作权 255 项 22 请 务必 仔细阅读 报告 尾部 重要 声明 西部 证券 公司 深度 研究 佳讯 飞鸿 2020 年 08 月 17 日 图 33 公司 研发 投入 逐年 增加 研发 支出 亿元 yoy 右轴 研发 费用率 右轴 1 4 30 0 1 2 25 0 1 20 0 0 8 15 0 0 6 10 0 0 4 0 2 5 0 0 0 0 2015 2016 2017 2018 2019 资料 来源 wind 西部 证券 研发 中心 4 4 营运 能力 较优 应收款 坏账 风险 低 存货 周转率 较 快 应收 账款 周转 天数 处于 行业 平均水平 总资产 周转率 略 高 2019 年 公司 存 货 周转 天数 80 5 天 较 去年 降低 了 3 4 天 ； 应收 账款 周转 天数 214 5 天 较 去年 降低 了 28 4 天 ； 总资产 周转率 为 0 43 次 较 去年 提升 了 0 03 综合 各项 指标 来看 公司 营运 能力 较优 图 34 公司 存货 周转 效率 较 快 天 图 35 公司 应收 账款 周转天 数处 在 同行业 平均水平 天 佳讯 飞鸿 世纪 瑞尔 辉煌 科技 佳讯 飞鸿 世纪 瑞尔 辉煌 科技 思维 列控 中国通 号 交控 科技 思维 列控 中国通 号 交控 科技 500 450 450 400 400 350 350 300 300 250 250 200 200 150 150 100 100 50 50 0 0 2015 2016 2017 2018 2019 2015 2016 2017 2018 2019 资料 来源 wind 西部 证券 研发 中心 资料 来源 wind 西部 证券 研发 中心 23 请 务必 仔细阅读 报告 尾部 重要 声明 西部 证券 公司 深度 研究 佳讯 飞鸿 2020 年 08 月 17 日 图 36 公司 总资产 周转率 次 在 同行业 可比 公司 相对 较 高 佳讯 飞鸿 世纪 瑞尔 辉煌 科技 思维 列控 中国通 号 交控 科技 0 80 0 70 0 60 0 50 0 40 0 30 0 20 0 10 0 00 2015 2016 2017 2018 2019 资料 来源 wind 西部 证券 研发 中心 坏账 计提 准备 金额 占 比较 高 但 应收款 基本 无 坏账 风险 与 同行业 可比 公司 相比 公司 近几年 坏账 计提 准备 金额 占 净利润 比例 较 高 2019 年 有所 降低 坏账 计提 比例 较 高 主要 原因 是 公司 客户 主要 为 各 地区 铁路局 部队 等 其 内部 财务 审批 流程 较慢 但 客户资源 优质 坏账 风 险低 ； 此外 公司 实行 较为 谨慎 会计 政策 从 历年 年报 数据 看 公司 基本 无 应收款 坏账 损失 图 37 1 年期 坏账 计提 准备 占 应收款 比例 图 38 1 年期 坏账 计提 准备 占 净利润 比例 佳讯 飞鸿 世纪 瑞尔 辉煌 科技 佳讯 飞鸿 世纪 瑞尔 辉煌 科技 思维 列控 中国通 号 交控 科技 思维 列控 中国通 号 交控 科技 70 0 12 0 60 0 10 0 50 0 8 0 40 0 30 0 6 0 20 0 4 0 10 0 2 0 0 0 0 0 10 0 2015 2016 2017 2018 2019 2015 2016 2017 2018 2019 20 0 资料 来源 wind 西部 证券 研发 中心 资料 来源 wind 西部 证券 研发 中心 五 盈利 预测 与 投资 建议 关键 假设 1 指挥 调度 类 业务 随着 5G 技术 不断 落地 应用 预计 5G R 替代 GSM R 在 2021 年 下 半 年 或 2022 年 进入 加速 期 替换 完成 周期 约 5 ~ 15 年 因此 我们 预计 2020 ~ 2021 年 铁路 通信 业务 维持 稳步增长 趋势 在 2022 年 该项 业务 迎来 放量 假设 2020 ~ 2022 年 该项 业务 增长 率 分别 为 4 5 20 基于 过往 该 业务 毛利率 较为 稳定 且 公司 经营策略 并 无 显著 变化 假设 未来 三年 毛利率 分别 为 37 37 2 37 4 2 智能 应用 类 业务 随着 5G 技术 不断 应用 拓展 智能 应用 系统 将 受益 5G 应用 进一步 加 速 该项 业务 增速 假设 未来 三年 增长率 分别 为 10 15 20 基于 过往 该 业务 毛利率 较 为 稳定 且 公司 经营策略 并 无 显著 变化 假设 未来 三年 毛利率 稳定 在 31 3 3 行业 物 联网 应用 类 业务 受益 物 联网 大 趋势 公司 行业 物 联网 业务 近几年 维持 较 快 增长 24 请 务必 仔细阅读 报告 尾部 重要 声明 西部 证券 公司 深度 研究 佳讯 飞鸿 2020 年 08 月 17 日 预计 5G 应用 将 持续 催化 该项 业务 加速 增长 假设 未来 三年 增速 分别 为 25 30 35 基 于 过往 该 业务 毛利率 较为 稳定 且 公司 经营策略 并 无 显著 变化 假设 未来 三年 毛利率 稳定 在 40 5 除此之外 其他 业务 对 净利润 影响 较 小 具体 预测 见 盈利 预测 表 表 10 佳讯 飞鸿 业务收入 与 毛利率 预测 单位 百万元 2019 2020E 2021E 2022E 总营收 1 339 49 1 455 63 1 632 39 2 017 60 增长率 10 11 8 67 12 14 23 60 指挥 调度 类 798 50 830 44 871 96 1 046 35 增长率 3 76 4 00 5 00 20 00 毛利率 36 80 37 00 37 20 37 40 智能 应用 类 291 61 320 77 368 89 442 66 增长率 14 15 10 00 15 00 20 00 毛利率 30 25 31 30 31 30 31 30 行业 物 联网 应用 类 176 32 220 40 286 52 386 80 增长率 33 75 25 00 30 00 35 00 毛利率 41 73 40 50 40 50 40 50 维护 服务 类 73 06 84 02 105 02 141 78 增长率 22 67 15 00 25 00 35 00 毛利率 76 94 76 00 76 50 77 00 资料 来源 wind 西部 证券 研发 中心 盈利 预测 结果 基于 以上 假设 我们 预测 公司 未来 三年 营收 分别 为 14 56 16 32 20 18 亿元 净利润 分别 为 1 67 1 93 2 45 亿元 EPS 分别 为 0 28 0 32 0 41 元 股 对应 PE31 1x 26 8x 21 2x 绝对 估值 结果 假设 WACC 为 5 15 三年 过渡期 增速 为 10 00 永续 增长率 为 2 70 则 得到 2020 年公 司 股权 价值 5907 01 亿元 每股 股价 为 9 92 元 表 11 绝对 估值 法下 公司 每股 股价 为 9 92 元 估值 假设 数值 结果 数值 过渡期 年数 3 债务 资本 成本 Kd 4 48 过渡期 增长率 10 00 债务 资本 比重 Wd 19 51 永续 增长率 g 2 70 股权 资本 成本 Ke 6 40 贝塔 值 β 0 85 WACC 5 15 无风险 利率 Rf 2 99 股权 价值 亿元 5907 01 市场 预期 收益率 Rm 7 00 每股 价值 元 9 92 有效 税率 Tx 11 87 应付 债券 利率 6 00 资料 来源 西部 证券 研发 中心 25 请 务必 仔细阅读 报告 尾部 重要 声明 西部 证券 公司 深度 研究 佳讯 飞鸿 2020 年 08 月 17 日 表 12 绝对 估值 敏感性 分析 永续 增长率 g 2 03 2 23 2 45 2 70 2 97 3 27 3 59 3 95 4 35 WACC 3 20 18 96 22 52 28 69 41 85 89 08 3 52 15 27 17 36 20 59 26 18 38 11 80 91 3 87 12 69 14 02 15 92 18 84 23 90 34 71 73 49 4 26 10 79 11 68 12 88 14 60 17 25 21 83 31 63 66 75 4 68 9 35 9 96 10 76 11 84 13 40 15 80 19 95 28 82 60 62 5 15 8 21 8 64 9 20 9 92 10 90 12 31 14 49 18 24 26 27 5 67 7 30 7 61 8 00 8 50 9 16 10 05 11 32 13 29 16 69 6 23 6 55 6 78 7 07 7 42 7 87 8 47 9 27 10 42 12 20 6 86 5 93 6 10 6 31 6 57 6 89 7 30 7 84 8 56 9 61 7 54 5 41 5 54 5 70 5 89 6 12 6 41 6 78 7 26 7 92 8 29 4 97 5 07 5 19 5 33 5 50 5 71 5 97 6 31 6 74 资料 来源 西部 证券 研发 中心 相对 估值 结果 我们 选取 A 股 上市公司 交控 科技 中国通 号 烽火 通信 深南电 路 移远 通信 移为 通信 作为 佳讯 飞鸿 可比 公司 根据 wind 一致 预测 结果 截至 2020 年 8 月 17 日 可比 公司 2020 2022 年 PE 均值 分别 为 42 0 30 2 23 2 倍 作为 铁路 智慧 指挥 调度 领域 龙头 直接 受益 5G R 应 用 ； 且 未来 市场 空间 有望 成倍增长 行业 景气 度 有望 持续 5 ~ 15 年 公司 具有 长期 成长性 结 合 可比 公司 估值 水平 给予 公司 2020 年 42 倍 PE 对应 目标价 11 76 元 首次 覆盖 给予 “ 买 入 ” 评级 表 13 可比 公司 估值 EPS 元 股 PE 公司 最新 股价 元 2019 2020E 2021E 2022E 2019 2020E 2021E 2022E 交控 科技 688015 SH 49 20 0 8 1 22 1 66 2 16 41 61 40 39 29 68 22 79 中国通 号 688009 SH 6 29 0 36 0 41 0 47 0 54 19 20 15 50 13 52 11 65 烽火 通信 600498 SH 28 35 0 84 0 91 1 13 1 33 32 84 31 28 24 99 21 27 深南电 路 002916 SZ 148 02 3 63 3 55 4 58 5 64 39 12 41 75 32 33 26 26 移远 通信 603236 SH 212 54 1 66 2 43 3 90 5 73 87 91 87 43 54 54 37 12 移为 通信 300590 SZ 29 53 1 00 0 83 1 12 1 46 36 01 35 66 26 39 20 20 均值 42 78 42 00 30 24 23 22 佳讯 飞鸿 300213 SZ 8 71 0 26 0 28 0 32 0 41 33 9 31 1 26 8 21 2 资料 来源 wind 一致 预测 西部 证券 研发 中心 最新 股价 日期 为 2020 年 8 月 17 日 26 请 务必 仔细阅读 报告 尾部 重要 声明 西部 证券 公司 深度 研究 佳讯 飞鸿 2020 年 08 月 17 日 图 39 佳讯 飞鸿 PE Band 图 40 佳讯 飞鸿 PB Band 资料 来源 wind 西部 证券 研发 中心 资料 来源 wind 西部 证券 研发 中心 六 风险 提示 1 宏观经济 下行 导致 行业 增速 不及 预期 公司 主要 从事 智慧 指挥 调度 业务 所 处 交通 国 防 政府 等 行业 与 国家 投资 关联性 较大 且 与 国家 产业政策 与 宏观政策 联系 紧密 若 未来 国家 宏观经济 政策 出现 重大 调整 或 国家 基础 建设 投资规模 减少 行业 可能 会受 影响 2 新 技术 研发 及 新 产品 推进 不及 预期 信息技术 产业 具有 较 高 技术壁垒 产品 更新 迭代 快 若 公司 不能 正确 把握 所在 行业 技术 产品 及 市场 发展趋势 及时 调整 研发 策略 将 可能 影响 公司 市场 竞争力 3 5G R 推进 进度 不及 预期 如果 未来 5G 在 铁路 领域 实际 落地 应用 速度 低于 预期 可能 导 致 公司 5G 业务 增长 不及 预期 4 业务 整合 规模 扩大 风险 随着 规模 逐步 扩大 公司 已 发展 成为 拥有 多家 子公司 产业 集 团 构架 体系 如何 协同 统一 加强 管控 实现 协同效应 提高 整体 运营 管理 效能 是 今后 公司 发展 面临 风险 5 实质 控制 人 变更 风险 由于 历史 原因 公司 股权结构 较为 分散 存在 控制权 发生变化 风险 27 请 务必 仔细阅读 报告 尾部 重要 声明 西部 证券 公司 深度 研究 佳讯 飞鸿 2020 年 08 月 17 日 财务报表 预测 估值 数据 汇总 资产 负债表 百万元 2018 2019 2020E 2021E 2022E 利润表 百万元 2018 2019 2020E 2021E 2022E 现金 及 现金 等价物 755 860 918 986 972 营业 收入 1 216 1 339 1 456 1 632 2 018 应收款 项 1 075 1 029 1 145 1 274 1 517 营业 成本 763 828 897 999 1 225 存货 净额 200 170 202 231 270 营业税 金及 附加 7 8 9 10 12 其他 流动资产 16 45 23 28 32 销售费用 113 117 130 146 180 流动资产 合计 2 046 2 105 2 288 2 519 2 791 管理费用 188 205 219 248 306 固定资产 及 在建 工程 180 191 195 208 247 财务费用 28 20 26 27 25 长期 股权 投资 2 13 5 7 8 其他费用 收入 18 7 8 9 2 无形资产 176 188 191 203 205 营业 利润 136 168 182 211 271 其他 非 流动资产 658 662 672 664 666 营业 外净 收支 8 6 9 8 8 非 流动资产 合计 1 016 1 053 1 065 1 082 1 127 利润总额 144 175 191 219 279 资产 总计 3 062 3 158 3 353 3 601 3 918 所得税 费用 13 23 23 25 34 短期 借款 453 541 446 480 489 净利润 131 152 168 194 245 应付 款项 498 404 523 552 647 少数 股东 损益 1 1 2 1 0 其他 流动 负债 42 45 37 42 41 归属于 母公司 净利润 130 153 167 193 245 流动 负债 合计 993 990 1 006 1 074 1 177 长期借款 及 应付 债券 80 45 59 79 78 财务指标 2018 2019 2020E 2021E 2022E 其他 长期负债 44 33 44 40 39 盈利 能力 长期负债 合计 123 78 102 119 117 ROE 6 7 7 6 7 7 8 3 9 7 负债 合计 1 116 1 068 1 109 1 192 1 294 毛利率 37 3 38 2 38 4 38 8 39 3 股本 595 595 595 595 595 营业 利润率 11 1 12 6 12 5 12 9 13 5 股东权益 1 946 2 090 2 244 2 409 2 624 销售 净 利率 10 8 11 3 11 6 11 9 12 2 负债 股东权益 总计 3 062 3 158 3 353 3 601 3 918 成长 能力 营业 收入 增长率 3 7 10 1 8 7 12 1 23 6 现金流量 表 百万元 2018 2019 2020E 2021E 2022E 营业 利润 增长率 0 9 24 2 8 0 16 0 28 7 净利润 131 152 168 194 245 归母 净利润 增长率 12 0 17 7 8 8 16 1 26 6 折旧 摊销 28 33 31 33 35 偿债 能力 营运 资金 变动 28 20 26 27 25 资产负债率 36 4 33 8 33 1 33 1 33 0 其他 182 25 8 137 200 流动 比 2 06 2 27 2 27 2 35 2 37 经营 活动 现金流 6 180 234 117 106 速动 比 1 86 1 95 2 07 2 13 2 14 资本 支出 82 42 43 54 77 其他 124 48 14 6 4 每股 指标 与 估值 2018 2019 2020E 2021E 2022E 投资 活动 现金流 206 90 29 48 81 每股 指标 债务 融资 147 79 133 28 9 EPS 0 22 0 26 0 28 0 32 0 41 权益 融资 116 23 14 30 30 BVPS 3 26 3 51 3 77 4 04 4 40 其它 106 49 0 0 0 估值 筹资 活动 现金流 137 7 147 2 39 P E 39 9 33 9 31 1 26 8 21 2 汇率变动 P B 2 7 2 5 2 3 2 2 2 0 现金 净 增加额 64 97 58 68 14 P S 4 3 3 9 3 6 3 2 2 6 数据 来源 公司 财务报表 西部 证券 研发 中心 28 请 务必 仔细阅读 报告 尾部 重要 声明 西部 证券 公司 深度 研究 佳讯 飞鸿 2020 年 08 月 17 日 西部 证券 — 公司 投资 评级 说明 买入 公司 未来 6 12 个 月 投资 收益率 领先 市场 基准 指数 20 以上 增持 公司 未来 6 12 个 月 投资 收益率 领先 市场 基准 指数 5 到 20 之间 中性 公司 未来 6 12 个 月 投资 收益率 与 市场 基准 指数 变动 幅度 相差 5 到 5 卖出 公司 未来 6 12 个 月 投资 收益率 落后 市场 基准 指数 大于 5 联系 我们 联系地址 上海市浦东新区 浦东南路 500 号 国家开发银行 大厦 21 层 北京市 西城区 月坛 南街 59 号 新华 大厦 303 深圳市 福田区 深南 大道 6008 号 深圳特区 报业 大厦 10C 联系电话 021 38584209 免责声明 本 报告 由 西部 证券 股份 有限公司 已 具备 中国证监会 批复 证券 投资 咨询 业务 资格 制作 本 报告 仅供 西部 证券 股份 有限公司 以下 简称 “ 本 公司 ” 机构 客户 使用 本 报告 在 未经 本 公司 公开 披露 或者 同意 披露 前 系本 公司 机密 材料 如非 收件人 或 收到 电子邮件 含 错误信息 请 立即 通知 发件人 及时 删除 该 邮件 及 所 附 报告 并 予以 保密 发送 本 报告 电子邮件 可能 含有 保密 信息 版权 专有 信息 或 私人 信息 未经 授权 者 请勿 针对 邮件 内容 进行 任何 更改 或 以 任何 方式 传播 复制 转发 或 以 其他 任何 形式 使用 发件人 保留 与 该 邮件 相关 一切权利 同时 本 公司 无法 保证 互联网 传送 本 报告 及时 安 全 无 遗漏 无 错误 或 无 病毒 敬请 谅解 本 报告 基于 已 公开 信息 编制 但本 公司 对 该 等 信息 真实性 准确性 及 完整性 不 作 任何 保证 本 报告 所 载 意见 评估 及 预测 仅 为 本 报告 出具 日 观 点 判断 该 等 意见 评估 及 预测 在 出具 日外 无需 通知 即可 随时 更改 在 不同 时期 本 公司 可能 会 发出 与 本 报告 所 载 意见 评估 及 预测 不 一致 研究 报 告 同时 本 报告 所指 证券 或 投资 标的 价格 价值 及 投资 收入 可能 会 波动 本 公司 不 保证 本 报告 所 含 信息 保持 在 最新 状态 对于 本 公司 其他 专业 人 士 包括 但 不 限于 销售 人员 交易 人员 根据 不同 假设 研究 方法 即时 动态 信息 及 市场 表现 发表 与 本 报告 不 一致 分析 评论 或 交易 观点 本 公司 没有 义务 向本 报告 所有 接收者 进行 更新 本 公司 对本 报告 所 含 信息 可 在 不 发出通知 情形 下 做出 修改 投资者 应当 自行 关注 相应 更新 或 修改 本 公司 力求 报告 内容 客观 公正 但本 报告 所 载 观点 结论 建议 仅供 投资者 参考 之用 并非 作为 购买 或 出售 证券 或 其他 投资 标的 邀请 或 保证 客 户不应 以本 报告 取代 其 独立 判断 或 根据 本 报告 做出 决策 该 等 观点 建议 并未 考虑 到 获取 本 报告 人员 具体 投资 目的 财务状况 以及 特定 需求 在 任何 时候 均 不 构成 对 客户 私人 投资 建议 投资者 应当 充分考虑 自身 特定 状况 并 完整 理解 使用 本 报告 内容 不 应 视本 报告 为 做出 投资决策 唯一 因素 必 要 时应 就 法律 商业 财务 税收 等 方面 咨询 专业 财务顾问 意见 本 公司 以往 相关 研究 报告 预测 与 分析 准确 不 预示 与 担保 本 报告 及本 公司 今后 相 关 研究 报告 表现 对 依据 或者 使用 本 报告 及本 公司 其他 相关 研究 报告 所 造成 一切 后果 本 公司 及 作者 不 承担 任何 法律责任 在 法律 许可 情况 下 本 公司 可能 与 本 报告 中 提及 公司 正在 建立 或 争取 建立 业务 关系 或 服务 关系 因此 投资者 应当 考虑 到 本 公司 及 或 其 相关 人员 可能 存在 影响 本 报告 观点 客观性 潜在 利益冲突 对于 本 报告 可能 附带 其它 网站 地址 或 超级链接 本 公司 不 对 其 内容 负责 链接 内容 不 构成 本 报告 任何 部分 仅为 方便 客户 查阅 所用 浏览 这些 网站 可能 产生 费用 风险 由 使用者 自行 承担 本 公司 关于 本 报告 提示 包括 但 不 限于 本 公司 工作人员 通过 电话 短信 邮件 微信 微博 博客 QQ 视频 网站 百度 官方 贴 吧 论坛 BBS 仅为 研究 观点 简要 沟通 投资者 对本 报告 参考 使用 须 以本 报告 完整 版本 为准 本 报告 版权 仅 为 本 公司 所有 未经 本 公司 书面 许可 任何 机构 或 个人 不得 以 翻版 复制 发表 引用 或 再次 分发 他人 等 任何 形式 侵犯 本 公司版权 如征 得本 公司 同意 进行 引用 刊发 需在 允许 范围 内 使用 并 注明 出处 为 “ 西部 证券 研究 发展 中心 ” 且 不得 对本 报告 进行 任何 有悖 原意 引用 删节 修改 如 未经 西部 证券 授权 私自 转载 或者 转发 本 报告 所 引起 一切 后果 及 法律责任 由 私自 转载 或 转发 者 承担 本 公司 保留 追究 相关 责任 权力 所有 本 报告 中 使用 商标 服务 标记 及 标记 均 为 本 公司 商标 服务 标记 及 标记 本 公司 具有 中国证监会 核准 “ 证券 投资 咨询 ” 业务 资格 经营 许可证 编号 为 91610000719782242D 29 请 务必 仔细阅读 报告 尾部 重要 声明\n",
      "Category: 1\n"
     ]
    }
   ],
   "source": [
    "# print one sample\n",
    "def print_data(index):\n",
    "    example = df[df.index == index][['data', 'target']].values[0]\n",
    "    if len(example) > 0:\n",
    "        print(example[0])\n",
    "        print('Category:', example[1])\n",
    "\n",
    "print_data(100)"
   ]
  },
  {
   "cell_type": "code",
   "execution_count": 22,
   "metadata": {},
   "outputs": [],
   "source": [
    "df_backup = df"
   ]
  },
  {
   "cell_type": "code",
   "execution_count": 168,
   "metadata": {},
   "outputs": [
    {
     "data": {
      "text/plain": [
       "中性    2000\n",
       "买入    2000\n",
       "Name: target_names, dtype: int64"
      ]
     },
     "execution_count": 168,
     "metadata": {},
     "output_type": "execute_result"
    }
   ],
   "source": [
    "# sampling只是为了找小一点的样本，训练速度快一些，来找问题。\n",
    "# LSTM 0.759 的结果是使用全部数据2.4万训练得来的\n",
    "df_type1 = df_backup.loc[((df_backup['target']==1))].sample(n = 2000)\n",
    "df_type0 = df_backup.loc[((df_backup['target']==0))].sample(n = 2000)\n",
    "df = pd.concat([df_type1, df_type0])\n",
    "df = df.reset_index(drop=True)\n",
    "df.target_names.value_counts()"
   ]
  },
  {
   "cell_type": "code",
   "execution_count": 170,
   "metadata": {},
   "outputs": [
    {
     "data": {
      "text/html": [
       "<div>\n",
       "<style scoped>\n",
       "    .dataframe tbody tr th:only-of-type {\n",
       "        vertical-align: middle;\n",
       "    }\n",
       "\n",
       "    .dataframe tbody tr th {\n",
       "        vertical-align: top;\n",
       "    }\n",
       "\n",
       "    .dataframe thead th {\n",
       "        text-align: right;\n",
       "    }\n",
       "</style>\n",
       "<table border=\"1\" class=\"dataframe\">\n",
       "  <thead>\n",
       "    <tr style=\"text-align: right;\">\n",
       "      <th></th>\n",
       "      <th>data</th>\n",
       "      <th>target_names</th>\n",
       "      <th>target</th>\n",
       "    </tr>\n",
       "  </thead>\n",
       "  <tbody>\n",
       "    <tr>\n",
       "      <th>0</th>\n",
       "      <td>\\n  \\n仅供机构投资者使用 \\n证券研究报告 |公司点评报告 \\n [Table_2 ...</td>\n",
       "      <td>买入</td>\n",
       "      <td>1</td>\n",
       "    </tr>\n",
       "    <tr>\n",
       "      <th>1</th>\n",
       "      <td>\\n \\n公司报告 | 年报点评报告 \\n  \\n海尔智家（600690） 证券研究报告 ...</td>\n",
       "      <td>买入</td>\n",
       "      <td>1</td>\n",
       "    </tr>\n",
       "    <tr>\n",
       "      <th>2</th>\n",
       "      <td>\\n5[Table_Message2]0 20-04-21 \\n \\n公司点评报告 \\n公...</td>\n",
       "      <td>买入</td>\n",
       "      <td>1</td>\n",
       "    </tr>\n",
       "    <tr>\n",
       "      <th>3</th>\n",
       "      <td>\\n \\n证券研究报告 \\n公司研究/年报点评 \\n2020年04月16日 建筑/建筑装饰...</td>\n",
       "      <td>买入</td>\n",
       "      <td>1</td>\n",
       "    </tr>\n",
       "    <tr>\n",
       "      <th>4</th>\n",
       "      <td>\\n \\n \\n[T[Tabablel_e_MTaitinleI]n fo] [T abl...</td>\n",
       "      <td>买入</td>\n",
       "      <td>1</td>\n",
       "    </tr>\n",
       "    <tr>\n",
       "      <th>...</th>\n",
       "      <td>...</td>\n",
       "      <td>...</td>\n",
       "      <td>...</td>\n",
       "    </tr>\n",
       "    <tr>\n",
       "      <th>3995</th>\n",
       "      <td>\\n  \\nTable_BaseI nfo \\nTable_Tti le \\n2020 年...</td>\n",
       "      <td>中性</td>\n",
       "      <td>0</td>\n",
       "    </tr>\n",
       "    <tr>\n",
       "      <th>3996</th>\n",
       "      <td>[Table_Industry]   \\n \\n证券研究报告/公司点评 2020 年 07 ...</td>\n",
       "      <td>中性</td>\n",
       "      <td>0</td>\n",
       "    </tr>\n",
       "    <tr>\n",
       "      <th>3997</th>\n",
       "      <td>\\n\\n汽车 \\n\\n报告原因：半年报点评 \\n2020 年 8 月 27 日 \\n\\n ...</td>\n",
       "      <td>中性</td>\n",
       "      <td>0</td>\n",
       "    </tr>\n",
       "    <tr>\n",
       "      <th>3998</th>\n",
       "      <td>\\n舍得酒业 600702.SH  \\n \\n舍得升级沱牌复兴，机制改革效率提升  \\n ...</td>\n",
       "      <td>中性</td>\n",
       "      <td>0</td>\n",
       "    </tr>\n",
       "    <tr>\n",
       "      <th>3999</th>\n",
       "      <td>\\n【温馨提示】请勿将华西证券研究 报告转发给他人 p1\\n仅供机构投资者使用 \\n证券研...</td>\n",
       "      <td>中性</td>\n",
       "      <td>0</td>\n",
       "    </tr>\n",
       "  </tbody>\n",
       "</table>\n",
       "<p>4000 rows × 3 columns</p>\n",
       "</div>"
      ],
      "text/plain": [
       "                                                   data target_names  target\n",
       "0      \\n  \\n仅供机构投资者使用 \\n证券研究报告 |公司点评报告 \\n [Table_2 ...           买入       1\n",
       "1      \\n \\n公司报告 | 年报点评报告 \\n  \\n海尔智家（600690） 证券研究报告 ...           买入       1\n",
       "2      \\n5[Table_Message2]0 20-04-21 \\n \\n公司点评报告 \\n公...           买入       1\n",
       "3      \\n \\n证券研究报告 \\n公司研究/年报点评 \\n2020年04月16日 建筑/建筑装饰...           买入       1\n",
       "4      \\n \\n \\n[T[Tabablel_e_MTaitinleI]n fo] [T abl...           买入       1\n",
       "...                                                 ...          ...     ...\n",
       "3995   \\n  \\nTable_BaseI nfo \\nTable_Tti le \\n2020 年...           中性       0\n",
       "3996  [Table_Industry]   \\n \\n证券研究报告/公司点评 2020 年 07 ...           中性       0\n",
       "3997   \\n\\n汽车 \\n\\n报告原因：半年报点评 \\n2020 年 8 月 27 日 \\n\\n ...           中性       0\n",
       "3998   \\n舍得酒业 600702.SH  \\n \\n舍得升级沱牌复兴，机制改革效率提升  \\n ...           中性       0\n",
       "3999   \\n【温馨提示】请勿将华西证券研究 报告转发给他人 p1\\n仅供机构投资者使用 \\n证券研...           中性       0\n",
       "\n",
       "[4000 rows x 3 columns]"
      ]
     },
     "execution_count": 170,
     "metadata": {},
     "output_type": "execute_result"
    }
   ],
   "source": [
    "df_sample = df\n",
    "df_sample"
   ]
  },
  {
   "cell_type": "code",
   "execution_count": 171,
   "metadata": {},
   "outputs": [],
   "source": [
    "df.to_csv(r'../data/data_sample.csv',header=True,index=None)\n"
   ]
  },
  {
   "cell_type": "code",
   "execution_count": 172,
   "metadata": {},
   "outputs": [],
   "source": [
    "df = df_sample\n",
    "file_name = '../data/dict.txt'\n",
    "# 自定义词汇\n",
    "jieba.load_userdict(file_name) \n",
    "# 标点\n",
    "REPLACE_BY_SPACE_RE = re.compile('[/(){}\\[\\]\\|@,;.。%-]')\n",
    "# 停止词（未完）\n",
    "STOPWORDS = {\"的\",\"和\",\"\\n\",\" \"} \n",
    "def clean_text(text):\n",
    "    text = REPLACE_BY_SPACE_RE.sub(' ', text) # 移除标点\n",
    "    text = re.compile('[，（）%％《》、:：]').sub(' ', text) # 移除中文标点\n",
    "#     text = ''.join(re.findall(r'[\\u4e00-\\u9fa5]', text)) # 只留中文词\n",
    "    wordlist = jieba.lcut(text, cut_all=False) # 分词\n",
    "    text = ' '.join(word for word in wordlist if word not in STOPWORDS) # 移除停止词并合并\n",
    "    text = text.replace('\\n','') # 移除特殊字符\n",
    "    text = text.replace('\\0', '')\n",
    "    text = text.replace('\\t', ' ')\n",
    "    return text\n",
    "\n",
    "df['data'] = df['data'].apply(clean_text)\n",
    "# df['data'] = df['data'].str.replace('\\d+', '') # 移除所有数字"
   ]
  },
  {
   "cell_type": "code",
   "execution_count": 173,
   "metadata": {},
   "outputs": [
    {
     "data": {
      "text/html": [
       "<div>\n",
       "<style scoped>\n",
       "    .dataframe tbody tr th:only-of-type {\n",
       "        vertical-align: middle;\n",
       "    }\n",
       "\n",
       "    .dataframe tbody tr th {\n",
       "        vertical-align: top;\n",
       "    }\n",
       "\n",
       "    .dataframe thead th {\n",
       "        text-align: right;\n",
       "    }\n",
       "</style>\n",
       "<table border=\"1\" class=\"dataframe\">\n",
       "  <thead>\n",
       "    <tr style=\"text-align: right;\">\n",
       "      <th></th>\n",
       "      <th>target</th>\n",
       "      <th>data</th>\n",
       "    </tr>\n",
       "  </thead>\n",
       "  <tbody>\n",
       "    <tr>\n",
       "      <th>0</th>\n",
       "      <td>1</td>\n",
       "      <td>仅供机构投资者使用 证券研究报告 |公司点评报告  [Table_2 D0a2t0 e...</td>\n",
       "    </tr>\n",
       "    <tr>\n",
       "      <th>1</th>\n",
       "      <td>1</td>\n",
       "      <td>公司报告 | 年报点评报告   海尔智家（600690） 证券研究报告  2020 年 ...</td>\n",
       "    </tr>\n",
       "    <tr>\n",
       "      <th>2</th>\n",
       "      <td>1</td>\n",
       "      <td>5[Table_Message2]0 20-04-21  公司点评报告 公 买入/维持 司...</td>\n",
       "    </tr>\n",
       "    <tr>\n",
       "      <th>3</th>\n",
       "      <td>1</td>\n",
       "      <td>证券研究报告 公司研究/年报点评 2020年04月16日 建筑/建筑装饰Ⅱ  投资评级：...</td>\n",
       "    </tr>\n",
       "    <tr>\n",
       "      <th>4</th>\n",
       "      <td>1</td>\n",
       "      <td>[T[Tabablel_e_MTaitinleI]n fo] [T able_Inve...</td>\n",
       "    </tr>\n",
       "  </tbody>\n",
       "</table>\n",
       "</div>"
      ],
      "text/plain": [
       "   target                                               data\n",
       "0       1     仅供机构投资者使用 证券研究报告 |公司点评报告  [Table_2 D0a2t0 e...\n",
       "1       1    公司报告 | 年报点评报告   海尔智家（600690） 证券研究报告  2020 年 ...\n",
       "2       1   5[Table_Message2]0 20-04-21  公司点评报告 公 买入/维持 司...\n",
       "3       1    证券研究报告 公司研究/年报点评 2020年04月16日 建筑/建筑装饰Ⅱ  投资评级：...\n",
       "4       1     [T[Tabablel_e_MTaitinleI]n fo] [T able_Inve..."
      ]
     },
     "execution_count": 173,
     "metadata": {},
     "output_type": "execute_result"
    },
    {
     "data": {
      "text/html": [
       "<div>\n",
       "<style scoped>\n",
       "    .dataframe tbody tr th:only-of-type {\n",
       "        vertical-align: middle;\n",
       "    }\n",
       "\n",
       "    .dataframe tbody tr th {\n",
       "        vertical-align: top;\n",
       "    }\n",
       "\n",
       "    .dataframe thead th {\n",
       "        text-align: right;\n",
       "    }\n",
       "</style>\n",
       "<table border=\"1\" class=\"dataframe\">\n",
       "  <thead>\n",
       "    <tr style=\"text-align: right;\">\n",
       "      <th></th>\n",
       "      <th>target</th>\n",
       "      <th>data</th>\n",
       "    </tr>\n",
       "  </thead>\n",
       "  <tbody>\n",
       "    <tr>\n",
       "      <th>column type</th>\n",
       "      <td>int64</td>\n",
       "      <td>object</td>\n",
       "    </tr>\n",
       "    <tr>\n",
       "      <th>null values (nb)</th>\n",
       "      <td>0</td>\n",
       "      <td>0</td>\n",
       "    </tr>\n",
       "    <tr>\n",
       "      <th>null values (%)</th>\n",
       "      <td>0</td>\n",
       "      <td>0</td>\n",
       "    </tr>\n",
       "  </tbody>\n",
       "</table>\n",
       "</div>"
      ],
      "text/plain": [
       "                 target    data\n",
       "column type       int64  object\n",
       "null values (nb)      0       0\n",
       "null values (%)       0       0"
      ]
     },
     "execution_count": 173,
     "metadata": {},
     "output_type": "execute_result"
    },
    {
     "name": "stdout",
     "output_type": "stream",
     "text": [
      "Empty data count:  17\n",
      "Empty data removed.  0\n"
     ]
    }
   ],
   "source": [
    "df = df[['target', 'data']]\n",
    "df.head()\n",
    "table_info(df)\n",
    "print(\"Empty data count: \", len(df.loc[df['data']==\"\"])) # 空字符串\n",
    "df = df[df['data']!=\"\"]\n",
    "print(\"Empty data removed. \", len(df.loc[df['data']==\"\"]))"
   ]
  },
  {
   "cell_type": "markdown",
   "metadata": {},
   "source": [
    "## Train/test split"
   ]
  },
  {
   "cell_type": "code",
   "execution_count": 174,
   "metadata": {},
   "outputs": [],
   "source": [
    "train_index = np.random.rand(len(df)) < 0.8\n",
    "test_index = ~train_index\n",
    "\n",
    "\n",
    "df_train_val = df[train_index].reset_index(drop=True)\n",
    "df_test = df[test_index].reset_index(drop=True) # get 20% as testing data"
   ]
  },
  {
   "cell_type": "code",
   "execution_count": 175,
   "metadata": {},
   "outputs": [],
   "source": [
    "train_index = np.random.rand(len(df_train_val)) < 0.8\n",
    "val_index = ~train_index\n",
    "\n",
    "df_train = df_train_val[train_index].reset_index(drop=True) # get 64% as training data\n",
    "df_val = df_train_val[val_index].reset_index(drop=True) # get 16% as validation data "
   ]
  },
  {
   "cell_type": "code",
   "execution_count": 176,
   "metadata": {},
   "outputs": [
    {
     "data": {
      "text/plain": [
       "2540"
      ]
     },
     "execution_count": 176,
     "metadata": {},
     "output_type": "execute_result"
    },
    {
     "data": {
      "text/plain": [
       "775"
      ]
     },
     "execution_count": 176,
     "metadata": {},
     "output_type": "execute_result"
    },
    {
     "data": {
      "text/plain": [
       "668"
      ]
     },
     "execution_count": 176,
     "metadata": {},
     "output_type": "execute_result"
    }
   ],
   "source": [
    "len(df_train)\n",
    "len(df_test)\n",
    "len(df_val)"
   ]
  },
  {
   "cell_type": "markdown",
   "metadata": {},
   "source": [
    "### save train test val split for bert"
   ]
  },
  {
   "cell_type": "code",
   "execution_count": 178,
   "metadata": {},
   "outputs": [],
   "source": [
    "df_train.to_csv(r'../data/train.csv',\n",
    "          header=False,\n",
    "          index=None,  \n",
    "          encoding='utf_8_sig', \n",
    "          sep='\\t')\n",
    "df_test.to_csv(r'../data/test.csv',\n",
    "          header=False,\n",
    "          index=None,  \n",
    "          encoding='utf_8_sig', \n",
    "          sep='\\t')\n",
    "df_val.to_csv(r'../data/val.csv',\n",
    "          header=False,\n",
    "          index=None,  \n",
    "          encoding='utf_8_sig', \n",
    "          sep='\\t')"
   ]
  },
  {
   "cell_type": "code",
   "execution_count": 179,
   "metadata": {},
   "outputs": [
    {
     "data": {
      "text/html": [
       "<div>\n",
       "<style scoped>\n",
       "    .dataframe tbody tr th:only-of-type {\n",
       "        vertical-align: middle;\n",
       "    }\n",
       "\n",
       "    .dataframe tbody tr th {\n",
       "        vertical-align: top;\n",
       "    }\n",
       "\n",
       "    .dataframe thead th {\n",
       "        text-align: right;\n",
       "    }\n",
       "</style>\n",
       "<table border=\"1\" class=\"dataframe\">\n",
       "  <thead>\n",
       "    <tr style=\"text-align: right;\">\n",
       "      <th></th>\n",
       "      <th>0</th>\n",
       "      <th>1</th>\n",
       "    </tr>\n",
       "  </thead>\n",
       "  <tbody>\n",
       "    <tr>\n",
       "      <th>0</th>\n",
       "      <td>1</td>\n",
       "      <td>仅供机构投资者使用 证券研究报告 |公司点评报告  [Table_2 D0a2t0 e...</td>\n",
       "    </tr>\n",
       "    <tr>\n",
       "      <th>1</th>\n",
       "      <td>1</td>\n",
       "      <td>[Table_Message]2 020-08-14  公司研究报告 公 买入/维持 司研...</td>\n",
       "    </tr>\n",
       "    <tr>\n",
       "      <th>2</th>\n",
       "      <td>1</td>\n",
       "      <td>2020 年 3 月 3 日      长春高新（000661.SZ） 医药...</td>\n",
       "    </tr>\n",
       "    <tr>\n",
       "      <th>3</th>\n",
       "      <td>1</td>\n",
       "      <td>[新Tab易le_盛Titl(e]3 00502) 公司研究/点评报告 业绩创新高，5G+...</td>\n",
       "    </tr>\n",
       "    <tr>\n",
       "      <th>4</th>\n",
       "      <td>1</td>\n",
       "      <td>Tabel _BaseI nof  Table_Tit el  2020 年 07 月...</td>\n",
       "    </tr>\n",
       "  </tbody>\n",
       "</table>\n",
       "</div>"
      ],
      "text/plain": [
       "   0                                                  1\n",
       "0  1     仅供机构投资者使用 证券研究报告 |公司点评报告  [Table_2 D0a2t0 e...\n",
       "1  1   [Table_Message]2 020-08-14  公司研究报告 公 买入/维持 司研...\n",
       "2  1          2020 年 3 月 3 日      长春高新（000661.SZ） 医药...\n",
       "3  1   [新Tab易le_盛Titl(e]3 00502) 公司研究/点评报告 业绩创新高，5G+...\n",
       "4  1     Tabel _BaseI nof  Table_Tit el  2020 年 07 月..."
      ]
     },
     "execution_count": 179,
     "metadata": {},
     "output_type": "execute_result"
    },
    {
     "data": {
      "text/html": [
       "<div>\n",
       "<style scoped>\n",
       "    .dataframe tbody tr th:only-of-type {\n",
       "        vertical-align: middle;\n",
       "    }\n",
       "\n",
       "    .dataframe tbody tr th {\n",
       "        vertical-align: top;\n",
       "    }\n",
       "\n",
       "    .dataframe thead th {\n",
       "        text-align: right;\n",
       "    }\n",
       "</style>\n",
       "<table border=\"1\" class=\"dataframe\">\n",
       "  <thead>\n",
       "    <tr style=\"text-align: right;\">\n",
       "      <th></th>\n",
       "      <th>0</th>\n",
       "      <th>1</th>\n",
       "    </tr>\n",
       "  </thead>\n",
       "  <tbody>\n",
       "    <tr>\n",
       "      <th>column type</th>\n",
       "      <td>int64</td>\n",
       "      <td>object</td>\n",
       "    </tr>\n",
       "    <tr>\n",
       "      <th>null values (nb)</th>\n",
       "      <td>0</td>\n",
       "      <td>0</td>\n",
       "    </tr>\n",
       "    <tr>\n",
       "      <th>null values (%)</th>\n",
       "      <td>0</td>\n",
       "      <td>0</td>\n",
       "    </tr>\n",
       "  </tbody>\n",
       "</table>\n",
       "</div>"
      ],
      "text/plain": [
       "                      0       1\n",
       "column type       int64  object\n",
       "null values (nb)      0       0\n",
       "null values (%)       0       0"
      ]
     },
     "execution_count": 179,
     "metadata": {},
     "output_type": "execute_result"
    },
    {
     "data": {
      "text/plain": [
       "775"
      ]
     },
     "execution_count": 179,
     "metadata": {},
     "output_type": "execute_result"
    }
   ],
   "source": [
    "df_test2 = pd.read_csv(r'../data/test.csv',header=None,sep='\\t')\n",
    "df_test2.head()\n",
    "table_info(df_test2)\n",
    "len(df_test2)"
   ]
  },
  {
   "cell_type": "code",
   "execution_count": 180,
   "metadata": {},
   "outputs": [
    {
     "data": {
      "text/html": [
       "<div>\n",
       "<style scoped>\n",
       "    .dataframe tbody tr th:only-of-type {\n",
       "        vertical-align: middle;\n",
       "    }\n",
       "\n",
       "    .dataframe tbody tr th {\n",
       "        vertical-align: top;\n",
       "    }\n",
       "\n",
       "    .dataframe thead th {\n",
       "        text-align: right;\n",
       "    }\n",
       "</style>\n",
       "<table border=\"1\" class=\"dataframe\">\n",
       "  <thead>\n",
       "    <tr style=\"text-align: right;\">\n",
       "      <th></th>\n",
       "      <th>0</th>\n",
       "      <th>1</th>\n",
       "    </tr>\n",
       "  </thead>\n",
       "  <tbody>\n",
       "  </tbody>\n",
       "</table>\n",
       "</div>"
      ],
      "text/plain": [
       "Empty DataFrame\n",
       "Columns: [0, 1]\n",
       "Index: []"
      ]
     },
     "execution_count": 180,
     "metadata": {},
     "output_type": "execute_result"
    }
   ],
   "source": [
    "def audit_null(df): \n",
    "    return df[df.isnull().any(axis=1)]\n",
    "\n",
    "audit_null(df_test2)"
   ]
  },
  {
   "cell_type": "markdown",
   "metadata": {},
   "source": [
    "## jieba library functions"
   ]
  },
  {
   "cell_type": "code",
   "execution_count": 85,
   "metadata": {},
   "outputs": [
    {
     "name": "stderr",
     "output_type": "stream",
     "text": [
      "Building prefix dict from the default dictionary ...\n",
      "Dumping model to file cache C:\\Users\\idgca\\AppData\\Local\\Temp\\jieba.cache\n",
      "Loading model cost 0.718 seconds.\n",
      "Prefix dict has been built successfully.\n"
     ]
    },
    {
     "name": "stdout",
     "output_type": "stream",
     "text": [
      "<Text: 公司 报告 年报 点评 报告 中科 创达 证券...>\n"
     ]
    }
   ],
   "source": [
    "wordlist = jieba.lcut(temp)\n",
    "text = nltk.Text(wordlist)\n",
    "print(text)"
   ]
  },
  {
   "cell_type": "code",
   "execution_count": 88,
   "metadata": {},
   "outputs": [
    {
     "name": "stdout",
     "output_type": "stream",
     "text": [
      "Displaying 10 of 33 matches:\n",
      "公司 报告 年报 点评 报告\n",
      "报告 年报 点评 报告 中科 创达 证券\n",
      "创达 证券 研究 报告 年月日 投资 评\n",
      "贝格 数据 相关 报告 中科 创达 季报\n",
      "免责 申明 公司 报告 年报 点评 报告\n",
      "报告 年报 点评 报告 财务 预测 摘要\n",
      "免责 申明 公司 报告 年报 点评 报告\n",
      "报告 年报 点评 报告 分析师 声明 本\n",
      "分析师 声明 本 报告 署名 分析师 在\n",
      " 胜任 能力 本 报告 所 表述 的 所\n"
     ]
    }
   ],
   "source": [
    "# 搜索上下文\n",
    "text.concordance(word='报告',width=20,lines=10)"
   ]
  },
  {
   "cell_type": "code",
   "execution_count": 92,
   "metadata": {},
   "outputs": [
    {
     "name": "stdout",
     "output_type": "stream",
     "text": [
      "No common contexts were found\n"
     ]
    },
    {
     "data": {
      "text/plain": [
       "33"
      ]
     },
     "execution_count": 92,
     "metadata": {},
     "output_type": "execute_result"
    }
   ],
   "source": [
    "# 搜索共同上下文\n",
    "text.common_contexts(['报告','公司'])\n",
    "# 统计词频\n",
    "text.count(word='报告')"
   ]
  },
  {
   "cell_type": "code",
   "execution_count": 94,
   "metadata": {},
   "outputs": [
    {
     "data": {
      "image/png": "[encoded data removed]",
      "text/plain": [
       "<Figure size 432x288 with 1 Axes>"
      ]
     },
     "metadata": {
      "needs_background": "light"
     },
     "output_type": "display_data"
    }
   ],
   "source": [
    "# 离散图\n",
    "words=['公司','报告']\n",
    "text.dispersion_plot(words)"
   ]
  },
  {
   "cell_type": "code",
   "execution_count": 97,
   "metadata": {},
   "outputs": [
    {
     "name": "stdout",
     "output_type": "stream",
     "text": [
      "发布\n",
      "报告 1.0\n",
      "发布 0.08333333333333333\n"
     ]
    }
   ],
   "source": [
    "# 计算词汇相似度\n",
    "text.similar(word='报告',num=10)\n",
    "\n",
    "from nltk.text import ContextIndex\n",
    "contentindex = ContextIndex(wordlist)\n",
    "similarity_scores = contentindex.word_similarity_dict(word='报告')\n",
    "for key,value in similarity_scores.items():\n",
    "    if value>0.02:\n",
    "        print(key,value)"
   ]
  },
  {
   "cell_type": "markdown",
   "metadata": {},
   "source": [
    "## Tokenize documents"
   ]
  },
  {
   "cell_type": "code",
   "execution_count": 183,
   "metadata": {},
   "outputs": [
    {
     "name": "stdout",
     "output_type": "stream",
     "text": [
      "Found 595390 unique tokens.\n"
     ]
    }
   ],
   "source": [
    "# 词汇量最大值\n",
    "MAX_NO_WORDS = 10000\n",
    "EMBEDDING_DIM = 100\n",
    "tokenizer = Tokenizer( filters='!\"#$%&()*+,-./:;<=>?@[\\]^_`{|}~', lower=True, num_words=MAX_NO_WORDS) #num_words=MAX_NB_WORDS,\n",
    "tokenizer.fit_on_texts(df['data'].values)\n",
    "word_index = tokenizer.word_index\n",
    "print('Found %s unique tokens.' % len(word_index))"
   ]
  },
  {
   "cell_type": "markdown",
   "metadata": {},
   "source": [
    "## Save processed data to csv"
   ]
  },
  {
   "cell_type": "code",
   "execution_count": 184,
   "metadata": {},
   "outputs": [],
   "source": [
    "df.to_csv(r'../data/cleaned.csv',header=True,index=None)"
   ]
  },
  {
   "cell_type": "code",
   "execution_count": 185,
   "metadata": {},
   "outputs": [
    {
     "data": {
      "text/plain": [
       "0        829\n",
       "1       1290\n",
       "2        611\n",
       "3       1353\n",
       "4       1689\n",
       "        ... \n",
       "3995    1486\n",
       "3996     912\n",
       "3997     962\n",
       "3998    1307\n",
       "3999    1449\n",
       "Name: word_count, Length: 3983, dtype: int64"
      ]
     },
     "execution_count": 185,
     "metadata": {},
     "output_type": "execute_result"
    }
   ],
   "source": [
    "def count_text(text):\n",
    "    return len(text.split(' '))\n",
    "    \n",
    "df['word_count'] = df.data.apply(count_text) # 新加一栏词汇量\n",
    "df['word_count']"
   ]
  },
  {
   "cell_type": "code",
   "execution_count": 186,
   "metadata": {},
   "outputs": [
    {
     "data": {
      "text/plain": [
       "1599.4903339191565"
      ]
     },
     "execution_count": 186,
     "metadata": {},
     "output_type": "execute_result"
    }
   ],
   "source": [
    "np.mean(df['word_count']) # each document has average 1600 words after processing "
   ]
  },
  {
   "cell_type": "markdown",
   "metadata": {},
   "source": [
    "## Get train test datasets"
   ]
  },
  {
   "cell_type": "code",
   "execution_count": 187,
   "metadata": {},
   "outputs": [],
   "source": [
    "X = tokenizer.texts_to_sequences(df['data'].values)\n"
   ]
  },
  {
   "cell_type": "code",
   "execution_count": 188,
   "metadata": {},
   "outputs": [
    {
     "name": "stdout",
     "output_type": "stream",
     "text": [
      "Shape of data tensor: (3983, 500)\n"
     ]
    }
   ],
   "source": [
    "# Max number of words in each document.\n",
    "MAX_SEQUENCE_LENGTH = 500\n",
    "X = pad_sequences(X, maxlen=MAX_SEQUENCE_LENGTH) \n",
    "print('Shape of data tensor:', X.shape)"
   ]
  },
  {
   "cell_type": "code",
   "execution_count": 189,
   "metadata": {},
   "outputs": [
    {
     "name": "stdout",
     "output_type": "stream",
     "text": [
      "Shape of label tensor: (3983, 2)\n",
      "Shape of label tensor: (3983,)\n"
     ]
    }
   ],
   "source": [
    "Y = pd.get_dummies(df['target']).values\n",
    "Y_single = df['target']\n",
    "print('Shape of label tensor:', Y.shape)\n",
    "print('Shape of label tensor:', Y_single.shape)"
   ]
  },
  {
   "cell_type": "markdown",
   "metadata": {},
   "source": [
    "\n",
    "## Train test split"
   ]
  },
  {
   "cell_type": "code",
   "execution_count": 190,
   "metadata": {},
   "outputs": [
    {
     "name": "stdout",
     "output_type": "stream",
     "text": [
      "(3186, 500) (3186, 2)\n",
      "(797, 500) (797, 2)\n"
     ]
    }
   ],
   "source": [
    "X_train, X_test, Y_train, Y_test = train_test_split(X,Y, test_size = 0.20, random_state = 42)\n",
    "print(X_train.shape,Y_train.shape)\n",
    "print(X_test.shape,Y_test.shape)"
   ]
  },
  {
   "cell_type": "markdown",
   "metadata": {},
   "source": [
    "## LSTM"
   ]
  },
  {
   "cell_type": "code",
   "execution_count": 191,
   "metadata": {},
   "outputs": [
    {
     "name": "stderr",
     "output_type": "stream",
     "text": [
      "C:\\Users\\idgca\\AppData\\Roaming\\Python\\Python38\\site-packages\\tensorflow\\python\\framework\\indexed_slices.py:433: UserWarning:\n",
      "\n",
      "Converting sparse IndexedSlices to a dense Tensor of unknown shape. This may consume a large amount of memory.\n",
      "\n"
     ]
    },
    {
     "name": "stdout",
     "output_type": "stream",
     "text": [
      "Train on 2867 samples, validate on 319 samples\n",
      "Epoch 1/5\n",
      "2867/2867 [==============================] - 30s 10ms/step - loss: 0.6581 - accuracy: 0.6217 - val_loss: 0.6224 - val_accuracy: 0.6411\n",
      "Epoch 2/5\n",
      "2867/2867 [==============================] - 29s 10ms/step - loss: 0.6058 - accuracy: 0.6697 - val_loss: 0.6222 - val_accuracy: 0.6552\n",
      "Epoch 3/5\n",
      "2867/2867 [==============================] - 29s 10ms/step - loss: 0.5929 - accuracy: 0.6761 - val_loss: 0.6179 - val_accuracy: 0.6536\n",
      "Epoch 4/5\n",
      "2867/2867 [==============================] - 29s 10ms/step - loss: 0.5828 - accuracy: 0.6849 - val_loss: 0.6243 - val_accuracy: 0.6724\n",
      "Epoch 5/5\n",
      "2867/2867 [==============================] - 29s 10ms/step - loss: 0.5848 - accuracy: 0.6842 - val_loss: 0.6251 - val_accuracy: 0.6661\n"
     ]
    }
   ],
   "source": [
    "def create_model(\n",
    "                units=100,\n",
    "                dropout=0.1,\n",
    "                recurrent_dropout=0.1,\n",
    "                loss='binary_crossentropy',\n",
    "                optimizer='adam',\n",
    "                dense_units=2,\n",
    "                activation='sigmoid'\n",
    "                ):\n",
    "    model = Sequential()\n",
    "    model.add(Embedding(MAX_NB_WORDS, EMBEDDING_DIM, input_length=X.shape[1]))\n",
    "    model.add(SpatialDropout1D(0.2))\n",
    "    # units: Positive integer, dimensionality of the output space.\n",
    "    # dropout: Float between 0 and 1. Fraction of the units to drop for the linear transformation of the inputs\n",
    "    # recurrent_dropout: Float between 0 and 1. Fraction of the units to drop for the linear transformation of the recurrent state\n",
    "    model.add(LSTM(units, dropout=dropout, recurrent_dropout=recurrent_dropout))\n",
    "    # units: Positive integer, dimensionality of the output space\n",
    "    model.add(Dense(dense_units, activation=activation))\n",
    "    model.compile(loss=loss, optimizer=optimizer, metrics=['accuracy'])\n",
    "    return model\n",
    "\n",
    "epochs = 5\n",
    "batch_size = 64\n",
    "\n",
    "# # wrap into a scikit learn model for pipelining the process\n",
    "# clf = KerasRegressor(build_fn=create_model, verbose=0, epochs=epochs, batch_size=batch_size,validation_split=0.1,callbacks=[EarlyStopping(monitor='val_loss', patience=3, min_delta=0.0001)])\n",
    "\n",
    "# # for piplining the process\n",
    "# pipeline = Pipeline([\n",
    "#     ('clf',clf)\n",
    "# ])\n",
    "\n",
    "# history = pipeline.fit(X_train, Y_train)\n",
    "\n",
    "history = create_model().fit(X_train, Y_train, epochs=epochs, batch_size=batch_size,validation_split=0.1,callbacks=[EarlyStopping(monitor='val_loss', patience=3, min_delta=0.0001)])"
   ]
  },
  {
   "cell_type": "markdown",
   "metadata": {},
   "source": [
    "## Train Results:\n",
    "0. full data (24k), all preprocessing steps, 3 epochs\n",
    "    1. val_accuracy: **0.7629**\n",
    "    2. test_accuracy: **0.759**\n",
    "    3. naive_base: **0.817**\n",
    "    \n",
    "1. sample data (2k) includes numbers, added a few stop words and common phrases, 3 epoch\n",
    "    1. sample data only includes 2 cases\n",
    "    2. val_accuracy: 0.7688\n",
    "    3. test_accuracy: 0.565\n",
    "    4. naive_base: 0.575\n",
    "    \n",
    "2. sample data (2k) removes numbers, 3 epoch\n",
    "    1. val_accuracy: 0.7437\n",
    "    3. test_accuracy: 0.499\n",
    "    4. naive_base: 0.65\n",
    "3. sample data (2k) no processing, 3 epoch\n",
    "    1. val_accuracy: 0.7500\n",
    "    3. test_accuracy: 0.526\n",
    "    4. naive_base: 0.585"
   ]
  },
  {
   "cell_type": "code",
   "execution_count": 192,
   "metadata": {
    "scrolled": true
   },
   "outputs": [
    {
     "name": "stdout",
     "output_type": "stream",
     "text": [
      "797/797 [==============================] - 1s 2ms/step\n",
      "Test set\n",
      "  Loss: 0.693\n",
      "  Accuracy: 0.511\n"
     ]
    }
   ],
   "source": [
    "# predicted = pipeline.predict(X_test)\n",
    "# # print('Test set\\n  Loss: {:0.3f}\\n  Accuracy: {:0.3f}'.format(predicted[0],predicted[1]))\n",
    "\n",
    "predicted = create_model().evaluate(X_test, Y_test)\n",
    "print('Test set\\n  Loss: {:0.3f}\\n  Accuracy: {:0.3f}'.format(predicted[0],predicted[1]))\n"
   ]
  },
  {
   "cell_type": "markdown",
   "metadata": {},
   "source": [
    "### plot training loss"
   ]
  },
  {
   "cell_type": "code",
   "execution_count": 193,
   "metadata": {},
   "outputs": [
    {
     "data": {
      "image/png": "[encoded data removed]",
      "text/plain": [
       "<Figure size 432x288 with 1 Axes>"
      ]
     },
     "metadata": {
      "needs_background": "light"
     },
     "output_type": "display_data"
    }
   ],
   "source": [
    "plt.title('Loss')\n",
    "plt.plot(history.history['loss'], label='train')\n",
    "plt.plot(history.history['val_loss'], label='test')\n",
    "plt.legend()\n",
    "plt.show();"
   ]
  },
  {
   "cell_type": "markdown",
   "metadata": {},
   "source": [
    "### plot training accuracy (slightly overfit after 4 epoch)"
   ]
  },
  {
   "cell_type": "code",
   "execution_count": 194,
   "metadata": {},
   "outputs": [
    {
     "data": {
      "image/png": "[encoded data removed]",
      "text/plain": [
       "<Figure size 432x288 with 1 Axes>"
      ]
     },
     "metadata": {
      "needs_background": "light"
     },
     "output_type": "display_data"
    }
   ],
   "source": [
    "plt.title('Accuracy')\n",
    "plt.plot(history.history['accuracy'], label='train')\n",
    "plt.plot(history.history['val_accuracy'], label='test')\n",
    "plt.legend()\n",
    "plt.show();"
   ]
  },
  {
   "cell_type": "markdown",
   "metadata": {},
   "source": [
    "## Naive base"
   ]
  },
  {
   "cell_type": "code",
   "execution_count": 195,
   "metadata": {},
   "outputs": [],
   "source": [
    "# pipeline\n",
    "text_clf_nb = Pipeline([\n",
    "                        ('vect', CountVectorizer(lowercase=False)), \n",
    "                     ('tfidf', TfidfTransformer()),\n",
    "                     ('clf', MultinomialNB(alpha=0.01)), \n",
    "                    ])"
   ]
  },
  {
   "cell_type": "code",
   "execution_count": 196,
   "metadata": {},
   "outputs": [
    {
     "name": "stdout",
     "output_type": "stream",
     "text": [
      "(3186,) (3186,)\n",
      "(797,) (797,)\n"
     ]
    }
   ],
   "source": [
    "X_train, X_test, Y_single_train, Y_single_test = train_test_split(df['data'],df['target'], test_size = 0.20, random_state = 42)\n",
    "print(X_train.shape,Y_single_train.shape)\n",
    "print(X_test.shape,Y_single_test.shape)"
   ]
  },
  {
   "cell_type": "code",
   "execution_count": 197,
   "metadata": {},
   "outputs": [],
   "source": [
    "text_clf_nb = text_clf_nb.fit(X_train, Y_single_train)"
   ]
  },
  {
   "cell_type": "code",
   "execution_count": 198,
   "metadata": {},
   "outputs": [
    {
     "data": {
      "text/plain": [
       "0.7151819322459222"
      ]
     },
     "execution_count": 198,
     "metadata": {},
     "output_type": "execute_result"
    }
   ],
   "source": [
    "predicted = text_clf_nb.predict(X_test)\n",
    "np.mean(predicted == Y_single_test)"
   ]
  },
  {
   "cell_type": "code",
   "execution_count": null,
   "metadata": {},
   "outputs": [],
   "source": []
  }
 ],
 "metadata": {
  "kernelspec": {
   "display_name": "Python 3",
   "language": "python",
   "name": "python3"
  },
  "language_info": {
   "codemirror_mode": {
    "name": "ipython",
    "version": 3
   },
   "file_extension": ".py",
   "mimetype": "text/x-python",
   "name": "python",
   "nbconvert_exporter": "python",
   "pygments_lexer": "ipython3",
   "version": "3.8.5"
  }
 },
 "nbformat": 4,
 "nbformat_minor": 4
}
